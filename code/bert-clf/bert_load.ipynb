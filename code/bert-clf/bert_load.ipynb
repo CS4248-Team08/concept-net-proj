{
 "cells": [
  {
   "cell_type": "code",
   "execution_count": 19,
   "metadata": {
    "execution": {
     "iopub.execute_input": "2022-04-04T14:50:23.822771Z",
     "iopub.status.busy": "2022-04-04T14:50:23.822139Z",
     "iopub.status.idle": "2022-04-04T14:50:24.611906Z",
     "shell.execute_reply": "2022-04-04T14:50:24.610927Z",
     "shell.execute_reply.started": "2022-04-04T14:50:23.822742Z"
    }
   },
   "outputs": [
    {
     "name": "stdout",
     "output_type": "stream",
     "text": [
      "Mon Apr  4 14:50:24 2022       \n",
      "+-----------------------------------------------------------------------------+\n",
      "| NVIDIA-SMI 460.91.03    Driver Version: 460.91.03    CUDA Version: 11.6     |\n",
      "|-------------------------------+----------------------+----------------------+\n",
      "| GPU  Name        Persistence-M| Bus-Id        Disp.A | Volatile Uncorr. ECC |\n",
      "| Fan  Temp  Perf  Pwr:Usage/Cap|         Memory-Usage | GPU-Util  Compute M. |\n",
      "|                               |                      |               MIG M. |\n",
      "|===============================+======================+======================|\n",
      "|   0  Quadro RTX 5000     Off  | 00000000:00:05.0 Off |                  Off |\n",
      "| 33%   38C    P2    49W / 230W |   1830MiB / 16125MiB |      0%      Default |\n",
      "|                               |                      |                  N/A |\n",
      "+-------------------------------+----------------------+----------------------+\n",
      "                                                                               \n",
      "+-----------------------------------------------------------------------------+\n",
      "| Processes:                                                                  |\n",
      "|  GPU   GI   CI        PID   Type   Process name                  GPU Memory |\n",
      "|        ID   ID                                                   Usage      |\n",
      "|=============================================================================|\n",
      "+-----------------------------------------------------------------------------+\n"
     ]
    }
   ],
   "source": [
    "!nvidia-smi"
   ]
  },
  {
   "cell_type": "code",
   "execution_count": 20,
   "metadata": {
    "cell_id": "8782f65b-7fa2-41ab-af62-208e7d77b6a8",
    "deepnote_cell_height": 402.375,
    "deepnote_cell_type": "code",
    "deepnote_to_be_reexecuted": false,
    "execution": {
     "iopub.execute_input": "2022-04-04T14:50:24.613862Z",
     "iopub.status.busy": "2022-04-04T14:50:24.613667Z",
     "iopub.status.idle": "2022-04-04T14:50:24.618612Z",
     "shell.execute_reply": "2022-04-04T14:50:24.618026Z",
     "shell.execute_reply.started": "2022-04-04T14:50:24.613837Z"
    },
    "execution_millis": 1341,
    "execution_start": 1647940234336,
    "gradient": {
     "editing": true,
     "id": "9276c4c5-f974-41ed-a094-fca95a26f813",
     "kernelId": "bdad9f9f-f07c-45e1-9f7d-b89ce0615e8e"
    },
    "source_hash": "7545da41",
    "tags": []
   },
   "outputs": [],
   "source": [
    "import os\n",
    "import pickle\n",
    "import json\n",
    "\n",
    "import requests\n",
    "\n",
    "import numpy as np\n",
    "\n",
    "import pandas as pd\n",
    "\n",
    "import matplotlib.pyplot as plt\n",
    "\n",
    "from sklearn.metrics import confusion_matrix, ConfusionMatrixDisplay, classification_report\n",
    "\n",
    "import torch\n",
    "from torch import nn\n",
    "from torch.optim import Adam\n",
    "\n",
    "from transformers import BertTokenizer, BertModel\n",
    "\n",
    "from tqdm import tqdm"
   ]
  },
  {
   "cell_type": "code",
   "execution_count": 21,
   "metadata": {
    "cell_id": "62c21251-0d38-437b-9824-58165e7e1297",
    "deepnote_cell_height": 135,
    "deepnote_cell_type": "code",
    "deepnote_to_be_reexecuted": false,
    "execution": {
     "iopub.execute_input": "2022-04-04T14:50:24.619535Z",
     "iopub.status.busy": "2022-04-04T14:50:24.619387Z",
     "iopub.status.idle": "2022-04-04T14:50:24.623464Z",
     "shell.execute_reply": "2022-04-04T14:50:24.622803Z",
     "shell.execute_reply.started": "2022-04-04T14:50:24.619517Z"
    },
    "execution_millis": 21,
    "execution_start": 1647940235667,
    "gradient": {
     "editing": false,
     "id": "4e1d5978-b6c9-4325-9465-a702bb216bd6",
     "kernelId": "bdad9f9f-f07c-45e1-9f7d-b89ce0615e8e"
    },
    "source_hash": "80dcbe3d",
    "tags": []
   },
   "outputs": [],
   "source": [
    "np.random.seed(42)\n",
    "\n",
    "EPOCHS = 20\n",
    "BATCH_SIZE = 16\n",
    "LR = 1e-6"
   ]
  },
  {
   "cell_type": "markdown",
   "metadata": {
    "cell_id": "00002-237bd513-7ef7-4281-a517-334c886ebec0",
    "deepnote_cell_height": 70,
    "deepnote_cell_type": "markdown",
    "gradient": {
     "editing": false,
     "id": "1e2a904f-daca-4fa7-8efa-abac3e4422cb",
     "kernelId": "bdad9f9f-f07c-45e1-9f7d-b89ce0615e8e"
    }
   },
   "source": [
    "## Load Data"
   ]
  },
  {
   "cell_type": "code",
   "execution_count": 22,
   "metadata": {
    "cell_id": "351d5abf-84d3-4c51-bfc7-24b13b7e8143",
    "deepnote_cell_height": 81,
    "deepnote_cell_type": "code",
    "deepnote_to_be_reexecuted": false,
    "execution": {
     "iopub.execute_input": "2022-04-04T14:50:24.625536Z",
     "iopub.status.busy": "2022-04-04T14:50:24.624993Z",
     "iopub.status.idle": "2022-04-04T14:50:24.644487Z",
     "shell.execute_reply": "2022-04-04T14:50:24.643768Z",
     "shell.execute_reply.started": "2022-04-04T14:50:24.625513Z"
    },
    "execution_millis": 130,
    "execution_start": 1647940235689,
    "gradient": {
     "editing": false,
     "id": "e3add54d-4830-4852-955a-9598444a7a68",
     "kernelId": "bdad9f9f-f07c-45e1-9f7d-b89ce0615e8e"
    },
    "source_hash": "9f9d0840",
    "tags": []
   },
   "outputs": [],
   "source": [
    "paths = pickle.load(open('data/science/paths.pkl', 'rb'))"
   ]
  },
  {
   "cell_type": "code",
   "execution_count": 23,
   "metadata": {
    "cell_id": "ec0bc867-20b2-4028-bbf7-2b17c345b782",
    "deepnote_cell_height": 351,
    "deepnote_cell_type": "code",
    "deepnote_to_be_reexecuted": false,
    "execution": {
     "iopub.execute_input": "2022-04-04T14:50:24.645712Z",
     "iopub.status.busy": "2022-04-04T14:50:24.645565Z",
     "iopub.status.idle": "2022-04-04T14:50:24.680626Z",
     "shell.execute_reply": "2022-04-04T14:50:24.679711Z",
     "shell.execute_reply.started": "2022-04-04T14:50:24.645695Z"
    },
    "execution_millis": 0,
    "execution_start": 1647940235819,
    "gradient": {
     "editing": false,
     "id": "f6c60131-18bf-4e9b-92dd-3e4bd3dfd8cf",
     "kernelId": "bdad9f9f-f07c-45e1-9f7d-b89ce0615e8e"
    },
    "source_hash": "49ba0b7c",
    "tags": []
   },
   "outputs": [],
   "source": [
    "def ff(path_str):\n",
    "    id = path_str[:-1]\n",
    "    if path_str[-1] == 'r':\n",
    "        return paths[id]['reverse']\n",
    "    else:\n",
    "        return paths[id]['forward']\n",
    "def fff(ans):\n",
    "    paths_str = ans.split('_')\n",
    "    return {\n",
    "        'A': ff(paths_str[0]),\n",
    "        'B': ff(paths_str[1]),\n",
    "        'better': 'A' if paths_str[2] == paths_str[0] else 'B'\n",
    "    }\n",
    "    return list(map(ff, paths_str))\n",
    "with open('data/science/answers.txt', 'r') as f:\n",
    "    answers = list(map(fff, filter(lambda x: len(x) > 0, f.read().split('\\n'))))"
   ]
  },
  {
   "cell_type": "code",
   "execution_count": 24,
   "metadata": {
    "cell_id": "8c3e0678-87de-4a93-9b91-663842bebf33",
    "deepnote_cell_height": 137.375,
    "deepnote_cell_type": "code",
    "deepnote_output_heights": [
     40.375
    ],
    "deepnote_to_be_reexecuted": false,
    "execution": {
     "iopub.execute_input": "2022-04-04T14:50:24.681702Z",
     "iopub.status.busy": "2022-04-04T14:50:24.681540Z",
     "iopub.status.idle": "2022-04-04T14:50:24.686156Z",
     "shell.execute_reply": "2022-04-04T14:50:24.685617Z",
     "shell.execute_reply.started": "2022-04-04T14:50:24.681682Z"
    },
    "execution_millis": 5,
    "execution_start": 1647940235832,
    "gradient": {
     "editing": false,
     "id": "e0a784e0-d4e4-44d8-a0e9-1212dc54a4e2",
     "kernelId": "bdad9f9f-f07c-45e1-9f7d-b89ce0615e8e"
    },
    "source_hash": "f46e5888",
    "tags": []
   },
   "outputs": [
    {
     "data": {
      "text/plain": [
       "{'text': 'Piece is a type of Part. Part is related to Car. you are likely to find Car in/at/on Land. ',\n",
       " 'short': 'Piece --IsA--> Part <--RelatedTo--> Car --AtLocation--> Land '}"
      ]
     },
     "execution_count": 24,
     "metadata": {},
     "output_type": "execute_result"
    }
   ],
   "source": [
    "answers[0]['A']"
   ]
  },
  {
   "cell_type": "code",
   "execution_count": 25,
   "metadata": {
    "cell_id": "1943a4af-6c46-46b8-95ec-36ac46a3edb5",
    "deepnote_cell_height": 137.375,
    "deepnote_cell_type": "code",
    "deepnote_output_heights": [
     40.375
    ],
    "deepnote_to_be_reexecuted": false,
    "execution": {
     "iopub.execute_input": "2022-04-04T14:50:24.687414Z",
     "iopub.status.busy": "2022-04-04T14:50:24.687269Z",
     "iopub.status.idle": "2022-04-04T14:50:24.691438Z",
     "shell.execute_reply": "2022-04-04T14:50:24.690919Z",
     "shell.execute_reply.started": "2022-04-04T14:50:24.687395Z"
    },
    "execution_millis": 5,
    "execution_start": 1647940235833,
    "gradient": {
     "editing": false,
     "id": "2c7df0c3-d118-4194-afe3-382432d0bdb5",
     "kernelId": "bdad9f9f-f07c-45e1-9f7d-b89ce0615e8e"
    },
    "source_hash": "35f8b13",
    "tags": []
   },
   "outputs": [
    {
     "data": {
      "text/plain": [
       "{'text': 'Dream is related to Day. Day is related to Measurement. Measurement is related to Year. ',\n",
       " 'short': 'Dream <--RelatedTo--> Day <--RelatedTo--> Measurement <--RelatedTo--> Year '}"
      ]
     },
     "execution_count": 25,
     "metadata": {},
     "output_type": "execute_result"
    }
   ],
   "source": [
    "answers[0]['B']"
   ]
  },
  {
   "cell_type": "code",
   "execution_count": 26,
   "metadata": {
    "cell_id": "89df3884-2b58-4170-b855-821474efa412",
    "deepnote_cell_height": 118.1875,
    "deepnote_cell_type": "code",
    "deepnote_output_heights": [
     21.1875
    ],
    "deepnote_to_be_reexecuted": false,
    "execution": {
     "iopub.execute_input": "2022-04-04T14:50:24.692335Z",
     "iopub.status.busy": "2022-04-04T14:50:24.692193Z",
     "iopub.status.idle": "2022-04-04T14:50:24.696600Z",
     "shell.execute_reply": "2022-04-04T14:50:24.695943Z",
     "shell.execute_reply.started": "2022-04-04T14:50:24.692318Z"
    },
    "execution_millis": 8,
    "execution_start": 1647940235878,
    "gradient": {
     "editing": false,
     "id": "09d8c53f-fcc8-42fb-b79d-bbcff8ee6872",
     "kernelId": "bdad9f9f-f07c-45e1-9f7d-b89ce0615e8e"
    },
    "source_hash": "f1ec5baa",
    "tags": []
   },
   "outputs": [
    {
     "data": {
      "text/plain": [
       "'A'"
      ]
     },
     "execution_count": 26,
     "metadata": {},
     "output_type": "execute_result"
    }
   ],
   "source": [
    "answers[0]['better']"
   ]
  },
  {
   "cell_type": "code",
   "execution_count": 27,
   "metadata": {
    "cell_id": "00004-61970236-4f56-4876-81c0-ae4fb356b2a8",
    "deepnote_cell_height": 279,
    "deepnote_cell_type": "code",
    "deepnote_to_be_reexecuted": false,
    "execution": {
     "iopub.execute_input": "2022-04-04T14:50:24.697448Z",
     "iopub.status.busy": "2022-04-04T14:50:24.697307Z",
     "iopub.status.idle": "2022-04-04T14:50:24.726182Z",
     "shell.execute_reply": "2022-04-04T14:50:24.725281Z",
     "shell.execute_reply.started": "2022-04-04T14:50:24.697431Z"
    },
    "execution_millis": 4,
    "execution_start": 1647940235879,
    "gradient": {
     "editing": false,
     "id": "f2a6ab46-82b7-45ce-9a95-6d86939c11e2",
     "kernelId": "bdad9f9f-f07c-45e1-9f7d-b89ce0615e8e"
    },
    "source_hash": "70c70d67"
   },
   "outputs": [],
   "source": [
    "text_arr = []\n",
    "label_arr = []\n",
    "\n",
    "for ans in answers:\n",
    "#     text_arr.append(ans['A']['text'])\n",
    "#     text_arr.append(ans['B']['text'])\n",
    "#     if ans['better'] == 'A':\n",
    "#         label_arr.append(1)\n",
    "#         label_arr.append(0)\n",
    "#     else:\n",
    "#         label_arr.append(0)\n",
    "#         label_arr.append(1)\n",
    "    text_arr.append(ans['A']['text'] + ans['B']['text'])\n",
    "    text_arr.append(ans['B']['text'] + ans['A']['text'])\n",
    "    if ans['better'] == 'A':\n",
    "        label_arr.append(1)\n",
    "        label_arr.append(0)\n",
    "    else:\n",
    "        label_arr.append(0)\n",
    "        label_arr.append(1)"
   ]
  },
  {
   "cell_type": "code",
   "execution_count": 28,
   "metadata": {
    "cell_id": "e5bc2d7b-e44c-4e68-b651-3044f491f6ab",
    "deepnote_cell_height": 135,
    "deepnote_cell_type": "code",
    "deepnote_to_be_reexecuted": false,
    "execution": {
     "iopub.execute_input": "2022-04-04T14:50:24.728385Z",
     "iopub.status.busy": "2022-04-04T14:50:24.728001Z",
     "iopub.status.idle": "2022-04-04T14:50:24.741018Z",
     "shell.execute_reply": "2022-04-04T14:50:24.740429Z",
     "shell.execute_reply.started": "2022-04-04T14:50:24.728362Z"
    },
    "execution_millis": 40,
    "execution_start": 1647940235888,
    "gradient": {
     "editing": false,
     "id": "aa325883-6955-4acc-896e-70d0855663ae",
     "kernelId": "bdad9f9f-f07c-45e1-9f7d-b89ce0615e8e"
    },
    "source_hash": "7d52dc2c",
    "tags": []
   },
   "outputs": [],
   "source": [
    "data_df = pd.DataFrame(data={\n",
    "    'Text': text_arr,\n",
    "    'Label': label_arr,\n",
    "})"
   ]
  },
  {
   "cell_type": "code",
   "execution_count": 29,
   "metadata": {
    "cell_id": "b6566973-d484-4bb9-9bf0-409ac54cbbab",
    "deepnote_cell_height": 148.1875,
    "deepnote_cell_type": "code",
    "deepnote_to_be_reexecuted": false,
    "execution": {
     "iopub.execute_input": "2022-04-04T14:50:24.741957Z",
     "iopub.status.busy": "2022-04-04T14:50:24.741803Z",
     "iopub.status.idle": "2022-04-04T14:50:24.751749Z",
     "shell.execute_reply": "2022-04-04T14:50:24.750958Z",
     "shell.execute_reply.started": "2022-04-04T14:50:24.741939Z"
    },
    "execution_millis": 19,
    "execution_start": 1647940235948,
    "gradient": {
     "editing": false,
     "id": "109cf289-05de-4978-870c-82db2d9f5d25",
     "kernelId": "bdad9f9f-f07c-45e1-9f7d-b89ce0615e8e"
    },
    "source_hash": "39b36e92",
    "tags": []
   },
   "outputs": [
    {
     "name": "stdout",
     "output_type": "stream",
     "text": [
      "22080 2760 2760\n"
     ]
    }
   ],
   "source": [
    "train_df, val_df, test_df = np.split(data_df.sample(frac=1, random_state=42), [int(.8*len(data_df)), int(.9*len(data_df))])\n",
    "\n",
    "print(len(train_df),len(val_df), len(test_df))"
   ]
  },
  {
   "cell_type": "code",
   "execution_count": 30,
   "metadata": {
    "cell_id": "00005-6025089b-48bd-4a3f-a53c-51857f9140da",
    "deepnote_cell_height": 567,
    "deepnote_cell_type": "code",
    "deepnote_to_be_reexecuted": false,
    "execution": {
     "iopub.execute_input": "2022-04-04T14:50:24.752697Z",
     "iopub.status.busy": "2022-04-04T14:50:24.752544Z",
     "iopub.status.idle": "2022-04-04T14:50:25.159019Z",
     "shell.execute_reply": "2022-04-04T14:50:25.158132Z",
     "shell.execute_reply.started": "2022-04-04T14:50:24.752679Z"
    },
    "execution_millis": 287,
    "execution_start": 1647940235968,
    "gradient": {
     "editing": false,
     "id": "04a93fc2-e649-4839-a48f-0208f225dc53",
     "kernelId": "bdad9f9f-f07c-45e1-9f7d-b89ce0615e8e"
    },
    "source_hash": "c7b36016"
   },
   "outputs": [],
   "source": [
    "tokenizer = BertTokenizer.from_pretrained('bert-base-cased')\n",
    "\n",
    "class Dataset(torch.utils.data.Dataset):\n",
    "    def __init__(self, df, text_col='Text', label_col='Label'):\n",
    "        self.labels = [float(x) for x in df[label_col]]\n",
    "        self.texts = [\n",
    "            tokenizer(\n",
    "                text, \n",
    "                padding='max_length',\n",
    "                max_length = 512,\n",
    "                truncation=True,\n",
    "                return_tensors='pt'\n",
    "            ) for text in df[text_col]\n",
    "        ]\n",
    "    def classes(self):\n",
    "        return self.labels\n",
    "    def __len__(self):\n",
    "        return len(self.labels)\n",
    "    def get_batch_labels(self, idx):\n",
    "        # Fetch a batch of labels\n",
    "        return np.array(self.labels[idx])\n",
    "    def get_batch_texts(self, idx):\n",
    "        # Fetch a batch of inputs\n",
    "        return self.texts[idx]\n",
    "    def __getitem__(self, idx):\n",
    "        batch_texts = self.get_batch_texts(idx)\n",
    "        batch_y = self.get_batch_labels(idx)\n",
    "        return batch_texts, batch_y"
   ]
  },
  {
   "cell_type": "markdown",
   "metadata": {
    "cell_id": "00006-925b51ab-b75c-4575-ac37-7478b205f33e",
    "deepnote_cell_height": 70,
    "deepnote_cell_type": "markdown",
    "gradient": {
     "editing": false,
     "id": "89548466-2055-49a7-b626-9d4bbf55380d",
     "kernelId": "bdad9f9f-f07c-45e1-9f7d-b89ce0615e8e"
    }
   },
   "source": [
    "## Model"
   ]
  },
  {
   "cell_type": "code",
   "execution_count": 31,
   "metadata": {
    "cell_id": "00007-faf773ca-da6f-484d-9a6a-df349bcac434",
    "deepnote_cell_height": 333,
    "deepnote_cell_type": "code",
    "deepnote_to_be_reexecuted": false,
    "execution": {
     "iopub.execute_input": "2022-04-04T14:50:25.160302Z",
     "iopub.status.busy": "2022-04-04T14:50:25.160125Z",
     "iopub.status.idle": "2022-04-04T14:50:25.165444Z",
     "shell.execute_reply": "2022-04-04T14:50:25.164896Z",
     "shell.execute_reply.started": "2022-04-04T14:50:25.160282Z"
    },
    "execution_millis": 25,
    "execution_start": 1647940236257,
    "gradient": {
     "editing": false,
     "id": "07033b95-6d54-457c-bbae-3d41abcf0091",
     "kernelId": "bdad9f9f-f07c-45e1-9f7d-b89ce0615e8e"
    },
    "source_hash": "8f6b9401"
   },
   "outputs": [],
   "source": [
    "class BertClassifier(nn.Module):\n",
    "    def __init__(self, dropout=0.5):\n",
    "        super(BertClassifier, self).__init__()\n",
    "\n",
    "        self.bert = BertModel.from_pretrained('bert-base-cased')\n",
    "        # for param in self.bert.parameters():\n",
    "        #     param.requires_grad = False\n",
    "        self.dropout = nn.Dropout(dropout)\n",
    "        self.linear = nn.Linear(768, 1)\n",
    "        self.activation = nn.Sigmoid()\n",
    "    def forward(self, input_id, mask):\n",
    "        _, x = self.bert(input_ids= input_id, attention_mask=mask,return_dict=False)\n",
    "        x = self.dropout(x)\n",
    "        x = self.linear(x)\n",
    "        x = self.activation(x)\n",
    "        return x"
   ]
  },
  {
   "cell_type": "markdown",
   "metadata": {
    "cell_id": "00008-53e750a0-f079-4aea-93be-bcd66853309e",
    "deepnote_cell_height": 70,
    "deepnote_cell_type": "markdown",
    "gradient": {
     "editing": false,
     "id": "a868aba9-f451-43a9-bb7d-4e73174f0878",
     "kernelId": "bdad9f9f-f07c-45e1-9f7d-b89ce0615e8e"
    }
   },
   "source": [
    "## Training"
   ]
  },
  {
   "cell_type": "code",
   "execution_count": 32,
   "metadata": {
    "cell_id": "00009-89e946cb-b674-461b-bba1-af467f7e6c6d",
    "deepnote_cell_height": 783,
    "deepnote_cell_type": "code",
    "deepnote_to_be_reexecuted": false,
    "execution": {
     "iopub.execute_input": "2022-04-04T14:50:25.166442Z",
     "iopub.status.busy": "2022-04-04T14:50:25.166288Z",
     "iopub.status.idle": "2022-04-04T14:50:25.176732Z",
     "shell.execute_reply": "2022-04-04T14:50:25.176019Z",
     "shell.execute_reply.started": "2022-04-04T14:50:25.166423Z"
    },
    "execution_millis": 6,
    "execution_start": 1647940236307,
    "gradient": {
     "editing": false,
     "id": "d233a8bf-0d2e-4915-a69b-58dfdd8c3f91",
     "kernelId": "bdad9f9f-f07c-45e1-9f7d-b89ce0615e8e"
    },
    "source_hash": "41f63595"
   },
   "outputs": [],
   "source": [
    "def train(model, train_data, val_data, learning_rate, epochs):\n",
    "    train, val = Dataset(train_data), Dataset(val_data)\n",
    "    train_dataloader = torch.utils.data.DataLoader(train, batch_size=BATCH_SIZE, shuffle=True)\n",
    "    val_dataloader = torch.utils.data.DataLoader(val, batch_size=2)\n",
    "    use_cuda = torch.cuda.is_available()\n",
    "    device = torch.device(\"cuda\" if use_cuda else \"cpu\")\n",
    "    criterion = nn.BCELoss()\n",
    "    optimizer = Adam(model.parameters(), lr= learning_rate)\n",
    "    if use_cuda:\n",
    "            model = model.cuda()\n",
    "            criterion = criterion.cuda()\n",
    "    for epoch_num in range(epochs):\n",
    "            total_acc_train = 0\n",
    "            total_loss_train = 0\n",
    "            model.train()\n",
    "            for train_input, train_label in tqdm(train_dataloader):\n",
    "                train_label = train_label.to(device).unsqueeze(1)\n",
    "                mask = train_input['attention_mask'].to(device)\n",
    "                input_id = train_input['input_ids'].squeeze(1).to(device)\n",
    "                output = model(input_id, mask)\n",
    "                batch_loss = criterion(output.double(), train_label)\n",
    "                total_loss_train += batch_loss.item()\n",
    "                acc = (output.round() == train_label).sum().item()\n",
    "                total_acc_train += acc\n",
    "                model.zero_grad()\n",
    "                batch_loss.backward()\n",
    "                optimizer.step()\n",
    "            total_acc_val = 0\n",
    "            total_loss_val = 0\n",
    "            model.eval()\n",
    "            with torch.no_grad():\n",
    "                for val_input, val_label in val_dataloader:\n",
    "                    val_label = val_label.to(device).unsqueeze(1)\n",
    "                    mask = val_input['attention_mask'].to(device)\n",
    "                    input_id = val_input['input_ids'].squeeze(1).to(device)\n",
    "                    output = model(input_id, mask)\n",
    "                    batch_loss = criterion(output.double(), val_label)\n",
    "                    total_loss_val += batch_loss.item()\n",
    "                    acc = (output.round() == val_label).sum().item()\n",
    "                    total_acc_val += acc\n",
    "            print(\n",
    "                f'Epochs: {epoch_num + 1} | Train Loss: {total_loss_train / len(train_data): .3f} | Train Accuracy: {total_acc_train / len(train_data): .3f} | Val Loss: {total_loss_val / len(val_data): .3f} | Val Accuracy: {total_acc_val / len(val_data): .3f}')\n",
    "            torch.save(model.state_dict(), 'bert_clf.pt')"
   ]
  },
  {
   "cell_type": "code",
   "execution_count": 33,
   "metadata": {
    "cell_id": "00010-e0e8e963-621c-47b4-9352-545544d3da93",
    "deepnote_cell_height": 369,
    "deepnote_cell_type": "code",
    "deepnote_to_be_reexecuted": false,
    "execution": {
     "iopub.execute_input": "2022-04-04T14:50:25.177731Z",
     "iopub.status.busy": "2022-04-04T14:50:25.177574Z",
     "iopub.status.idle": "2022-04-04T14:50:25.184947Z",
     "shell.execute_reply": "2022-04-04T14:50:25.184166Z",
     "shell.execute_reply.started": "2022-04-04T14:50:25.177712Z"
    },
    "execution_millis": 7,
    "execution_start": 1647940236328,
    "gradient": {
     "editing": false,
     "id": "4592d958-6b23-4d55-a2bc-60b5d43120e3",
     "kernelId": "bdad9f9f-f07c-45e1-9f7d-b89ce0615e8e"
    },
    "source_hash": "66bc3bf"
   },
   "outputs": [],
   "source": [
    "def evaluate(model, test_data):\n",
    "    test = Dataset(test_data)\n",
    "    test_dataloader = torch.utils.data.DataLoader(test, batch_size=BATCH_SIZE)\n",
    "    use_cuda = torch.cuda.is_available()\n",
    "    device = torch.device(\"cuda\" if use_cuda else \"cpu\")\n",
    "    if use_cuda:\n",
    "        model = model.cuda()\n",
    "    y_pred_list = []\n",
    "    y_test = []\n",
    "    # global output_rnd\n",
    "    # global test_lbl\n",
    "    model.eval()\n",
    "    with torch.no_grad():\n",
    "        for test_input, test_label in test_dataloader:\n",
    "            test_label = test_label.to(device).unsqueeze(1)\n",
    "            mask = test_input['attention_mask'].to(device)\n",
    "            input_id = test_input['input_ids'].squeeze(1).to(device)\n",
    "            output = model(input_id, mask)\n",
    "            # output_rnd = output.round()\n",
    "            # test_lbl = test_label\n",
    "            # return\n",
    "            y_pred_list.append(output.round().cpu().numpy())\n",
    "            y_test.append(test_label.cpu().numpy())\n",
    "    y_pred_list = [a.squeeze().tolist() for a in y_pred_list]\n",
    "    y_pred_list = [item for sublist in y_pred_list for item in sublist]\n",
    "    y_test = [a.squeeze().tolist() for a in y_test]\n",
    "    y_test = [item for sublist in y_test for item in sublist]\n",
    "    cm = confusion_matrix(y_test, y_pred_list)\n",
    "    disp = ConfusionMatrixDisplay(confusion_matrix=cm)\n",
    "    disp.plot()\n",
    "    plt.show()\n",
    "    print(classification_report(y_test, y_pred_list, digits=5))\n",
    "    return classification_report(y_test, y_pred_list, output_dict=True)"
   ]
  },
  {
   "cell_type": "markdown",
   "metadata": {
    "cell_id": "00011-848979d0-21ec-4e99-8f05-d12dd793d4cc",
    "deepnote_cell_height": 70,
    "deepnote_cell_type": "markdown",
    "gradient": {
     "editing": false,
     "id": "6fa1a893-b2d2-4352-b78c-f401cb9e8582",
     "kernelId": "bdad9f9f-f07c-45e1-9f7d-b89ce0615e8e"
    }
   },
   "source": [
    "## ..."
   ]
  },
  {
   "cell_type": "code",
   "execution_count": 34,
   "metadata": {
    "cell_id": "00013-b1b6d392-fb8b-4ccb-803e-dc64d8a5dc31",
    "deepnote_cell_height": 719,
    "deepnote_cell_type": "code",
    "deepnote_output_heights": [
     null,
     611
    ],
    "deepnote_to_be_reexecuted": false,
    "execution": {
     "iopub.execute_input": "2022-04-04T14:50:25.185817Z",
     "iopub.status.busy": "2022-04-04T14:50:25.185668Z",
     "iopub.status.idle": "2022-04-04T14:50:26.909207Z",
     "shell.execute_reply": "2022-04-04T14:50:26.908682Z",
     "shell.execute_reply.started": "2022-04-04T14:50:25.185799Z"
    },
    "execution_millis": 1569,
    "execution_start": 1647940236350,
    "gradient": {
     "editing": false,
     "id": "56f2cfa7-7241-49f6-b1c8-b0122fdfb36e",
     "kernelId": "bdad9f9f-f07c-45e1-9f7d-b89ce0615e8e"
    },
    "source_hash": "4e226140"
   },
   "outputs": [
    {
     "name": "stderr",
     "output_type": "stream",
     "text": [
      "Some weights of the model checkpoint at bert-base-cased were not used when initializing BertModel: ['cls.predictions.bias', 'cls.predictions.transform.dense.bias', 'cls.predictions.transform.LayerNorm.weight', 'cls.predictions.decoder.weight', 'cls.predictions.transform.dense.weight', 'cls.seq_relationship.bias', 'cls.seq_relationship.weight', 'cls.predictions.transform.LayerNorm.bias']\n",
      "- This IS expected if you are initializing BertModel from the checkpoint of a model trained on another task or with another architecture (e.g. initializing a BertForSequenceClassification model from a BertForPreTraining model).\n",
      "- This IS NOT expected if you are initializing BertModel from the checkpoint of a model that you expect to be exactly identical (initializing a BertForSequenceClassification model from a BertForSequenceClassification model).\n"
     ]
    },
    {
     "name": "stdout",
     "output_type": "stream",
     "text": [
      "BertClassifier(\n",
      "  (bert): BertModel(\n",
      "    (embeddings): BertEmbeddings(\n",
      "      (word_embeddings): Embedding(28996, 768, padding_idx=0)\n",
      "      (position_embeddings): Embedding(512, 768)\n",
      "      (token_type_embeddings): Embedding(2, 768)\n",
      "      (LayerNorm): LayerNorm((768,), eps=1e-12, elementwise_affine=True)\n",
      "      (dropout): Dropout(p=0.1, inplace=False)\n",
      "    )\n",
      "    (encoder): BertEncoder(\n",
      "      (layer): ModuleList(\n",
      "        (0): BertLayer(\n",
      "          (attention): BertAttention(\n",
      "            (self): BertSelfAttention(\n",
      "              (query): Linear(in_features=768, out_features=768, bias=True)\n",
      "              (key): Linear(in_features=768, out_features=768, bias=True)\n",
      "              (value): Linear(in_features=768, out_features=768, bias=True)\n",
      "              (dropout): Dropout(p=0.1, inplace=False)\n",
      "            )\n",
      "            (output): BertSelfOutput(\n",
      "              (dense): Linear(in_features=768, out_features=768, bias=True)\n",
      "              (LayerNorm): LayerNorm((768,), eps=1e-12, elementwise_affine=True)\n",
      "              (dropout): Dropout(p=0.1, inplace=False)\n",
      "            )\n",
      "          )\n",
      "          (intermediate): BertIntermediate(\n",
      "            (dense): Linear(in_features=768, out_features=3072, bias=True)\n",
      "            (intermediate_act_fn): GELUActivation()\n",
      "          )\n",
      "          (output): BertOutput(\n",
      "            (dense): Linear(in_features=3072, out_features=768, bias=True)\n",
      "            (LayerNorm): LayerNorm((768,), eps=1e-12, elementwise_affine=True)\n",
      "            (dropout): Dropout(p=0.1, inplace=False)\n",
      "          )\n",
      "        )\n",
      "        (1): BertLayer(\n",
      "          (attention): BertAttention(\n",
      "            (self): BertSelfAttention(\n",
      "              (query): Linear(in_features=768, out_features=768, bias=True)\n",
      "              (key): Linear(in_features=768, out_features=768, bias=True)\n",
      "              (value): Linear(in_features=768, out_features=768, bias=True)\n",
      "              (dropout): Dropout(p=0.1, inplace=False)\n",
      "            )\n",
      "            (output): BertSelfOutput(\n",
      "              (dense): Linear(in_features=768, out_features=768, bias=True)\n",
      "              (LayerNorm): LayerNorm((768,), eps=1e-12, elementwise_affine=True)\n",
      "              (dropout): Dropout(p=0.1, inplace=False)\n",
      "            )\n",
      "          )\n",
      "          (intermediate): BertIntermediate(\n",
      "            (dense): Linear(in_features=768, out_features=3072, bias=True)\n",
      "            (intermediate_act_fn): GELUActivation()\n",
      "          )\n",
      "          (output): BertOutput(\n",
      "            (dense): Linear(in_features=3072, out_features=768, bias=True)\n",
      "            (LayerNorm): LayerNorm((768,), eps=1e-12, elementwise_affine=True)\n",
      "            (dropout): Dropout(p=0.1, inplace=False)\n",
      "          )\n",
      "        )\n",
      "        (2): BertLayer(\n",
      "          (attention): BertAttention(\n",
      "            (self): BertSelfAttention(\n",
      "              (query): Linear(in_features=768, out_features=768, bias=True)\n",
      "              (key): Linear(in_features=768, out_features=768, bias=True)\n",
      "              (value): Linear(in_features=768, out_features=768, bias=True)\n",
      "              (dropout): Dropout(p=0.1, inplace=False)\n",
      "            )\n",
      "            (output): BertSelfOutput(\n",
      "              (dense): Linear(in_features=768, out_features=768, bias=True)\n",
      "              (LayerNorm): LayerNorm((768,), eps=1e-12, elementwise_affine=True)\n",
      "              (dropout): Dropout(p=0.1, inplace=False)\n",
      "            )\n",
      "          )\n",
      "          (intermediate): BertIntermediate(\n",
      "            (dense): Linear(in_features=768, out_features=3072, bias=True)\n",
      "            (intermediate_act_fn): GELUActivation()\n",
      "          )\n",
      "          (output): BertOutput(\n",
      "            (dense): Linear(in_features=3072, out_features=768, bias=True)\n",
      "            (LayerNorm): LayerNorm((768,), eps=1e-12, elementwise_affine=True)\n",
      "            (dropout): Dropout(p=0.1, inplace=False)\n",
      "          )\n",
      "        )\n",
      "        (3): BertLayer(\n",
      "          (attention): BertAttention(\n",
      "            (self): BertSelfAttention(\n",
      "              (query): Linear(in_features=768, out_features=768, bias=True)\n",
      "              (key): Linear(in_features=768, out_features=768, bias=True)\n",
      "              (value): Linear(in_features=768, out_features=768, bias=True)\n",
      "              (dropout): Dropout(p=0.1, inplace=False)\n",
      "            )\n",
      "            (output): BertSelfOutput(\n",
      "              (dense): Linear(in_features=768, out_features=768, bias=True)\n",
      "              (LayerNorm): LayerNorm((768,), eps=1e-12, elementwise_affine=True)\n",
      "              (dropout): Dropout(p=0.1, inplace=False)\n",
      "            )\n",
      "          )\n",
      "          (intermediate): BertIntermediate(\n",
      "            (dense): Linear(in_features=768, out_features=3072, bias=True)\n",
      "            (intermediate_act_fn): GELUActivation()\n",
      "          )\n",
      "          (output): BertOutput(\n",
      "            (dense): Linear(in_features=3072, out_features=768, bias=True)\n",
      "            (LayerNorm): LayerNorm((768,), eps=1e-12, elementwise_affine=True)\n",
      "            (dropout): Dropout(p=0.1, inplace=False)\n",
      "          )\n",
      "        )\n",
      "        (4): BertLayer(\n",
      "          (attention): BertAttention(\n",
      "            (self): BertSelfAttention(\n",
      "              (query): Linear(in_features=768, out_features=768, bias=True)\n",
      "              (key): Linear(in_features=768, out_features=768, bias=True)\n",
      "              (value): Linear(in_features=768, out_features=768, bias=True)\n",
      "              (dropout): Dropout(p=0.1, inplace=False)\n",
      "            )\n",
      "            (output): BertSelfOutput(\n",
      "              (dense): Linear(in_features=768, out_features=768, bias=True)\n",
      "              (LayerNorm): LayerNorm((768,), eps=1e-12, elementwise_affine=True)\n",
      "              (dropout): Dropout(p=0.1, inplace=False)\n",
      "            )\n",
      "          )\n",
      "          (intermediate): BertIntermediate(\n",
      "            (dense): Linear(in_features=768, out_features=3072, bias=True)\n",
      "            (intermediate_act_fn): GELUActivation()\n",
      "          )\n",
      "          (output): BertOutput(\n",
      "            (dense): Linear(in_features=3072, out_features=768, bias=True)\n",
      "            (LayerNorm): LayerNorm((768,), eps=1e-12, elementwise_affine=True)\n",
      "            (dropout): Dropout(p=0.1, inplace=False)\n",
      "          )\n",
      "        )\n",
      "        (5): BertLayer(\n",
      "          (attention): BertAttention(\n",
      "            (self): BertSelfAttention(\n",
      "              (query): Linear(in_features=768, out_features=768, bias=True)\n",
      "              (key): Linear(in_features=768, out_features=768, bias=True)\n",
      "              (value): Linear(in_features=768, out_features=768, bias=True)\n",
      "              (dropout): Dropout(p=0.1, inplace=False)\n",
      "            )\n",
      "            (output): BertSelfOutput(\n",
      "              (dense): Linear(in_features=768, out_features=768, bias=True)\n",
      "              (LayerNorm): LayerNorm((768,), eps=1e-12, elementwise_affine=True)\n",
      "              (dropout): Dropout(p=0.1, inplace=False)\n",
      "            )\n",
      "          )\n",
      "          (intermediate): BertIntermediate(\n",
      "            (dense): Linear(in_features=768, out_features=3072, bias=True)\n",
      "            (intermediate_act_fn): GELUActivation()\n",
      "          )\n",
      "          (output): BertOutput(\n",
      "            (dense): Linear(in_features=3072, out_features=768, bias=True)\n",
      "            (LayerNorm): LayerNorm((768,), eps=1e-12, elementwise_affine=True)\n",
      "            (dropout): Dropout(p=0.1, inplace=False)\n",
      "          )\n",
      "        )\n",
      "        (6): BertLayer(\n",
      "          (attention): BertAttention(\n",
      "            (self): BertSelfAttention(\n",
      "              (query): Linear(in_features=768, out_features=768, bias=True)\n",
      "              (key): Linear(in_features=768, out_features=768, bias=True)\n",
      "              (value): Linear(in_features=768, out_features=768, bias=True)\n",
      "              (dropout): Dropout(p=0.1, inplace=False)\n",
      "            )\n",
      "            (output): BertSelfOutput(\n",
      "              (dense): Linear(in_features=768, out_features=768, bias=True)\n",
      "              (LayerNorm): LayerNorm((768,), eps=1e-12, elementwise_affine=True)\n",
      "              (dropout): Dropout(p=0.1, inplace=False)\n",
      "            )\n",
      "          )\n",
      "          (intermediate): BertIntermediate(\n",
      "            (dense): Linear(in_features=768, out_features=3072, bias=True)\n",
      "            (intermediate_act_fn): GELUActivation()\n",
      "          )\n",
      "          (output): BertOutput(\n",
      "            (dense): Linear(in_features=3072, out_features=768, bias=True)\n",
      "            (LayerNorm): LayerNorm((768,), eps=1e-12, elementwise_affine=True)\n",
      "            (dropout): Dropout(p=0.1, inplace=False)\n",
      "          )\n",
      "        )\n",
      "        (7): BertLayer(\n",
      "          (attention): BertAttention(\n",
      "            (self): BertSelfAttention(\n",
      "              (query): Linear(in_features=768, out_features=768, bias=True)\n",
      "              (key): Linear(in_features=768, out_features=768, bias=True)\n",
      "              (value): Linear(in_features=768, out_features=768, bias=True)\n",
      "              (dropout): Dropout(p=0.1, inplace=False)\n",
      "            )\n",
      "            (output): BertSelfOutput(\n",
      "              (dense): Linear(in_features=768, out_features=768, bias=True)\n",
      "              (LayerNorm): LayerNorm((768,), eps=1e-12, elementwise_affine=True)\n",
      "              (dropout): Dropout(p=0.1, inplace=False)\n",
      "            )\n",
      "          )\n",
      "          (intermediate): BertIntermediate(\n",
      "            (dense): Linear(in_features=768, out_features=3072, bias=True)\n",
      "            (intermediate_act_fn): GELUActivation()\n",
      "          )\n",
      "          (output): BertOutput(\n",
      "            (dense): Linear(in_features=3072, out_features=768, bias=True)\n",
      "            (LayerNorm): LayerNorm((768,), eps=1e-12, elementwise_affine=True)\n",
      "            (dropout): Dropout(p=0.1, inplace=False)\n",
      "          )\n",
      "        )\n",
      "        (8): BertLayer(\n",
      "          (attention): BertAttention(\n",
      "            (self): BertSelfAttention(\n",
      "              (query): Linear(in_features=768, out_features=768, bias=True)\n",
      "              (key): Linear(in_features=768, out_features=768, bias=True)\n",
      "              (value): Linear(in_features=768, out_features=768, bias=True)\n",
      "              (dropout): Dropout(p=0.1, inplace=False)\n",
      "            )\n",
      "            (output): BertSelfOutput(\n",
      "              (dense): Linear(in_features=768, out_features=768, bias=True)\n",
      "              (LayerNorm): LayerNorm((768,), eps=1e-12, elementwise_affine=True)\n",
      "              (dropout): Dropout(p=0.1, inplace=False)\n",
      "            )\n",
      "          )\n",
      "          (intermediate): BertIntermediate(\n",
      "            (dense): Linear(in_features=768, out_features=3072, bias=True)\n",
      "            (intermediate_act_fn): GELUActivation()\n",
      "          )\n",
      "          (output): BertOutput(\n",
      "            (dense): Linear(in_features=3072, out_features=768, bias=True)\n",
      "            (LayerNorm): LayerNorm((768,), eps=1e-12, elementwise_affine=True)\n",
      "            (dropout): Dropout(p=0.1, inplace=False)\n",
      "          )\n",
      "        )\n",
      "        (9): BertLayer(\n",
      "          (attention): BertAttention(\n",
      "            (self): BertSelfAttention(\n",
      "              (query): Linear(in_features=768, out_features=768, bias=True)\n",
      "              (key): Linear(in_features=768, out_features=768, bias=True)\n",
      "              (value): Linear(in_features=768, out_features=768, bias=True)\n",
      "              (dropout): Dropout(p=0.1, inplace=False)\n",
      "            )\n",
      "            (output): BertSelfOutput(\n",
      "              (dense): Linear(in_features=768, out_features=768, bias=True)\n",
      "              (LayerNorm): LayerNorm((768,), eps=1e-12, elementwise_affine=True)\n",
      "              (dropout): Dropout(p=0.1, inplace=False)\n",
      "            )\n",
      "          )\n",
      "          (intermediate): BertIntermediate(\n",
      "            (dense): Linear(in_features=768, out_features=3072, bias=True)\n",
      "            (intermediate_act_fn): GELUActivation()\n",
      "          )\n",
      "          (output): BertOutput(\n",
      "            (dense): Linear(in_features=3072, out_features=768, bias=True)\n",
      "            (LayerNorm): LayerNorm((768,), eps=1e-12, elementwise_affine=True)\n",
      "            (dropout): Dropout(p=0.1, inplace=False)\n",
      "          )\n",
      "        )\n",
      "        (10): BertLayer(\n",
      "          (attention): BertAttention(\n",
      "            (self): BertSelfAttention(\n",
      "              (query): Linear(in_features=768, out_features=768, bias=True)\n",
      "              (key): Linear(in_features=768, out_features=768, bias=True)\n",
      "              (value): Linear(in_features=768, out_features=768, bias=True)\n",
      "              (dropout): Dropout(p=0.1, inplace=False)\n",
      "            )\n",
      "            (output): BertSelfOutput(\n",
      "              (dense): Linear(in_features=768, out_features=768, bias=True)\n",
      "              (LayerNorm): LayerNorm((768,), eps=1e-12, elementwise_affine=True)\n",
      "              (dropout): Dropout(p=0.1, inplace=False)\n",
      "            )\n",
      "          )\n",
      "          (intermediate): BertIntermediate(\n",
      "            (dense): Linear(in_features=768, out_features=3072, bias=True)\n",
      "            (intermediate_act_fn): GELUActivation()\n",
      "          )\n",
      "          (output): BertOutput(\n",
      "            (dense): Linear(in_features=3072, out_features=768, bias=True)\n",
      "            (LayerNorm): LayerNorm((768,), eps=1e-12, elementwise_affine=True)\n",
      "            (dropout): Dropout(p=0.1, inplace=False)\n",
      "          )\n",
      "        )\n",
      "        (11): BertLayer(\n",
      "          (attention): BertAttention(\n",
      "            (self): BertSelfAttention(\n",
      "              (query): Linear(in_features=768, out_features=768, bias=True)\n",
      "              (key): Linear(in_features=768, out_features=768, bias=True)\n",
      "              (value): Linear(in_features=768, out_features=768, bias=True)\n",
      "              (dropout): Dropout(p=0.1, inplace=False)\n",
      "            )\n",
      "            (output): BertSelfOutput(\n",
      "              (dense): Linear(in_features=768, out_features=768, bias=True)\n",
      "              (LayerNorm): LayerNorm((768,), eps=1e-12, elementwise_affine=True)\n",
      "              (dropout): Dropout(p=0.1, inplace=False)\n",
      "            )\n",
      "          )\n",
      "          (intermediate): BertIntermediate(\n",
      "            (dense): Linear(in_features=768, out_features=3072, bias=True)\n",
      "            (intermediate_act_fn): GELUActivation()\n",
      "          )\n",
      "          (output): BertOutput(\n",
      "            (dense): Linear(in_features=3072, out_features=768, bias=True)\n",
      "            (LayerNorm): LayerNorm((768,), eps=1e-12, elementwise_affine=True)\n",
      "            (dropout): Dropout(p=0.1, inplace=False)\n",
      "          )\n",
      "        )\n",
      "      )\n",
      "    )\n",
      "    (pooler): BertPooler(\n",
      "      (dense): Linear(in_features=768, out_features=768, bias=True)\n",
      "      (activation): Tanh()\n",
      "    )\n",
      "  )\n",
      "  (dropout): Dropout(p=0.5, inplace=False)\n",
      "  (linear): Linear(in_features=768, out_features=1, bias=True)\n",
      "  (activation): Sigmoid()\n",
      ")\n"
     ]
    }
   ],
   "source": [
    "model = BertClassifier()\n",
    "print(model)"
   ]
  },
  {
   "cell_type": "code",
   "execution_count": 35,
   "metadata": {
    "cell_id": "62cf249680fe4f5dbe2c3d0dd4c0a7e8",
    "deepnote_cell_height": 190,
    "deepnote_cell_type": "code",
    "deepnote_to_be_reexecuted": false,
    "execution": {
     "iopub.execute_input": "2022-04-04T14:50:26.910364Z",
     "iopub.status.busy": "2022-04-04T14:50:26.910202Z",
     "iopub.status.idle": "2022-04-04T14:50:27.358939Z",
     "shell.execute_reply": "2022-04-04T14:50:27.358461Z",
     "shell.execute_reply.started": "2022-04-04T14:50:26.910343Z"
    },
    "execution_millis": 35060,
    "execution_start": 1647940237921,
    "gradient": {
     "editing": false,
     "id": "de7f805e-eddc-494e-bc80-ba929d805e5c",
     "kernelId": "bdad9f9f-f07c-45e1-9f7d-b89ce0615e8e"
    },
    "source_hash": "20e47aa3",
    "tags": []
   },
   "outputs": [
    {
     "data": {
      "text/plain": [
       "<All keys matched successfully>"
      ]
     },
     "execution_count": 35,
     "metadata": {},
     "output_type": "execute_result"
    }
   ],
   "source": [
    "# train(model, train_df, val_df, LR, EPOCHS)\n",
    "model.load_state_dict(torch.load('bert_clf_e20.pt'))\n",
    "# model.load_state_dict(torch.load('bert_clf_e20.pt', map_location=torch.device('cpu')))"
   ]
  },
  {
   "cell_type": "code",
   "execution_count": 36,
   "metadata": {
    "cell_id": "00014-0a1abd85-cc21-4e45-a2a1-467d46300b02",
    "deepnote_cell_height": 81,
    "deepnote_cell_type": "code",
    "deepnote_to_be_reexecuted": true,
    "execution": {
     "iopub.execute_input": "2022-04-04T14:50:27.360174Z",
     "iopub.status.busy": "2022-04-04T14:50:27.359937Z",
     "iopub.status.idle": "2022-04-04T14:51:09.761920Z",
     "shell.execute_reply": "2022-04-04T14:51:09.761374Z",
     "shell.execute_reply.started": "2022-04-04T14:50:27.360151Z"
    },
    "gradient": {
     "editing": false,
     "id": "29c624e0-180e-4b32-bacd-d32927159151",
     "kernelId": "bdad9f9f-f07c-45e1-9f7d-b89ce0615e8e"
    },
    "source_hash": "8bf526a4"
   },
   "outputs": [
    {
     "data": {
      "image/png": "[encoded data removed]",
      "text/plain": [
       "<Figure size 432x288 with 2 Axes>"
      ]
     },
     "metadata": {
      "needs_background": "light"
     },
     "output_type": "display_data"
    },
    {
     "name": "stdout",
     "output_type": "stream",
     "text": [
      "              precision    recall  f1-score   support\n",
      "\n",
      "         0.0    0.68417   0.70601   0.69492      1347\n",
      "         1.0    0.71095   0.68931   0.69996      1413\n",
      "\n",
      "    accuracy                        0.69746      2760\n",
      "   macro avg    0.69756   0.69766   0.69744      2760\n",
      "weighted avg    0.69788   0.69746   0.69750      2760\n",
      "\n"
     ]
    }
   ],
   "source": [
    "report = evaluate(model, test_df)"
   ]
  },
  {
   "cell_type": "code",
   "execution_count": null,
   "metadata": {},
   "outputs": [],
   "source": []
  }
 ],
 "metadata": {
  "deepnote": {},
  "deepnote_execution_queue": [],
  "deepnote_notebook_id": "64a7e9c7-9718-4e06-8a2c-305103501537",
  "kernelspec": {
   "display_name": "Python 3 (ipykernel)",
   "language": "python",
   "name": "python3"
  },
  "language_info": {
   "codemirror_mode": {
    "name": "ipython",
    "version": 3
   },
   "file_extension": ".py",
   "mimetype": "text/x-python",
   "name": "python",
   "nbconvert_exporter": "python",
   "pygments_lexer": "ipython3",
   "version": "3.8.12"
  }
 },
 "nbformat": 4,
 "nbformat_minor": 4
}
