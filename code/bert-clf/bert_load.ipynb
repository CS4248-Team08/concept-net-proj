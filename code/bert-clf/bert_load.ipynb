{
 "cells": [
  {
   "cell_type": "code",
   "metadata": {
    "cell_id": "bbb1baea-6ffb-4360-b066-db5208a1beea",
    "deepnote_to_be_reexecuted": false,
    "source_hash": "30e8220b",
    "execution_start": 1648990897462,
    "execution_millis": 358,
    "deepnote_cell_type": "code",
    "deepnote_cell_height": 112.1875
   },
   "source": "!nvidia-smi",
   "execution_count": null,
   "outputs": [
    {
     "name": "stdout",
     "text": "/bin/sh: 1: nvidia-smi: not found\r\n",
     "output_type": "stream"
    }
   ]
  },
  {
   "cell_type": "code",
   "metadata": {
    "cell_id": "8782f65b-7fa2-41ab-af62-208e7d77b6a8",
    "deepnote_to_be_reexecuted": false,
    "execution_millis": 3913,
    "execution_start": 1648990897827,
    "gradient": {
     "editing": true,
     "id": "9276c4c5-f974-41ed-a094-fca95a26f813",
     "kernelId": "bdad9f9f-f07c-45e1-9f7d-b89ce0615e8e"
    },
    "source_hash": "b6b7828f",
    "tags": [],
    "deepnote_cell_type": "code",
    "deepnote_cell_height": 438.375
   },
   "source": "import os\nimport pickle\n\nimport numpy as np\n\nimport pandas as pd\n\nimport matplotlib.pyplot as plt\n\nfrom sklearn.metrics import confusion_matrix, ConfusionMatrixDisplay, classification_report\n\nimport torch\nfrom torch import nn\nfrom torch.optim import Adam\n\nfrom transformers import BertTokenizer, BertModel\n\nfrom tqdm import tqdm",
   "execution_count": null,
   "outputs": [
    {
     "name": "stderr",
     "text": "/usr/local/lib/python3.7/site-packages/tqdm/auto.py:22: TqdmWarning: IProgress not found. Please update jupyter and ipywidgets. See https://ipywidgets.readthedocs.io/en/stable/user_install.html\n  from .autonotebook import tqdm as notebook_tqdm\n",
     "output_type": "stream"
    }
   ]
  },
  {
   "cell_type": "code",
   "metadata": {
    "cell_id": "62c21251-0d38-437b-9824-58165e7e1297",
    "deepnote_to_be_reexecuted": false,
    "execution_millis": 7,
    "execution_start": 1648990901745,
    "gradient": {
     "editing": false,
     "id": "4e1d5978-b6c9-4325-9465-a702bb216bd6",
     "kernelId": "bdad9f9f-f07c-45e1-9f7d-b89ce0615e8e"
    },
    "source_hash": "c9b07865",
    "tags": [],
    "deepnote_cell_type": "code",
    "deepnote_cell_height": 153
   },
   "source": "np.random.seed(42)\n\nEPOCHS = 20\nBATCH_SIZE = 16\nLR = 1e-6",
   "execution_count": null,
   "outputs": []
  },
  {
   "cell_type": "markdown",
   "source": "## Load Data",
   "metadata": {
    "cell_id": "00002-237bd513-7ef7-4281-a517-334c886ebec0",
    "gradient": {
     "editing": false,
     "id": "1e2a904f-daca-4fa7-8efa-abac3e4422cb",
     "kernelId": "bdad9f9f-f07c-45e1-9f7d-b89ce0615e8e"
    },
    "deepnote_cell_type": "markdown",
    "deepnote_cell_height": 70
   }
  },
  {
   "cell_type": "code",
   "metadata": {
    "cell_id": "351d5abf-84d3-4c51-bfc7-24b13b7e8143",
    "deepnote_to_be_reexecuted": false,
    "execution_millis": 51,
    "execution_start": 1648990901787,
    "gradient": {
     "editing": false,
     "id": "e3add54d-4830-4852-955a-9598444a7a68",
     "kernelId": "bdad9f9f-f07c-45e1-9f7d-b89ce0615e8e"
    },
    "source_hash": "e07a89d6",
    "tags": [],
    "deepnote_cell_type": "code",
    "deepnote_cell_height": 81
   },
   "source": "paths = pickle.load(open('data/science/paths.pkl', 'rb'))",
   "execution_count": null,
   "outputs": []
  },
  {
   "cell_type": "code",
   "metadata": {
    "cell_id": "ec0bc867-20b2-4028-bbf7-2b17c345b782",
    "deepnote_to_be_reexecuted": false,
    "execution_millis": 94,
    "execution_start": 1648990901855,
    "gradient": {
     "editing": false,
     "id": "f6c60131-18bf-4e9b-92dd-3e4bd3dfd8cf",
     "kernelId": "bdad9f9f-f07c-45e1-9f7d-b89ce0615e8e"
    },
    "source_hash": "126ea0db",
    "tags": [],
    "deepnote_cell_type": "code",
    "deepnote_cell_height": 351
   },
   "source": "def ff(path_str):\n    id = path_str[:-1]\n    if path_str[-1] == 'r':\n        return paths[id]['reverse']\n    else:\n        return paths[id]['forward']\ndef fff(ans):\n    paths_str = ans.split('_')\n    return {\n        'A': ff(paths_str[0]),\n        'B': ff(paths_str[1]),\n        'better': 'A' if paths_str[2] == paths_str[0] else 'B'\n    }\n    return list(map(ff, paths_str))\nwith open('data/science/answers.txt', 'r') as f:\n    answers = list(map(fff, filter(lambda x: len(x) > 0, f.read().split('\\n'))))",
   "execution_count": null,
   "outputs": []
  },
  {
   "cell_type": "code",
   "metadata": {
    "cell_id": "8c3e0678-87de-4a93-9b91-663842bebf33",
    "deepnote_to_be_reexecuted": false,
    "execution_millis": 13,
    "execution_start": 1648990901957,
    "gradient": {
     "editing": false,
     "id": "e0a784e0-d4e4-44d8-a0e9-1212dc54a4e2",
     "kernelId": "bdad9f9f-f07c-45e1-9f7d-b89ce0615e8e"
    },
    "source_hash": "f46e5888",
    "tags": [],
    "deepnote_cell_type": "code",
    "deepnote_cell_height": 137.375,
    "deepnote_output_heights": [
     40.375
    ]
   },
   "source": "answers[0]['A']",
   "execution_count": null,
   "outputs": [
    {
     "output_type": "execute_result",
     "execution_count": 6,
     "data": {
      "text/plain": "{'text': 'Piece is a type of Part. Part is related to Car. you are likely to find Car in/at/on Land. ',\n 'short': 'Piece --IsA--> Part <--RelatedTo--> Car --AtLocation--> Land '}"
     },
     "metadata": {}
    }
   ]
  },
  {
   "cell_type": "code",
   "metadata": {
    "cell_id": "1943a4af-6c46-46b8-95ec-36ac46a3edb5",
    "deepnote_to_be_reexecuted": false,
    "execution_millis": 233896,
    "execution_start": 1648990902018,
    "gradient": {
     "editing": false,
     "id": "2c7df0c3-d118-4194-afe3-382432d0bdb5",
     "kernelId": "bdad9f9f-f07c-45e1-9f7d-b89ce0615e8e"
    },
    "source_hash": "35f8b13",
    "tags": [],
    "deepnote_cell_type": "code",
    "deepnote_cell_height": 137.375,
    "deepnote_output_heights": [
     40.375
    ]
   },
   "source": "answers[0]['B']",
   "execution_count": null,
   "outputs": [
    {
     "output_type": "execute_result",
     "execution_count": 7,
     "data": {
      "text/plain": "{'text': 'Dream is related to Day. Day is related to Measurement. Measurement is related to Year. ',\n 'short': 'Dream <--RelatedTo--> Day <--RelatedTo--> Measurement <--RelatedTo--> Year '}"
     },
     "metadata": {}
    }
   ]
  },
  {
   "cell_type": "code",
   "metadata": {
    "cell_id": "89df3884-2b58-4170-b855-821474efa412",
    "deepnote_to_be_reexecuted": false,
    "execution_millis": 1,
    "execution_start": 1648990902019,
    "gradient": {
     "editing": false,
     "id": "09d8c53f-fcc8-42fb-b79d-bbcff8ee6872",
     "kernelId": "bdad9f9f-f07c-45e1-9f7d-b89ce0615e8e"
    },
    "source_hash": "f1ec5baa",
    "tags": [],
    "deepnote_cell_type": "code",
    "deepnote_cell_height": 118.1875,
    "deepnote_output_heights": [
     21.1875
    ]
   },
   "source": "answers[0]['better']",
   "execution_count": null,
   "outputs": [
    {
     "output_type": "execute_result",
     "execution_count": 8,
     "data": {
      "text/plain": "'A'"
     },
     "metadata": {}
    }
   ]
  },
  {
   "cell_type": "code",
   "metadata": {
    "cell_id": "00004-61970236-4f56-4876-81c0-ae4fb356b2a8",
    "deepnote_to_be_reexecuted": false,
    "execution_millis": 11,
    "execution_start": 1648990902061,
    "gradient": {
     "editing": false,
     "id": "f2a6ab46-82b7-45ce-9a95-6d86939c11e2",
     "kernelId": "bdad9f9f-f07c-45e1-9f7d-b89ce0615e8e"
    },
    "source_hash": "a8ad987",
    "deepnote_cell_type": "code",
    "deepnote_cell_height": 423
   },
   "source": "text_arr = []\nlabel_arr = []\n\nfor ans in answers:\n#     text_arr.append(ans['A']['text'])\n#     text_arr.append(ans['B']['text'])\n#     if ans['better'] == 'A':\n#         label_arr.append(1)\n#         label_arr.append(0)\n#     else:\n#         label_arr.append(0)\n#         label_arr.append(1)\n    text_arr.append(ans['A']['text'] + ans['B']['text'])\n    text_arr.append(ans['B']['text'] + ans['A']['text'])\n    if ans['better'] == 'A':\n        label_arr.append(1)\n        label_arr.append(0)\n    else:\n        label_arr.append(0)\n        label_arr.append(1)",
   "execution_count": null,
   "outputs": []
  },
  {
   "cell_type": "code",
   "metadata": {
    "cell_id": "e5bc2d7b-e44c-4e68-b651-3044f491f6ab",
    "deepnote_to_be_reexecuted": false,
    "execution_millis": 0,
    "execution_start": 1648990902141,
    "gradient": {
     "editing": false,
     "id": "aa325883-6955-4acc-896e-70d0855663ae",
     "kernelId": "bdad9f9f-f07c-45e1-9f7d-b89ce0615e8e"
    },
    "source_hash": "7d52dc2c",
    "tags": [],
    "deepnote_cell_type": "code",
    "deepnote_cell_height": 135
   },
   "source": "data_df = pd.DataFrame(data={\n    'Text': text_arr,\n    'Label': label_arr,\n})",
   "execution_count": null,
   "outputs": []
  },
  {
   "cell_type": "code",
   "metadata": {
    "cell_id": "b6566973-d484-4bb9-9bf0-409ac54cbbab",
    "deepnote_to_be_reexecuted": false,
    "execution_millis": 1,
    "execution_start": 1648990902186,
    "gradient": {
     "editing": false,
     "id": "109cf289-05de-4978-870c-82db2d9f5d25",
     "kernelId": "bdad9f9f-f07c-45e1-9f7d-b89ce0615e8e"
    },
    "source_hash": "39b36e92",
    "tags": [],
    "deepnote_cell_type": "code",
    "deepnote_cell_height": 148.1875
   },
   "source": "train_df, val_df, test_df = np.split(data_df.sample(frac=1, random_state=42), [int(.8*len(data_df)), int(.9*len(data_df))])\n\nprint(len(train_df),len(val_df), len(test_df))",
   "execution_count": null,
   "outputs": [
    {
     "name": "stdout",
     "text": "22080 2760 2760\n",
     "output_type": "stream"
    }
   ]
  },
  {
   "cell_type": "code",
   "metadata": {
    "cell_id": "00005-6025089b-48bd-4a3f-a53c-51857f9140da",
    "deepnote_to_be_reexecuted": false,
    "execution_millis": 391,
    "execution_start": 1648990902230,
    "gradient": {
     "editing": false,
     "id": "04a93fc2-e649-4839-a48f-0208f225dc53",
     "kernelId": "bdad9f9f-f07c-45e1-9f7d-b89ce0615e8e"
    },
    "source_hash": "da3c9165",
    "deepnote_cell_type": "code",
    "deepnote_cell_height": 567
   },
   "source": "tokenizer = BertTokenizer.from_pretrained('bert-base-cased')\n\nclass Dataset(torch.utils.data.Dataset):\n    def __init__(self, df, text_col='Text', label_col='Label'):\n        self.labels = [float(x) for x in df[label_col]]\n        self.texts = [\n            tokenizer(\n                text, \n                padding='max_length',\n                max_length = 512,\n                truncation=True,\n                return_tensors='pt'\n            ) for text in df[text_col]\n        ]\n    def classes(self):\n        return self.labels\n    def __len__(self):\n        return len(self.labels)\n    def get_batch_labels(self, idx):\n        # Fetch a batch of labels\n        return np.array(self.labels[idx])\n    def get_batch_texts(self, idx):\n        # Fetch a batch of inputs\n        return self.texts[idx]\n    def __getitem__(self, idx):\n        batch_texts = self.get_batch_texts(idx)\n        batch_y = self.get_batch_labels(idx)\n        return batch_texts, batch_y",
   "execution_count": null,
   "outputs": []
  },
  {
   "cell_type": "markdown",
   "source": "## Model",
   "metadata": {
    "cell_id": "00006-925b51ab-b75c-4575-ac37-7478b205f33e",
    "gradient": {
     "editing": false,
     "id": "89548466-2055-49a7-b626-9d4bbf55380d",
     "kernelId": "bdad9f9f-f07c-45e1-9f7d-b89ce0615e8e"
    },
    "deepnote_cell_type": "markdown",
    "deepnote_cell_height": 70
   }
  },
  {
   "cell_type": "code",
   "metadata": {
    "cell_id": "00007-faf773ca-da6f-484d-9a6a-df349bcac434",
    "deepnote_to_be_reexecuted": false,
    "execution_millis": 11,
    "execution_start": 1648990902640,
    "gradient": {
     "editing": false,
     "id": "07033b95-6d54-457c-bbae-3d41abcf0091",
     "kernelId": "bdad9f9f-f07c-45e1-9f7d-b89ce0615e8e"
    },
    "source_hash": "6cafba65",
    "deepnote_cell_type": "code",
    "deepnote_cell_height": 351
   },
   "source": "class BertClassifier(nn.Module):\n    def __init__(self, dropout=0.5):\n        super(BertClassifier, self).__init__()\n\n        self.bert = BertModel.from_pretrained('bert-base-cased')\n        # for param in self.bert.parameters():\n        #     param.requires_grad = False\n        self.dropout = nn.Dropout(dropout)\n        self.linear = nn.Linear(768, 1)\n        self.activation = nn.Sigmoid()\n    def forward(self, input_id, mask):\n        _, x = self.bert(input_ids= input_id, attention_mask=mask,return_dict=False)\n        x = self.dropout(x)\n        x = self.linear(x)\n        x = self.activation(x)\n        return x",
   "execution_count": null,
   "outputs": []
  },
  {
   "cell_type": "markdown",
   "source": "## Training",
   "metadata": {
    "cell_id": "00008-53e750a0-f079-4aea-93be-bcd66853309e",
    "gradient": {
     "editing": false,
     "id": "a868aba9-f451-43a9-bb7d-4e73174f0878",
     "kernelId": "bdad9f9f-f07c-45e1-9f7d-b89ce0615e8e"
    },
    "deepnote_cell_type": "markdown",
    "deepnote_cell_height": 70
   }
  },
  {
   "cell_type": "code",
   "metadata": {
    "cell_id": "00009-89e946cb-b674-461b-bba1-af467f7e6c6d",
    "deepnote_to_be_reexecuted": false,
    "execution_millis": 24,
    "execution_start": 1648990902675,
    "gradient": {
     "editing": false,
     "id": "d233a8bf-0d2e-4915-a69b-58dfdd8c3f91",
     "kernelId": "bdad9f9f-f07c-45e1-9f7d-b89ce0615e8e"
    },
    "source_hash": "20170310",
    "deepnote_cell_type": "code",
    "deepnote_cell_height": 837
   },
   "source": "def train(model, train_data, val_data, learning_rate, epochs):\n    train, val = Dataset(train_data), Dataset(val_data)\n    train_dataloader = torch.utils.data.DataLoader(train, batch_size=BATCH_SIZE, shuffle=True)\n    val_dataloader = torch.utils.data.DataLoader(val, batch_size=2)\n    use_cuda = torch.cuda.is_available()\n    device = torch.device(\"cuda\" if use_cuda else \"cpu\")\n    criterion = nn.BCELoss()\n    optimizer = Adam(model.parameters(), lr= learning_rate)\n    if use_cuda:\n            model = model.cuda()\n            criterion = criterion.cuda()\n    for epoch_num in range(epochs):\n            total_acc_train = 0\n            total_loss_train = 0\n            model.train()\n            for train_input, train_label in tqdm(train_dataloader):\n                train_label = train_label.to(device).unsqueeze(1)\n                mask = train_input['attention_mask'].to(device)\n                input_id = train_input['input_ids'].squeeze(1).to(device)\n                output = model(input_id, mask)\n                batch_loss = criterion(output.double(), train_label)\n                total_loss_train += batch_loss.item()\n                acc = (output.round() == train_label).sum().item()\n                total_acc_train += acc\n                model.zero_grad()\n                batch_loss.backward()\n                optimizer.step()\n            total_acc_val = 0\n            total_loss_val = 0\n            model.eval()\n            with torch.no_grad():\n                for val_input, val_label in val_dataloader:\n                    val_label = val_label.to(device).unsqueeze(1)\n                    mask = val_input['attention_mask'].to(device)\n                    input_id = val_input['input_ids'].squeeze(1).to(device)\n                    output = model(input_id, mask)\n                    batch_loss = criterion(output.double(), val_label)\n                    total_loss_val += batch_loss.item()\n                    acc = (output.round() == val_label).sum().item()\n                    total_acc_val += acc\n            print(\n                f'Epochs: {epoch_num + 1} | Train Loss: {total_loss_train / len(train_data): .3f} | Train Accuracy: {total_acc_train / len(train_data): .3f} | Val Loss: {total_loss_val / len(val_data): .3f} | Val Accuracy: {total_acc_val / len(val_data): .3f}')\n            torch.save(model.state_dict(), 'bert_clf.pt')",
   "execution_count": null,
   "outputs": []
  },
  {
   "cell_type": "code",
   "metadata": {
    "cell_id": "00010-e0e8e963-621c-47b4-9352-545544d3da93",
    "deepnote_to_be_reexecuted": false,
    "execution_millis": 45,
    "execution_start": 1648990902761,
    "gradient": {
     "editing": false,
     "id": "4592d958-6b23-4d55-a2bc-60b5d43120e3",
     "kernelId": "bdad9f9f-f07c-45e1-9f7d-b89ce0615e8e"
    },
    "source_hash": "20f491bd",
    "deepnote_cell_type": "code",
    "deepnote_cell_height": 639
   },
   "source": "def evaluate(model, test_data):\n    test = Dataset(test_data)\n    test_dataloader = torch.utils.data.DataLoader(test, batch_size=BATCH_SIZE)\n    use_cuda = torch.cuda.is_available()\n    device = torch.device(\"cuda\" if use_cuda else \"cpu\")\n    if use_cuda:\n        model = model.cuda()\n    y_pred_list = []\n    y_test = []\n    # global output_rnd\n    # global test_lbl\n    model.eval()\n    with torch.no_grad():\n        for test_input, test_label in test_dataloader:\n            test_label = test_label.to(device).unsqueeze(1)\n            mask = test_input['attention_mask'].to(device)\n            input_id = test_input['input_ids'].squeeze(1).to(device)\n            output = model(input_id, mask)\n            # output_rnd = output.round()\n            # test_lbl = test_label\n            # return\n            y_pred_list.append(output.round().cpu().numpy())\n            y_test.append(test_label.cpu().numpy())\n    y_pred_list = [a.squeeze().tolist() for a in y_pred_list]\n    y_pred_list = [item for sublist in y_pred_list for item in sublist]\n    y_test = [a.squeeze().tolist() for a in y_test]\n    y_test = [item for sublist in y_test for item in sublist]\n    cm = confusion_matrix(y_test, y_pred_list)\n    disp = ConfusionMatrixDisplay(confusion_matrix=cm)\n    disp.plot()\n    plt.show()\n    print(classification_report(y_test, y_pred_list))",
   "execution_count": null,
   "outputs": []
  },
  {
   "cell_type": "markdown",
   "source": "## ...",
   "metadata": {
    "cell_id": "00011-848979d0-21ec-4e99-8f05-d12dd793d4cc",
    "gradient": {
     "editing": false,
     "id": "6fa1a893-b2d2-4352-b78c-f401cb9e8582",
     "kernelId": "bdad9f9f-f07c-45e1-9f7d-b89ce0615e8e"
    },
    "deepnote_cell_type": "markdown",
    "deepnote_cell_height": 70
   }
  },
  {
   "cell_type": "code",
   "metadata": {
    "cell_id": "00013-b1b6d392-fb8b-4ccb-803e-dc64d8a5dc31",
    "deepnote_to_be_reexecuted": false,
    "execution_millis": 2355,
    "execution_start": 1648990902806,
    "gradient": {
     "editing": false,
     "id": "56f2cfa7-7241-49f6-b1c8-b0122fdfb36e",
     "kernelId": "bdad9f9f-f07c-45e1-9f7d-b89ce0615e8e"
    },
    "source_hash": "4e226140",
    "deepnote_cell_type": "code",
    "deepnote_cell_height": 719
   },
   "source": "model = BertClassifier()\nprint(model)",
   "execution_count": null,
   "outputs": [
    {
     "name": "stderr",
     "text": "Some weights of the model checkpoint at bert-base-cased were not used when initializing BertModel: ['cls.predictions.bias', 'cls.predictions.transform.dense.bias', 'cls.predictions.transform.LayerNorm.weight', 'cls.predictions.transform.LayerNorm.bias', 'cls.predictions.decoder.weight', 'cls.seq_relationship.weight', 'cls.predictions.transform.dense.weight', 'cls.seq_relationship.bias']\n- This IS expected if you are initializing BertModel from the checkpoint of a model trained on another task or with another architecture (e.g. initializing a BertForSequenceClassification model from a BertForPreTraining model).\n- This IS NOT expected if you are initializing BertModel from the checkpoint of a model that you expect to be exactly identical (initializing a BertForSequenceClassification model from a BertForSequenceClassification model).\nBertClassifier(\n  (bert): BertModel(\n    (embeddings): BertEmbeddings(\n      (word_embeddings): Embedding(28996, 768, padding_idx=0)\n      (position_embeddings): Embedding(512, 768)\n      (token_type_embeddings): Embedding(2, 768)\n      (LayerNorm): LayerNorm((768,), eps=1e-12, elementwise_affine=True)\n      (dropout): Dropout(p=0.1, inplace=False)\n    )\n    (encoder): BertEncoder(\n      (layer): ModuleList(\n        (0): BertLayer(\n          (attention): BertAttention(\n            (self): BertSelfAttention(\n              (query): Linear(in_features=768, out_features=768, bias=True)\n              (key): Linear(in_features=768, out_features=768, bias=True)\n              (value): Linear(in_features=768, out_features=768, bias=True)\n              (dropout): Dropout(p=0.1, inplace=False)\n            )\n            (output): BertSelfOutput(\n              (dense): Linear(in_features=768, out_features=768, bias=True)\n              (LayerNorm): LayerNorm((768,), eps=1e-12, elementwise_affine=True)\n              (dropout): Dropout(p=0.1, inplace=False)\n            )\n          )\n          (intermediate): BertIntermediate(\n            (dense): Linear(in_features=768, out_features=3072, bias=True)\n            (intermediate_act_fn): GELUActivation()\n          )\n          (output): BertOutput(\n            (dense): Linear(in_features=3072, out_features=768, bias=True)\n            (LayerNorm): LayerNorm((768,), eps=1e-12, elementwise_affine=True)\n            (dropout): Dropout(p=0.1, inplace=False)\n          )\n        )\n        (1): BertLayer(\n          (attention): BertAttention(\n            (self): BertSelfAttention(\n              (query): Linear(in_features=768, out_features=768, bias=True)\n              (key): Linear(in_features=768, out_features=768, bias=True)\n              (value): Linear(in_features=768, out_features=768, bias=True)\n              (dropout): Dropout(p=0.1, inplace=False)\n            )\n            (output): BertSelfOutput(\n              (dense): Linear(in_features=768, out_features=768, bias=True)\n              (LayerNorm): LayerNorm((768,), eps=1e-12, elementwise_affine=True)\n              (dropout): Dropout(p=0.1, inplace=False)\n            )\n          )\n          (intermediate): BertIntermediate(\n            (dense): Linear(in_features=768, out_features=3072, bias=True)\n            (intermediate_act_fn): GELUActivation()\n          )\n          (output): BertOutput(\n            (dense): Linear(in_features=3072, out_features=768, bias=True)\n            (LayerNorm): LayerNorm((768,), eps=1e-12, elementwise_affine=True)\n            (dropout): Dropout(p=0.1, inplace=False)\n          )\n        )\n        (2): BertLayer(\n          (attention): BertAttention(\n            (self): BertSelfAttention(\n              (query): Linear(in_features=768, out_features=768, bias=True)\n              (key): Linear(in_features=768, out_features=768, bias=True)\n              (value): Linear(in_features=768, out_features=768, bias=True)\n              (dropout): Dropout(p=0.1, inplace=False)\n            )\n            (output): BertSelfOutput(\n              (dense): Linear(in_features=768, out_features=768, bias=True)\n              (LayerNorm): LayerNorm((768,), eps=1e-12, elementwise_affine=True)\n              (dropout): Dropout(p=0.1, inplace=False)\n            )\n          )\n          (intermediate): BertIntermediate(\n            (dense): Linear(in_features=768, out_features=3072, bias=True)\n            (intermediate_act_fn): GELUActivation()\n          )\n          (output): BertOutput(\n            (dense): Linear(in_features=3072, out_features=768, bias=True)\n            (LayerNorm): LayerNorm((768,), eps=1e-12, elementwise_affine=True)\n            (dropout): Dropout(p=0.1, inplace=False)\n          )\n        )\n        (3): BertLayer(\n          (attention): BertAttention(\n            (self): BertSelfAttention(\n              (query): Linear(in_features=768, out_features=768, bias=True)\n              (key): Linear(in_features=768, out_features=768, bias=True)\n              (value): Linear(in_features=768, out_features=768, bias=True)\n              (dropout): Dropout(p=0.1, inplace=False)\n            )\n            (output): BertSelfOutput(\n              (dense): Linear(in_features=768, out_features=768, bias=True)\n              (LayerNorm): LayerNorm((768,), eps=1e-12, elementwise_affine=True)\n              (dropout): Dropout(p=0.1, inplace=False)\n            )\n          )\n          (intermediate): BertIntermediate(\n            (dense): Linear(in_features=768, out_features=3072, bias=True)\n            (intermediate_act_fn): GELUActivation()\n          )\n          (output): BertOutput(\n            (dense): Linear(in_features=3072, out_features=768, bias=True)\n            (LayerNorm): LayerNorm((768,), eps=1e-12, elementwise_affine=True)\n            (dropout): Dropout(p=0.1, inplace=False)\n          )\n        )\n        (4): BertLayer(\n          (attention): BertAttention(\n            (self): BertSelfAttention(\n              (query): Linear(in_features=768, out_features=768, bias=True)\n              (key): Linear(in_features=768, out_features=768, bias=True)\n              (value): Linear(in_features=768, out_features=768, bias=True)\n              (dropout): Dropout(p=0.1, inplace=False)\n            )\n            (output): BertSelfOutput(\n              (dense): Linear(in_features=768, out_features=768, bias=True)\n              (LayerNorm): LayerNorm((768,), eps=1e-12, elementwise_affine=True)\n              (dropout): Dropout(p=0.1, inplace=False)\n            )\n          )\n          (intermediate): BertIntermediate(\n            (dense): Linear(in_features=768, out_features=3072, bias=True)\n            (intermediate_act_fn): GELUActivation()\n          )\n          (output): BertOutput(\n            (dense): Linear(in_features=3072, out_features=768, bias=True)\n            (LayerNorm): LayerNorm((768,), eps=1e-12, elementwise_affine=True)\n            (dropout): Dropout(p=0.1, inplace=False)\n          )\n        )\n        (5): BertLayer(\n          (attention): BertAttention(\n            (self): BertSelfAttention(\n              (query): Linear(in_features=768, out_features=768, bias=True)\n              (key): Linear(in_features=768, out_features=768, bias=True)\n              (value): Linear(in_features=768, out_features=768, bias=True)\n              (dropout): Dropout(p=0.1, inplace=False)\n            )\n            (output): BertSelfOutput(\n              (dense): Linear(in_features=768, out_features=768, bias=True)\n              (LayerNorm): LayerNorm((768,), eps=1e-12, elementwise_affine=True)\n              (dropout): Dropout(p=0.1, inplace=False)\n            )\n          )\n          (intermediate): BertIntermediate(\n            (dense): Linear(in_features=768, out_features=3072, bias=True)\n            (intermediate_act_fn): GELUActivation()\n          )\n          (output): BertOutput(\n            (dense): Linear(in_features=3072, out_features=768, bias=True)\n            (LayerNorm): LayerNorm((768,), eps=1e-12, elementwise_affine=True)\n            (dropout): Dropout(p=0.1, inplace=False)\n          )\n        )\n        (6): BertLayer(\n          (attention): BertAttention(\n            (self): BertSelfAttention(\n              (query): Linear(in_features=768, out_features=768, bias=True)\n              (key): Linear(in_features=768, out_features=768, bias=True)\n              (value): Linear(in_features=768, out_features=768, bias=True)\n              (dropout): Dropout(p=0.1, inplace=False)\n            )\n            (output): BertSelfOutput(\n              (dense): Linear(in_features=768, out_features=768, bias=True)\n              (LayerNorm): LayerNorm((768,), eps=1e-12, elementwise_affine=True)\n              (dropout): Dropout(p=0.1, inplace=False)\n            )\n          )\n          (intermediate): BertIntermediate(\n            (dense): Linear(in_features=768, out_features=3072, bias=True)\n            (intermediate_act_fn): GELUActivation()\n          )\n          (output): BertOutput(\n            (dense): Linear(in_features=3072, out_features=768, bias=True)\n            (LayerNorm): LayerNorm((768,), eps=1e-12, elementwise_affine=True)\n            (dropout): Dropout(p=0.1, inplace=False)\n          )\n        )\n        (7): BertLayer(\n          (attention): BertAttention(\n            (self): BertSelfAttention(\n              (query): Linear(in_features=768, out_features=768, bias=True)\n              (key): Linear(in_features=768, out_features=768, bias=True)\n              (value): Linear(in_features=768, out_features=768, bias=True)\n              (dropout): Dropout(p=0.1, inplace=False)\n            )\n            (output): BertSelfOutput(\n              (dense): Linear(in_features=768, out_features=768, bias=True)\n              (LayerNorm): LayerNorm((768,), eps=1e-12, elementwise_affine=True)\n              (dropout): Dropout(p=0.1, inplace=False)\n            )\n          )\n          (intermediate): BertIntermediate(\n            (dense): Linear(in_features=768, out_features=3072, bias=True)\n            (intermediate_act_fn): GELUActivation()\n          )\n          (output): BertOutput(\n            (dense): Linear(in_features=3072, out_features=768, bias=True)\n            (LayerNorm): LayerNorm((768,), eps=1e-12, elementwise_affine=True)\n            (dropout): Dropout(p=0.1, inplace=False)\n          )\n        )\n        (8): BertLayer(\n          (attention): BertAttention(\n            (self): BertSelfAttention(\n              (query): Linear(in_features=768, out_features=768, bias=True)\n              (key): Linear(in_features=768, out_features=768, bias=True)\n              (value): Linear(in_features=768, out_features=768, bias=True)\n              (dropout): Dropout(p=0.1, inplace=False)\n            )\n            (output): BertSelfOutput(\n              (dense): Linear(in_features=768, out_features=768, bias=True)\n              (LayerNorm): LayerNorm((768,), eps=1e-12, elementwise_affine=True)\n              (dropout): Dropout(p=0.1, inplace=False)\n            )\n          )\n          (intermediate): BertIntermediate(\n            (dense): Linear(in_features=768, out_features=3072, bias=True)\n            (intermediate_act_fn): GELUActivation()\n          )\n          (output): BertOutput(\n            (dense): Linear(in_features=3072, out_features=768, bias=True)\n            (LayerNorm): LayerNorm((768,), eps=1e-12, elementwise_affine=True)\n            (dropout): Dropout(p=0.1, inplace=False)\n          )\n        )\n        (9): BertLayer(\n          (attention): BertAttention(\n            (self): BertSelfAttention(\n              (query): Linear(in_features=768, out_features=768, bias=True)\n              (key): Linear(in_features=768, out_features=768, bias=True)\n              (value): Linear(in_features=768, out_features=768, bias=True)\n              (dropout): Dropout(p=0.1, inplace=False)\n            )\n            (output): BertSelfOutput(\n              (dense): Linear(in_features=768, out_features=768, bias=True)\n              (LayerNorm): LayerNorm((768,), eps=1e-12, elementwise_affine=True)\n              (dropout): Dropout(p=0.1, inplace=False)\n            )\n          )\n          (intermediate): BertIntermediate(\n            (dense): Linear(in_features=768, out_features=3072, bias=True)\n            (intermediate_act_fn): GELUActivation()\n          )\n          (output): BertOutput(\n            (dense): Linear(in_features=3072, out_features=768, bias=True)\n            (LayerNorm): LayerNorm((768,), eps=1e-12, elementwise_affine=True)\n            (dropout): Dropout(p=0.1, inplace=False)\n          )\n        )\n        (10): BertLayer(\n          (attention): BertAttention(\n            (self): BertSelfAttention(\n              (query): Linear(in_features=768, out_features=768, bias=True)\n              (key): Linear(in_features=768, out_features=768, bias=True)\n              (value): Linear(in_features=768, out_features=768, bias=True)\n              (dropout): Dropout(p=0.1, inplace=False)\n            )\n            (output): BertSelfOutput(\n              (dense): Linear(in_features=768, out_features=768, bias=True)\n              (LayerNorm): LayerNorm((768,), eps=1e-12, elementwise_affine=True)\n              (dropout): Dropout(p=0.1, inplace=False)\n            )\n          )\n          (intermediate): BertIntermediate(\n            (dense): Linear(in_features=768, out_features=3072, bias=True)\n            (intermediate_act_fn): GELUActivation()\n          )\n          (output): BertOutput(\n            (dense): Linear(in_features=3072, out_features=768, bias=True)\n            (LayerNorm): LayerNorm((768,), eps=1e-12, elementwise_affine=True)\n            (dropout): Dropout(p=0.1, inplace=False)\n          )\n        )\n        (11): BertLayer(\n          (attention): BertAttention(\n            (self): BertSelfAttention(\n              (query): Linear(in_features=768, out_features=768, bias=True)\n              (key): Linear(in_features=768, out_features=768, bias=True)\n              (value): Linear(in_features=768, out_features=768, bias=True)\n              (dropout): Dropout(p=0.1, inplace=False)\n            )\n            (output): BertSelfOutput(\n              (dense): Linear(in_features=768, out_features=768, bias=True)\n              (LayerNorm): LayerNorm((768,), eps=1e-12, elementwise_affine=True)\n              (dropout): Dropout(p=0.1, inplace=False)\n            )\n          )\n          (intermediate): BertIntermediate(\n            (dense): Linear(in_features=768, out_features=3072, bias=True)\n            (intermediate_act_fn): GELUActivation()\n          )\n          (output): BertOutput(\n            (dense): Linear(in_features=3072, out_features=768, bias=True)\n            (LayerNorm): LayerNorm((768,), eps=1e-12, elementwise_affine=True)\n            (dropout): Dropout(p=0.1, inplace=False)\n          )\n        )\n      )\n    )\n    (pooler): BertPooler(\n      (dense): Linear(in_features=768, out_features=768, bias=True)\n      (activation): Tanh()\n    )\n  )\n  (dropout): Dropout(p=0.5, inplace=False)\n  (linear): Linear(in_features=768, out_features=1, bias=True)\n  (activation): Sigmoid()\n)\n",
     "output_type": "stream"
    }
   ]
  },
  {
   "cell_type": "code",
   "metadata": {
    "cell_id": "9dc7d004319b45508d8a062cc524110d",
    "tags": [],
    "deepnote_to_be_reexecuted": false,
    "source_hash": "11ccdc9",
    "execution_start": 1648990905169,
    "execution_millis": 1806,
    "deepnote_cell_type": "code",
    "deepnote_cell_height": 118.1875,
    "deepnote_output_heights": [
     21.1875
    ]
   },
   "source": "model.load_state_dict(torch.load('bert_clf_e20.pt', map_location=torch.device('cpu')))",
   "execution_count": null,
   "outputs": [
    {
     "output_type": "execute_result",
     "execution_count": 17,
     "data": {
      "text/plain": "<All keys matched successfully>"
     },
     "metadata": {}
    }
   ]
  },
  {
   "cell_type": "code",
   "metadata": {
    "cell_id": "62cf249680fe4f5dbe2c3d0dd4c0a7e8",
    "deepnote_to_be_reexecuted": false,
    "execution_millis": 47,
    "execution_start": 1648990906978,
    "gradient": {
     "editing": false,
     "id": "de7f805e-eddc-494e-bc80-ba929d805e5c",
     "kernelId": "bdad9f9f-f07c-45e1-9f7d-b89ce0615e8e"
    },
    "source_hash": "c0608af3",
    "tags": [],
    "deepnote_cell_type": "code",
    "deepnote_cell_height": 81
   },
   "source": "# train(model, train_df, val_df, LR, EPOCHS)",
   "execution_count": null,
   "outputs": []
  },
  {
   "cell_type": "code",
   "metadata": {
    "cell_id": "00014-0a1abd85-cc21-4e45-a2a1-467d46300b02",
    "deepnote_to_be_reexecuted": false,
    "gradient": {
     "editing": false,
     "id": "29c624e0-180e-4b32-bacd-d32927159151",
     "kernelId": "bdad9f9f-f07c-45e1-9f7d-b89ce0615e8e"
    },
    "source_hash": "1eb40e64",
    "execution_start": 1648990907201,
    "execution_millis": 18650567,
    "deepnote_cell_type": "code",
    "deepnote_cell_height": 568.6875,
    "deepnote_output_heights": [
     264
    ]
   },
   "source": "y = evaluate(model, test_df)",
   "execution_count": null,
   "outputs": [
    {
     "data": {
      "text/plain": "<Figure size 432x288 with 2 Axes>",
      "image/png": "[encoded data removed]"
     },
     "metadata": {
      "needs_background": "light",
      "image/png": {
       "width": 312,
       "height": 262
      }
     },
     "output_type": "display_data"
    },
    {
     "name": "stdout",
     "text": "              precision    recall  f1-score   support\n\n         0.0       0.68      0.71      0.69      1347\n         1.0       0.71      0.69      0.70      1413\n\n    accuracy                           0.70      2760\n   macro avg       0.70      0.70      0.70      2760\nweighted avg       0.70      0.70      0.70      2760\n\n",
     "output_type": "stream"
    }
   ]
  },
  {
   "cell_type": "code",
   "metadata": {
    "cell_id": "8bb8e57208a346e38b10b7ea4ce4cb29",
    "tags": [],
    "deepnote_cell_type": "code",
    "deepnote_cell_height": 66
   },
   "source": "",
   "execution_count": null,
   "outputs": []
  },
  {
   "cell_type": "markdown",
   "source": "<a style='text-decoration:none;line-height:16px;display:flex;color:#5B5B62;padding:10px;justify-content:end;' href='https://deepnote.com?utm_source=created-in-deepnote-cell&projectId=ae8bd3f4-1eb1-4931-aeae-03a910b193bc' target=\"_blank\">\n<img alt='Created in deepnote.com' style='display:inline;max-height:16px;margin:0px;margin-right:7.5px;' src='data:image/svg+xml;base64,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' > </img>\nCreated in <span style='font-weight:600;margin-left:4px;'>Deepnote</span></a>",
   "metadata": {
    "tags": [],
    "created_in_deepnote_cell": true,
    "deepnote_cell_type": "markdown"
   }
  }
 ],
 "nbformat": 4,
 "nbformat_minor": 4,
 "metadata": {
  "deepnote": {},
  "deepnote_execution_queue": [],
  "deepnote_notebook_id": "64a7e9c7-9718-4e06-8a2c-305103501537",
  "kernelspec": {
   "display_name": "Python 3 (ipykernel)",
   "language": "python",
   "name": "python3"
  },
  "language_info": {
   "codemirror_mode": {
    "name": "ipython",
    "version": 3
   },
   "file_extension": ".py",
   "mimetype": "text/x-python",
   "name": "python",
   "nbconvert_exporter": "python",
   "pygments_lexer": "ipython3",
   "version": "3.8.10"
  }
 }
}