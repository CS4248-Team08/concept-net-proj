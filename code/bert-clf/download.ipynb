{
 "cells": [
  {
   "cell_type": "code",
   "execution_count": null,
   "id": "9940bf3e-904a-4ed0-a478-6b3807d5b6a9",
   "metadata": {
    "gradient": {
     "editing": false,
     "id": "9940bf3e-904a-4ed0-a478-6b3807d5b6a9",
     "kernelId": "cb3bc33a-dfe7-4615-b36a-1e3307e4f79d"
    }
   },
   "outputs": [
    {
     "name": "stdout",
     "output_type": "stream",
     "text": [
      "Wed Mar 23 07:10:54 2022       \r\n",
      "+-----------------------------------------------------------------------------+\r\n",
      "| NVIDIA-SMI 460.91.03    Driver Version: 460.91.03    CUDA Version: 11.6     |\r\n",
      "|-------------------------------+----------------------+----------------------+\r\n",
      "| GPU  Name        Persistence-M| Bus-Id        Disp.A | Volatile Uncorr. ECC |\r\n",
      "| Fan  Temp  Perf  Pwr:Usage/Cap|         Memory-Usage | GPU-Util  Compute M. |\r\n",
      "|                               |                      |               MIG M. |\r\n",
      "|===============================+======================+======================|\r\n"
     ]
    },
    {
     "name": "stdout",
     "output_type": "stream",
     "text": [
      "|   0  Quadro RTX 5000     Off  | 00000000:00:05.0 Off |                  Off |\r\n",
      "| 33%   29C    P8     8W / 230W |      0MiB / 16125MiB |      0%      Default |\r\n",
      "|                               |                      |                  N/A |\r\n",
      "+-------------------------------+----------------------+----------------------+\r\n",
      "                                                                               \r\n",
      "+-----------------------------------------------------------------------------+\r\n",
      "| Processes:                                                                  |\r\n",
      "|  GPU   GI   CI        PID   Type   Process name                  GPU Memory |\r\n",
      "|        ID   ID                                                   Usage      |\r\n",
      "|=============================================================================|\r\n",
      "|  No running processes found                                                 |\r\n",
      "+-----------------------------------------------------------------------------+\r\n"
     ]
    }
   ],
   "source": [
    "!nvidia-smi"
   ]
  },
  {
   "cell_type": "code",
   "execution_count": null,
   "id": "fd90f8b8-0fac-45de-a040-2319a87d2392",
   "metadata": {
    "gradient": {
     "editing": false,
     "id": "fd90f8b8-0fac-45de-a040-2319a87d2392",
     "kernelId": "cb3bc33a-dfe7-4615-b36a-1e3307e4f79d"
    }
   },
   "outputs": [
    {
     "name": "stdout",
     "output_type": "stream",
     "text": [
      "Looking in indexes: https://pypi.org/simple, https://pypi.ngc.nvidia.com\r\n"
     ]
    },
    {
     "name": "stdout",
     "output_type": "stream",
     "text": [
      "Collecting minio\r\n"
     ]
    },
    {
     "name": "stdout",
     "output_type": "stream",
     "text": [
      "  Downloading minio-7.1.5-py3-none-any.whl (75 kB)\r\n",
      "\u001b[?25l\r\n",
      "\u001b[K     |████▎                           | 10 kB 30.7 MB/s eta 0:00:01\r\n",
      "\u001b[K     |████████▋                       | 20 kB 36.9 MB/s eta 0:00:01\r\n",
      "\u001b[K     |█████████████                   | 30 kB 20.6 MB/s eta 0:00:01\r\n",
      "\u001b[K     |█████████████████▎              | 40 kB 16.0 MB/s eta 0:00:01\r\n",
      "\u001b[K     |█████████████████████▋          | 51 kB 13.6 MB/s eta 0:00:01\r\n",
      "\u001b[K     |██████████████████████████      | 61 kB 15.8 MB/s eta 0:00:01\r\n",
      "\u001b[K     |██████████████████████████████▎ | 71 kB 17.3 MB/s eta 0:00:01\r\n",
      "\u001b[K     |████████████████████████████████| 75 kB 18.5 MB/s \r\n",
      "\u001b[?25hRequirement already satisfied: certifi in /opt/conda/lib/python3.8/site-packages (from minio) (2021.10.8)\r\n",
      "Requirement already satisfied: urllib3 in /opt/conda/lib/python3.8/site-packages (from minio) (1.26.7)\r\n"
     ]
    },
    {
     "name": "stdout",
     "output_type": "stream",
     "text": [
      "Installing collected packages: minio\r\n"
     ]
    },
    {
     "name": "stdout",
     "output_type": "stream",
     "text": [
      "Successfully installed minio-7.1.5\r\n",
      "\u001b[33mWARNING: Running pip as the 'root' user can result in broken permissions and conflicting behaviour with the system package manager. It is recommended to use a virtual environment instead: https://pip.pypa.io/warnings/venv\u001b[0m\r\n"
     ]
    }
   ],
   "source": [
    "!pip install minio"
   ]
  },
  {
   "cell_type": "code",
   "execution_count": null,
   "id": "9c7937f7-a2d5-4de8-a57d-7b2068d20ca6",
   "metadata": {
    "gradient": {
     "editing": false,
     "id": "9c7937f7-a2d5-4de8-a57d-7b2068d20ca6",
     "kernelId": "cb3bc33a-dfe7-4615-b36a-1e3307e4f79d"
    }
   },
   "outputs": [],
   "source": [
    "from minio import Minio\n",
    "client = Minio(\n",
    "    \"minio.lirc572.com\",\n",
    ")"
   ]
  },
  {
   "cell_type": "code",
   "execution_count": null,
   "id": "b5e051d3-1a69-485a-9edd-996c1c6df613",
   "metadata": {
    "gradient": {
     "editing": false,
     "id": "b5e051d3-1a69-485a-9edd-996c1c6df613",
     "kernelId": "cb3bc33a-dfe7-4615-b36a-1e3307e4f79d"
    }
   },
   "outputs": [
    {
     "data": {
      "text/plain": [
       "<minio.datatypes.Object at 0x7fa71c47d580>"
      ]
     },
     "execution_count": 7,
     "metadata": {},
     "output_type": "execute_result"
    }
   ],
   "source": [
    "client.fget_object(\n",
    "    bucket_name=\"cs4248\",\n",
    "    object_name=\"data.zip\",\n",
    "    file_path=\"data.zip\"\n",
    ")"
   ]
  },
  {
   "cell_type": "code",
   "execution_count": null,
   "id": "ac2b246e-dbd3-4537-8505-f48ccdc7eb07",
   "metadata": {
    "gradient": {
     "editing": false,
     "id": "ac2b246e-dbd3-4537-8505-f48ccdc7eb07",
     "kernelId": "cb3bc33a-dfe7-4615-b36a-1e3307e4f79d"
    }
   },
   "outputs": [
    {
     "data": {
      "text/plain": [
       "<minio.datatypes.Object at 0x7fa71c1cef10>"
      ]
     },
     "execution_count": 8,
     "metadata": {},
     "output_type": "execute_result"
    }
   ],
   "source": [
    "client.fget_object(\n",
    "    bucket_name=\"cs4248\",\n",
    "    object_name=\"features.zip\",\n",
    "    file_path=\"features.zip\"\n",
    ")"
   ]
  },
  {
   "cell_type": "code",
   "execution_count": null,
   "id": "3a7ce2f3-9638-498b-a717-0eb983b9c1f8",
   "metadata": {
    "gradient": {
     "editing": false,
     "id": "3a7ce2f3-9638-498b-a717-0eb983b9c1f8",
     "kernelId": "cb3bc33a-dfe7-4615-b36a-1e3307e4f79d"
    }
   },
   "outputs": [
    {
     "name": "stdout",
     "output_type": "stream",
     "text": [
      "bert.ipynb  data.zip  download.ipynb  features.zip\r\n"
     ]
    }
   ],
   "source": [
    "!ls"
   ]
  },
  {
   "cell_type": "code",
   "execution_count": null,
   "id": "4bde3e30-1b24-4caf-89d4-717d13c78bce",
   "metadata": {
    "gradient": {
     "editing": false,
     "id": "4bde3e30-1b24-4caf-89d4-717d13c78bce",
     "kernelId": "cb3bc33a-dfe7-4615-b36a-1e3307e4f79d"
    }
   },
   "outputs": [
    {
     "name": "stdout",
     "output_type": "stream",
     "text": [
      "Archive:  data.zip\r\n",
      "   creating: data/\r\n",
      "   creating: data/money/\r\n",
      "  inflating: data/money/answers.txt  \r\n",
      "  inflating: data/money/paths.pkl    \r\n",
      "   creating: data/open-domain/\r\n",
      "  inflating: data/open-domain/paths-len4.pkl  "
     ]
    },
    {
     "name": "stdout",
     "output_type": "stream",
     "text": [
      "\r\n",
      "  inflating: data/open-domain/answers.txt  \r\n",
      "  inflating: data/open-domain/paths-len2.pkl  "
     ]
    },
    {
     "name": "stdout",
     "output_type": "stream",
     "text": [
      "\r\n",
      "  inflating: data/open-domain/paths-len3.pkl  "
     ]
    },
    {
     "name": "stdout",
     "output_type": "stream",
     "text": [
      "\r\n",
      "  inflating: data/open-domain/paths-len5.pkl  "
     ]
    },
    {
     "name": "stdout",
     "output_type": "stream",
     "text": [
      "\r\n",
      "   creating: data/science/\r\n",
      "  inflating: data/science/answers.txt  \r\n",
      "  inflating: data/science/paths.pkl  "
     ]
    },
    {
     "name": "stdout",
     "output_type": "stream",
     "text": [
      "\r\n"
     ]
    }
   ],
   "source": [
    "!unzip data.zip"
   ]
  },
  {
   "cell_type": "code",
   "execution_count": null,
   "id": "d920397b-12f4-4c91-b18c-10dda0e8a070",
   "metadata": {
    "gradient": {
     "editing": false,
     "id": "d920397b-12f4-4c91-b18c-10dda0e8a070",
     "kernelId": "cb3bc33a-dfe7-4615-b36a-1e3307e4f79d"
    }
   },
   "outputs": [
    {
     "name": "stdout",
     "output_type": "stream",
     "text": [
      "Archive:  features.zip\r\n",
      "   creating: features/\r\n",
      "  inflating: features/e_weightsource.pkl  \r\n",
      "  inflating: features/e_sense.pkl    \r\n",
      "  inflating: features/e_trank_rel.pkl  \r\n",
      "  inflating: features/v_sense.pkl    \r\n",
      "  inflating: features/e_srank_abs.pkl  "
     ]
    },
    {
     "name": "stdout",
     "output_type": "stream",
     "text": [
      "\r\n",
      "  inflating: features/e_trank_abs.pkl  \r\n",
      "  inflating: features/v_enc_onehot.pkl  \r\n",
      "  inflating: features/e_dir.pkl      \r\n",
      "  inflating: features/v_enc_embedding.pkl  "
     ]
    },
    {
     "name": "stdout",
     "output_type": "stream",
     "text": [
      "\r\n",
      "  inflating: features/e_source.pkl   \r\n",
      "  inflating: features/v_deg.pkl      \r\n",
      "  inflating: features/e_rel.pkl      \r\n",
      "  inflating: features/v_enc_dim300.pkl  "
     ]
    },
    {
     "name": "stdout",
     "output_type": "stream",
     "text": [
      "\r\n",
      "  inflating: features/v_enc_dim50.pkl  "
     ]
    },
    {
     "name": "stdout",
     "output_type": "stream",
     "text": [
      "\r\n",
      "  inflating: features/e_weight.pkl   \r\n",
      "  inflating: features/v_freq_rank.pkl  \r\n",
      "  inflating: features/e_vertexsim.pkl  \r\n",
      "  inflating: features/v_enc_dim100.pkl  "
     ]
    },
    {
     "name": "stdout",
     "output_type": "stream",
     "text": [
      "\r\n",
      "  inflating: features/e_srank_rel.pkl  "
     ]
    },
    {
     "name": "stdout",
     "output_type": "stream",
     "text": [
      "\r\n",
      "  inflating: features/.gitignore     \r\n",
      "  inflating: features/v_enc_dim2.pkl  \r\n",
      "  inflating: features/v_freq_freq.pkl  \r\n",
      "  inflating: features/v_enc_dim10.pkl  "
     ]
    },
    {
     "name": "stdout",
     "output_type": "stream",
     "text": [
      "\r\n"
     ]
    }
   ],
   "source": [
    "!unzip features.zip"
   ]
  },
  {
   "cell_type": "code",
   "execution_count": null,
   "id": "095cc7a5-1474-4060-a44d-445fa1d8e1a2",
   "metadata": {
    "gradient": {
     "editing": false,
     "id": "095cc7a5-1474-4060-a44d-445fa1d8e1a2",
     "kernelId": "cb3bc33a-dfe7-4615-b36a-1e3307e4f79d"
    }
   },
   "outputs": [],
   "source": [
    "!rm data.zip"
   ]
  },
  {
   "cell_type": "code",
   "execution_count": null,
   "id": "65abe9c4-c079-4578-b0e9-140cbea24f19",
   "metadata": {
    "gradient": {
     "editing": false,
     "id": "65abe9c4-c079-4578-b0e9-140cbea24f19",
     "kernelId": "cb3bc33a-dfe7-4615-b36a-1e3307e4f79d"
    }
   },
   "outputs": [],
   "source": [
    "!rm features.zip"
   ]
  },
  {
   "cell_type": "code",
   "execution_count": null,
   "id": "5799d8f2-9455-4ffd-a34e-2928663391c8",
   "metadata": {
    "collapsed": false,
    "gradient": {
     "editing": false,
     "id": "5799d8f2-9455-4ffd-a34e-2928663391c8",
     "kernelId": "cb3bc33a-dfe7-4615-b36a-1e3307e4f79d",
     "source_hidden": false
    }
   },
   "outputs": [],
   "source": []
  }
 ],
 "metadata": {
  "kernelspec": {
   "display_name": "Python 3 (ipykernel)",
   "language": "python",
   "name": "python3"
  },
  "language_info": {
   "codemirror_mode": {
    "name": "ipython",
    "version": 3
   },
   "file_extension": ".py",
   "mimetype": "text/x-python",
   "name": "python",
   "nbconvert_exporter": "python",
   "pygments_lexer": "ipython3",
   "version": "3.8.10"
  }
 },
 "nbformat": 4,
 "nbformat_minor": 5
}
