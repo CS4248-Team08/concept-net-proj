{
 "cells": [
  {
   "cell_type": "markdown",
   "metadata": {
    "pycharm": {
     "name": "#%% md\n"
    }
   },
   "source": [
    "### Import packages"
   ]
  },
  {
   "cell_type": "code",
   "execution_count": 1,
   "metadata": {
    "pycharm": {
     "name": "#%%\n"
    }
   },
   "outputs": [],
   "source": [
    "import torch\n",
    "from dataset import Dataset\n",
    "from learn import train, test\n",
    "\n",
    "import pandas as pd\n",
    "import numpy as np\n",
    "import matplotlib.pyplot as plt"
   ]
  },
  {
   "cell_type": "markdown",
   "metadata": {
    "pycharm": {
     "name": "#%% md\n"
    }
   },
   "source": [
    "### Setup running device"
   ]
  },
  {
   "cell_type": "code",
   "execution_count": 2,
   "metadata": {
    "pycharm": {
     "name": "#%%\n"
    }
   },
   "outputs": [
    {
     "name": "stdout",
     "output_type": "stream",
     "text": [
      "Using device: cuda\n"
     ]
    }
   ],
   "source": [
    "use_gpu = True\n",
    "device = \"cuda\" if use_gpu and torch.cuda.is_available() else \"cpu\"\n",
    "print(f\"Using device: {device}\")"
   ]
  },
  {
   "cell_type": "markdown",
   "metadata": {},
   "source": [
    "### Load dataset"
   ]
  },
  {
   "cell_type": "code",
   "execution_count": 3,
   "metadata": {
    "pycharm": {
     "name": "#%%\n"
    }
   },
   "outputs": [
    {
     "name": "stdout",
     "output_type": "stream",
     "text": [
      "loading v_enc_dim300\n",
      "loading v_freq_freq\n",
      "loading v_deg\n",
      "loading v_sense\n",
      "loading e_vertexsim\n",
      "loading e_dir\n",
      "loading e_rel\n",
      "loading e_weightsource\n",
      "loading e_srank_rel\n",
      "loading e_trank_rel\n",
      "loading e_sense\n",
      "loading problem plain texts\n",
      "loading labeled pairs\n"
     ]
    }
   ],
   "source": [
    "features = [\n",
    "    'v_enc_dim300',\n",
    "    'v_freq_freq',\n",
    "    'v_deg',\n",
    "    'v_sense',\n",
    "    'e_vertexsim',\n",
    "    'e_dir', 'e_rel',\n",
    "    'e_weightsource',\n",
    "    'e_srank_rel',\n",
    "    'e_trank_rel',\n",
    "    'e_sense'\n",
    "]\n",
    "\n",
    "split_frac = 0.8\n",
    "dataset = Dataset(features, split_frac, device)"
   ]
  },
  {
   "cell_type": "markdown",
   "metadata": {
    "pycharm": {
     "name": "#%% md\n"
    }
   },
   "source": [
    "### Setup training and model configurations"
   ]
  },
  {
   "cell_type": "code",
   "execution_count": 10,
   "metadata": {},
   "outputs": [
    {
     "name": "stdout",
     "output_type": "stream",
     "text": [
      "Config: feature_enc_len:20, path_enc_type:LSTM, feature_enc_type:proj+mean, N:1024, n_epoch:300\n"
     ]
    }
   ],
   "source": [
    "feature_enc_len = 20\n",
    "feature_enc_type = 'proj+mean'  # 'proj+mean' OR 'concat+proj'\n",
    "path_enc_type = \"LSTM\"  # 'RNN' OR 'LSTM' OR 'Attention'\n",
    "\n",
    "num_epoch = 300\n",
    "N = 1024  # batch size\n",
    "num_iter = num_epoch * dataset.train_size//N\n",
    "print(f\"Config: feature_enc_len:{feature_enc_len}, path_enc_type:{path_enc_type}, feature_enc_type:{feature_enc_type}, N:{N}, n_epoch:{num_epoch}\")"
   ]
  },
  {
   "cell_type": "markdown",
   "metadata": {},
   "source": [
    "### Start training"
   ]
  },
  {
   "cell_type": "code",
   "execution_count": 11,
   "metadata": {
    "pycharm": {
     "name": "#%%\n"
    }
   },
   "outputs": [
    {
     "name": "stdout",
     "output_type": "stream",
     "text": [
      "defining architecture\n",
      "Start training\n",
      "Progress: 0.28%, loss: 6.233262777328491, time spent: 0.02 minutes\n",
      "Progress: 0.59%, loss: 6.226231753826141, time spent: 0.04 minutes\n",
      "Progress: 0.90%, loss: 6.217459797859192, time spent: 0.06 minutes\n",
      "Progress: 1.22%, loss: 6.2060826420784, time spent: 0.08 minutes\n",
      "Progress: 1.53%, loss: 6.195519864559174, time spent: 0.10 minutes\n",
      "Progress: 1.84%, loss: 6.17086923122406, time spent: 0.12 minutes\n",
      "Progress: 2.15%, loss: 6.143394112586975, time spent: 0.14 minutes\n",
      "Progress: 2.47%, loss: 6.129617691040039, time spent: 0.16 minutes\n",
      "Progress: 2.78%, loss: 6.10671454668045, time spent: 0.18 minutes\n",
      "Progress: 3.09%, loss: 6.084982931613922, time spent: 0.20 minutes\n",
      "Progress: 3.40%, loss: 6.041349351406097, time spent: 0.22 minutes\n",
      "Progress: 3.72%, loss: 6.00178062915802, time spent: 0.24 minutes\n",
      "Progress: 4.03%, loss: 5.933192789554596, time spent: 0.26 minutes\n",
      "Progress: 4.34%, loss: 5.88902348279953, time spent: 0.27 minutes\n",
      "Progress: 4.65%, loss: 5.898831844329834, time spent: 0.29 minutes\n",
      "Progress: 4.97%, loss: 5.882905423641205, time spent: 0.32 minutes\n",
      "Progress: 5.28%, loss: 5.889095902442932, time spent: 0.34 minutes\n",
      "Progress: 5.59%, loss: 5.8563618659973145, time spent: 0.36 minutes\n",
      "Progress: 5.90%, loss: 5.768315076828003, time spent: 0.38 minutes\n",
      "Progress: 6.22%, loss: 5.821639597415924, time spent: 0.40 minutes\n",
      "Progress: 6.53%, loss: 5.76018899679184, time spent: 0.42 minutes\n",
      "Progress: 6.84%, loss: 5.739417314529419, time spent: 0.44 minutes\n",
      "Progress: 7.15%, loss: 5.74409294128418, time spent: 0.46 minutes\n",
      "Progress: 7.47%, loss: 5.709780395030975, time spent: 0.48 minutes\n",
      "Progress: 7.78%, loss: 5.70971816778183, time spent: 0.50 minutes\n",
      "Progress: 8.09%, loss: 5.729085683822632, time spent: 0.52 minutes\n",
      "Progress: 8.40%, loss: 5.675138711929321, time spent: 0.54 minutes\n",
      "Progress: 8.72%, loss: 5.658962249755859, time spent: 0.56 minutes\n",
      "Progress: 9.03%, loss: 5.648859858512878, time spent: 0.57 minutes\n",
      "Progress: 9.34%, loss: 5.631117105484009, time spent: 0.59 minutes\n",
      "Progress: 9.65%, loss: 5.660551309585571, time spent: 0.61 minutes\n",
      "Progress: 9.97%, loss: 5.731924295425415, time spent: 0.64 minutes\n",
      "Progress: 10.28%, loss: 5.678966581821442, time spent: 0.66 minutes\n",
      "Progress: 10.59%, loss: 5.6545422077178955, time spent: 0.68 minutes\n",
      "Progress: 10.90%, loss: 5.644568383693695, time spent: 0.70 minutes\n",
      "Progress: 11.22%, loss: 5.638395130634308, time spent: 0.72 minutes\n",
      "Progress: 11.53%, loss: 5.591244637966156, time spent: 0.74 minutes\n",
      "Progress: 11.84%, loss: 5.605601906776428, time spent: 0.76 minutes\n",
      "Progress: 12.15%, loss: 5.589171409606934, time spent: 0.78 minutes\n",
      "Progress: 12.47%, loss: 5.599905550479889, time spent: 0.80 minutes\n",
      "Progress: 12.78%, loss: 5.598580777645111, time spent: 0.82 minutes\n",
      "Progress: 13.09%, loss: 5.5567962527275085, time spent: 0.85 minutes\n",
      "Progress: 13.40%, loss: 5.56118381023407, time spent: 0.87 minutes\n",
      "Progress: 13.72%, loss: 5.573648750782013, time spent: 0.88 minutes\n",
      "Progress: 14.03%, loss: 5.563411176204681, time spent: 0.90 minutes\n",
      "Progress: 14.34%, loss: 5.561433553695679, time spent: 0.92 minutes\n",
      "Progress: 14.65%, loss: 5.562676191329956, time spent: 0.94 minutes\n",
      "Progress: 14.97%, loss: 5.545393705368042, time spent: 0.96 minutes\n",
      "Progress: 15.28%, loss: 5.552554547786713, time spent: 0.98 minutes\n",
      "Progress: 15.59%, loss: 5.554776310920715, time spent: 1.01 minutes\n",
      "Progress: 15.90%, loss: 5.537774384021759, time spent: 1.02 minutes\n",
      "Progress: 16.22%, loss: 5.552949368953705, time spent: 1.04 minutes\n",
      "Progress: 16.53%, loss: 5.637839317321777, time spent: 1.06 minutes\n",
      "Progress: 16.84%, loss: 5.650973737239838, time spent: 1.08 minutes\n",
      "Progress: 17.15%, loss: 5.5767441391944885, time spent: 1.10 minutes\n",
      "Progress: 17.47%, loss: 5.60412460565567, time spent: 1.12 minutes\n",
      "Progress: 17.78%, loss: 5.621086299419403, time spent: 1.14 minutes\n",
      "Progress: 18.09%, loss: 5.59893935918808, time spent: 1.17 minutes\n",
      "Progress: 18.40%, loss: 5.53327202796936, time spent: 1.19 minutes\n",
      "Progress: 18.72%, loss: 5.533336937427521, time spent: 1.21 minutes\n",
      "Progress: 19.03%, loss: 5.531958878040314, time spent: 1.23 minutes\n",
      "Progress: 19.34%, loss: 5.517602324485779, time spent: 1.25 minutes\n",
      "Progress: 19.65%, loss: 5.528680860996246, time spent: 1.26 minutes\n",
      "Progress: 19.97%, loss: 5.502746224403381, time spent: 1.29 minutes\n",
      "Progress: 20.28%, loss: 5.506765842437744, time spent: 1.31 minutes\n",
      "Progress: 20.59%, loss: 5.508026301860809, time spent: 1.33 minutes\n",
      "Progress: 20.90%, loss: 5.509365081787109, time spent: 1.35 minutes\n",
      "Progress: 21.22%, loss: 5.511940538883209, time spent: 1.37 minutes\n",
      "Progress: 21.53%, loss: 5.505654811859131, time spent: 1.39 minutes\n",
      "Progress: 21.84%, loss: 5.501718521118164, time spent: 1.42 minutes\n",
      "Progress: 22.15%, loss: 5.494041264057159, time spent: 1.43 minutes\n",
      "Progress: 22.47%, loss: 5.495871365070343, time spent: 1.45 minutes\n",
      "Progress: 22.78%, loss: 5.495866656303406, time spent: 1.48 minutes\n",
      "Progress: 23.09%, loss: 5.517155647277832, time spent: 1.50 minutes\n",
      "Progress: 23.40%, loss: 5.575588047504425, time spent: 1.52 minutes\n",
      "Progress: 23.72%, loss: 5.549393177032471, time spent: 1.54 minutes\n",
      "Progress: 24.03%, loss: 5.496031641960144, time spent: 1.56 minutes\n",
      "Progress: 24.34%, loss: 5.494148075580597, time spent: 1.58 minutes\n",
      "Progress: 24.65%, loss: 5.517904698848724, time spent: 1.60 minutes\n",
      "Progress: 24.97%, loss: 5.4705809354782104, time spent: 1.62 minutes\n",
      "Progress: 25.28%, loss: 5.483706712722778, time spent: 1.64 minutes\n",
      "Progress: 25.59%, loss: 5.480646073818207, time spent: 1.66 minutes\n",
      "Progress: 25.90%, loss: 5.480232834815979, time spent: 1.68 minutes\n",
      "Progress: 26.22%, loss: 5.500360667705536, time spent: 1.71 minutes\n",
      "Progress: 26.53%, loss: 5.475557029247284, time spent: 1.73 minutes\n",
      "Progress: 26.84%, loss: 5.487424314022064, time spent: 1.75 minutes\n",
      "Progress: 27.15%, loss: 5.470612049102783, time spent: 1.77 minutes\n",
      "Progress: 27.47%, loss: 5.491086363792419, time spent: 1.79 minutes\n",
      "Progress: 27.78%, loss: 5.479150474071503, time spent: 1.81 minutes\n",
      "Progress: 28.09%, loss: 5.457725942134857, time spent: 1.83 minutes\n",
      "Progress: 28.40%, loss: 5.4663307666778564, time spent: 1.85 minutes\n",
      "Progress: 28.72%, loss: 5.496321856975555, time spent: 1.87 minutes\n",
      "Progress: 29.03%, loss: 5.606679141521454, time spent: 1.89 minutes\n",
      "Progress: 29.34%, loss: 5.596257984638214, time spent: 1.91 minutes\n",
      "Progress: 29.65%, loss: 5.555322647094727, time spent: 1.93 minutes\n",
      "Progress: 29.97%, loss: 5.504433333873749, time spent: 1.95 minutes\n",
      "Progress: 30.28%, loss: 5.523897707462311, time spent: 1.97 minutes\n",
      "Progress: 30.59%, loss: 5.545146822929382, time spent: 1.99 minutes\n",
      "Progress: 30.90%, loss: 5.514947474002838, time spent: 2.02 minutes\n",
      "Progress: 31.22%, loss: 5.520119726657867, time spent: 2.03 minutes\n",
      "Progress: 31.53%, loss: 5.524100363254547, time spent: 2.05 minutes\n",
      "Progress: 31.84%, loss: 5.548808991909027, time spent: 2.07 minutes\n",
      "Progress: 32.15%, loss: 5.483675181865692, time spent: 2.09 minutes\n",
      "Progress: 32.47%, loss: 5.493752181529999, time spent: 2.11 minutes\n",
      "Progress: 32.78%, loss: 5.479905486106873, time spent: 2.13 minutes\n",
      "Progress: 33.09%, loss: 5.477573573589325, time spent: 2.16 minutes\n",
      "Progress: 33.40%, loss: 5.501096069812775, time spent: 2.18 minutes\n",
      "Progress: 33.72%, loss: 5.475220084190369, time spent: 2.20 minutes\n",
      "Progress: 34.03%, loss: 5.471666634082794, time spent: 2.22 minutes\n",
      "Progress: 34.34%, loss: 5.481139361858368, time spent: 2.24 minutes\n",
      "Progress: 34.65%, loss: 5.480646312236786, time spent: 2.26 minutes\n",
      "Progress: 34.97%, loss: 5.537046790122986, time spent: 2.29 minutes\n",
      "Progress: 35.28%, loss: 5.611246645450592, time spent: 2.31 minutes\n",
      "Progress: 35.59%, loss: 5.589672923088074, time spent: 2.33 minutes\n",
      "Progress: 35.90%, loss: 5.583359777927399, time spent: 2.35 minutes\n",
      "Progress: 36.22%, loss: 5.552997648715973, time spent: 2.37 minutes\n",
      "Progress: 36.53%, loss: 5.560134828090668, time spent: 2.39 minutes\n",
      "Progress: 36.84%, loss: 5.520083010196686, time spent: 2.41 minutes\n",
      "Progress: 37.15%, loss: 5.520748972892761, time spent: 2.43 minutes\n",
      "Progress: 37.47%, loss: 5.567210376262665, time spent: 2.46 minutes\n",
      "Progress: 37.78%, loss: 5.557749390602112, time spent: 2.47 minutes\n"
     ]
    },
    {
     "name": "stdout",
     "output_type": "stream",
     "text": [
      "Progress: 38.09%, loss: 5.548703551292419, time spent: 2.49 minutes\n",
      "Progress: 38.40%, loss: 5.527096450328827, time spent: 2.51 minutes\n",
      "Progress: 38.72%, loss: 5.526004731655121, time spent: 2.54 minutes\n",
      "Progress: 39.03%, loss: 5.511813640594482, time spent: 2.55 minutes\n",
      "Progress: 39.34%, loss: 5.5010427832603455, time spent: 2.58 minutes\n",
      "Progress: 39.65%, loss: 5.514376699924469, time spent: 2.60 minutes\n",
      "Progress: 39.97%, loss: 5.526923716068268, time spent: 2.62 minutes\n",
      "Progress: 40.28%, loss: 5.516173779964447, time spent: 2.64 minutes\n",
      "Progress: 40.59%, loss: 5.501558482646942, time spent: 2.66 minutes\n",
      "Progress: 40.90%, loss: 5.48489511013031, time spent: 2.68 minutes\n",
      "Progress: 41.22%, loss: 5.5066580176353455, time spent: 2.70 minutes\n",
      "Progress: 41.53%, loss: 5.499707639217377, time spent: 2.72 minutes\n",
      "Progress: 41.84%, loss: 5.492336928844452, time spent: 2.74 minutes\n",
      "Progress: 42.15%, loss: 5.5498166680336, time spent: 2.76 minutes\n",
      "Progress: 42.47%, loss: 5.521259248256683, time spent: 2.78 minutes\n",
      "Progress: 42.78%, loss: 5.490071892738342, time spent: 2.81 minutes\n",
      "Progress: 43.09%, loss: 5.474293291568756, time spent: 2.83 minutes\n",
      "Progress: 43.40%, loss: 5.503816068172455, time spent: 2.85 minutes\n",
      "Progress: 43.72%, loss: 5.488943636417389, time spent: 2.87 minutes\n",
      "Progress: 44.03%, loss: 5.486648738384247, time spent: 2.89 minutes\n",
      "Progress: 44.34%, loss: 5.479748487472534, time spent: 2.91 minutes\n",
      "Progress: 44.65%, loss: 5.474262118339539, time spent: 2.93 minutes\n",
      "Progress: 44.97%, loss: 5.487029492855072, time spent: 2.96 minutes\n",
      "Progress: 45.28%, loss: 5.51542592048645, time spent: 2.98 minutes\n",
      "Progress: 45.59%, loss: 5.487013220787048, time spent: 3.00 minutes\n",
      "Progress: 45.90%, loss: 5.46001124382019, time spent: 3.02 minutes\n",
      "Progress: 46.22%, loss: 5.468455910682678, time spent: 3.05 minutes\n",
      "Progress: 46.53%, loss: 5.4756335616111755, time spent: 3.07 minutes\n",
      "Progress: 46.84%, loss: 5.483255863189697, time spent: 3.08 minutes\n",
      "Progress: 47.15%, loss: 5.460703015327454, time spent: 3.11 minutes\n",
      "Progress: 47.47%, loss: 5.475046992301941, time spent: 3.13 minutes\n",
      "Progress: 47.78%, loss: 5.4846996665000916, time spent: 3.15 minutes\n",
      "Progress: 48.09%, loss: 5.446483075618744, time spent: 3.17 minutes\n",
      "Progress: 48.40%, loss: 5.458517491817474, time spent: 3.19 minutes\n",
      "Progress: 48.72%, loss: 5.452963709831238, time spent: 3.22 minutes\n",
      "Progress: 49.03%, loss: 5.461642682552338, time spent: 3.24 minutes\n",
      "Progress: 49.34%, loss: 5.47024667263031, time spent: 3.26 minutes\n",
      "Progress: 49.65%, loss: 5.466697990894318, time spent: 3.28 minutes\n",
      "Progress: 49.97%, loss: 5.420205771923065, time spent: 3.30 minutes\n",
      "Progress: 50.28%, loss: 5.439220666885376, time spent: 3.32 minutes\n",
      "Progress: 50.59%, loss: 5.443511962890625, time spent: 3.34 minutes\n",
      "Progress: 50.90%, loss: 5.438959717750549, time spent: 3.36 minutes\n",
      "Progress: 51.22%, loss: 5.457931041717529, time spent: 3.38 minutes\n",
      "Progress: 51.53%, loss: 5.449965476989746, time spent: 3.40 minutes\n",
      "Progress: 51.84%, loss: 5.469179034233093, time spent: 3.42 minutes\n",
      "Progress: 52.15%, loss: 5.461981177330017, time spent: 3.44 minutes\n",
      "Progress: 52.47%, loss: 5.457249999046326, time spent: 3.46 minutes\n",
      "Progress: 52.78%, loss: 5.445794105529785, time spent: 3.48 minutes\n",
      "Progress: 53.09%, loss: 5.408118724822998, time spent: 3.50 minutes\n",
      "Progress: 53.40%, loss: 5.4376654624938965, time spent: 3.53 minutes\n",
      "Progress: 53.72%, loss: 5.424826979637146, time spent: 3.55 minutes\n",
      "Progress: 54.03%, loss: 5.423590064048767, time spent: 3.57 minutes\n",
      "Progress: 54.34%, loss: 5.441085696220398, time spent: 3.59 minutes\n",
      "Progress: 54.65%, loss: 5.426998853683472, time spent: 3.61 minutes\n",
      "Progress: 54.97%, loss: 5.403569579124451, time spent: 3.63 minutes\n",
      "Progress: 55.28%, loss: 5.432382583618164, time spent: 3.65 minutes\n",
      "Progress: 55.59%, loss: 5.413486123085022, time spent: 3.68 minutes\n",
      "Progress: 55.90%, loss: 5.4141305685043335, time spent: 3.70 minutes\n",
      "Progress: 56.22%, loss: 5.415240287780762, time spent: 3.72 minutes\n",
      "Progress: 56.53%, loss: 5.426152169704437, time spent: 3.74 minutes\n",
      "Progress: 56.84%, loss: 5.408220529556274, time spent: 3.76 minutes\n",
      "Progress: 57.15%, loss: 5.4143345952034, time spent: 3.78 minutes\n",
      "Progress: 57.47%, loss: 5.419476926326752, time spent: 3.80 minutes\n",
      "Progress: 57.78%, loss: 5.426197946071625, time spent: 3.82 minutes\n",
      "Progress: 58.09%, loss: 5.395352244377136, time spent: 3.85 minutes\n",
      "Progress: 58.40%, loss: 5.417471349239349, time spent: 3.86 minutes\n",
      "Progress: 58.72%, loss: 5.406411945819855, time spent: 3.88 minutes\n",
      "Progress: 59.03%, loss: 5.408036291599274, time spent: 3.90 minutes\n",
      "Progress: 59.34%, loss: 5.410510718822479, time spent: 3.93 minutes\n",
      "Progress: 59.65%, loss: 5.418109238147736, time spent: 3.95 minutes\n",
      "Progress: 59.97%, loss: 5.3845067620277405, time spent: 3.97 minutes\n",
      "Progress: 60.28%, loss: 5.415311396121979, time spent: 3.99 minutes\n",
      "Progress: 60.59%, loss: 5.398553252220154, time spent: 4.01 minutes\n",
      "Progress: 60.90%, loss: 5.411290168762207, time spent: 4.03 minutes\n",
      "Progress: 61.22%, loss: 5.4034810066223145, time spent: 4.05 minutes\n",
      "Progress: 61.53%, loss: 5.412057459354401, time spent: 4.07 minutes\n",
      "Progress: 61.84%, loss: 5.391183257102966, time spent: 4.09 minutes\n",
      "Progress: 62.15%, loss: 5.416940152645111, time spent: 4.10 minutes\n",
      "Progress: 62.47%, loss: 5.396266758441925, time spent: 4.12 minutes\n",
      "Progress: 62.78%, loss: 5.404526174068451, time spent: 4.15 minutes\n",
      "Progress: 63.09%, loss: 5.383247435092926, time spent: 4.17 minutes\n",
      "Progress: 63.40%, loss: 5.407582402229309, time spent: 4.19 minutes\n",
      "Progress: 63.72%, loss: 5.402464509010315, time spent: 4.21 minutes\n",
      "Progress: 64.03%, loss: 5.422891736030579, time spent: 4.23 minutes\n",
      "Progress: 64.34%, loss: 5.443670213222504, time spent: 4.25 minutes\n",
      "Progress: 64.65%, loss: 5.4238680601119995, time spent: 4.27 minutes\n",
      "Progress: 64.97%, loss: 5.379168689250946, time spent: 4.29 minutes\n",
      "Progress: 65.28%, loss: 5.409368574619293, time spent: 4.31 minutes\n",
      "Progress: 65.59%, loss: 5.402818143367767, time spent: 4.33 minutes\n",
      "Progress: 65.90%, loss: 5.387765944004059, time spent: 4.35 minutes\n",
      "Progress: 66.22%, loss: 5.39022970199585, time spent: 4.37 minutes\n",
      "Progress: 66.53%, loss: 5.398424208164215, time spent: 4.39 minutes\n",
      "Progress: 66.84%, loss: 5.387849390506744, time spent: 4.41 minutes\n",
      "Progress: 67.15%, loss: 5.391404628753662, time spent: 4.43 minutes\n",
      "Progress: 67.47%, loss: 5.394525110721588, time spent: 4.46 minutes\n",
      "Progress: 67.78%, loss: 5.393060505390167, time spent: 4.48 minutes\n",
      "Progress: 68.09%, loss: 5.381551086902618, time spent: 4.50 minutes\n",
      "Progress: 68.40%, loss: 5.398742973804474, time spent: 4.52 minutes\n",
      "Progress: 68.72%, loss: 5.383792340755463, time spent: 4.54 minutes\n",
      "Progress: 69.03%, loss: 5.388444721698761, time spent: 4.56 minutes\n",
      "Progress: 69.34%, loss: 5.3851518630981445, time spent: 4.58 minutes\n",
      "Progress: 69.65%, loss: 5.39093679189682, time spent: 4.60 minutes\n",
      "Progress: 69.97%, loss: 5.377911746501923, time spent: 4.62 minutes\n",
      "Progress: 70.28%, loss: 5.388214945793152, time spent: 4.64 minutes\n",
      "Progress: 70.59%, loss: 5.405492901802063, time spent: 4.66 minutes\n",
      "Progress: 70.90%, loss: 5.379595518112183, time spent: 4.68 minutes\n",
      "Progress: 71.22%, loss: 5.3775315284729, time spent: 4.70 minutes\n",
      "Progress: 71.53%, loss: 5.388841331005096, time spent: 4.72 minutes\n",
      "Progress: 71.84%, loss: 5.37482076883316, time spent: 4.74 minutes\n",
      "Progress: 72.15%, loss: 5.385579466819763, time spent: 4.76 minutes\n",
      "Progress: 72.47%, loss: 5.377582788467407, time spent: 4.79 minutes\n",
      "Progress: 72.78%, loss: 5.386339366436005, time spent: 4.81 minutes\n",
      "Progress: 73.09%, loss: 5.3738720417022705, time spent: 4.83 minutes\n",
      "Progress: 73.40%, loss: 5.418571710586548, time spent: 4.85 minutes\n",
      "Progress: 73.72%, loss: 5.399919509887695, time spent: 4.86 minutes\n",
      "Progress: 74.03%, loss: 5.421295464038849, time spent: 4.89 minutes\n",
      "Progress: 74.34%, loss: 5.399984538555145, time spent: 4.91 minutes\n",
      "Progress: 74.65%, loss: 5.387607991695404, time spent: 4.93 minutes\n",
      "Progress: 74.97%, loss: 5.382528781890869, time spent: 4.95 minutes\n",
      "Progress: 75.28%, loss: 5.373383700847626, time spent: 4.97 minutes\n",
      "Progress: 75.59%, loss: 5.375416398048401, time spent: 4.99 minutes\n"
     ]
    },
    {
     "name": "stdout",
     "output_type": "stream",
     "text": [
      "Progress: 75.90%, loss: 5.362781524658203, time spent: 5.01 minutes\n",
      "Progress: 76.22%, loss: 5.364413797855377, time spent: 5.03 minutes\n",
      "Progress: 76.53%, loss: 5.380693852901459, time spent: 5.05 minutes\n",
      "Progress: 76.84%, loss: 5.3673717975616455, time spent: 5.07 minutes\n",
      "Progress: 77.15%, loss: 5.383230209350586, time spent: 5.09 minutes\n",
      "Progress: 77.47%, loss: 5.371027827262878, time spent: 5.12 minutes\n",
      "Progress: 77.78%, loss: 5.382428050041199, time spent: 5.14 minutes\n",
      "Progress: 78.09%, loss: 5.352545320987701, time spent: 5.16 minutes\n",
      "Progress: 78.40%, loss: 5.380569696426392, time spent: 5.18 minutes\n",
      "Progress: 78.72%, loss: 5.378868281841278, time spent: 5.20 minutes\n",
      "Progress: 79.03%, loss: 5.3809767961502075, time spent: 5.22 minutes\n",
      "Progress: 79.34%, loss: 5.383594810962677, time spent: 5.24 minutes\n",
      "Progress: 79.65%, loss: 5.394752621650696, time spent: 5.26 minutes\n",
      "Progress: 79.97%, loss: 5.379059255123138, time spent: 5.28 minutes\n",
      "Progress: 80.28%, loss: 5.378983438014984, time spent: 5.30 minutes\n",
      "Progress: 80.59%, loss: 5.350488126277924, time spent: 5.32 minutes\n",
      "Progress: 80.90%, loss: 5.365338861942291, time spent: 5.34 minutes\n",
      "Progress: 81.22%, loss: 5.37401819229126, time spent: 5.36 minutes\n",
      "Progress: 81.53%, loss: 5.423355340957642, time spent: 5.38 minutes\n",
      "Progress: 81.84%, loss: 5.389191627502441, time spent: 5.40 minutes\n",
      "Progress: 82.15%, loss: 5.4171483516693115, time spent: 5.42 minutes\n",
      "Progress: 82.47%, loss: 5.411610186100006, time spent: 5.44 minutes\n",
      "Progress: 82.78%, loss: 5.4014928340911865, time spent: 5.47 minutes\n",
      "Progress: 83.09%, loss: 5.384806931018829, time spent: 5.48 minutes\n",
      "Progress: 83.40%, loss: 5.446205317974091, time spent: 5.50 minutes\n",
      "Progress: 83.72%, loss: 5.399115979671478, time spent: 5.53 minutes\n",
      "Progress: 84.03%, loss: 5.3781901597976685, time spent: 5.55 minutes\n",
      "Progress: 84.34%, loss: 5.403837442398071, time spent: 5.57 minutes\n",
      "Progress: 84.65%, loss: 5.387785196304321, time spent: 5.59 minutes\n",
      "Progress: 84.97%, loss: 5.371743977069855, time spent: 5.62 minutes\n",
      "Progress: 85.28%, loss: 5.380823075771332, time spent: 5.64 minutes\n",
      "Progress: 85.59%, loss: 5.37136036157608, time spent: 5.66 minutes\n",
      "Progress: 85.90%, loss: 5.361523985862732, time spent: 5.68 minutes\n",
      "Progress: 86.22%, loss: 5.381671130657196, time spent: 5.70 minutes\n",
      "Progress: 86.53%, loss: 5.374936819076538, time spent: 5.72 minutes\n",
      "Progress: 86.84%, loss: 5.348248362541199, time spent: 5.74 minutes\n",
      "Progress: 87.15%, loss: 5.375317394733429, time spent: 5.76 minutes\n",
      "Progress: 87.47%, loss: 5.369113087654114, time spent: 5.78 minutes\n",
      "Progress: 87.78%, loss: 5.36122053861618, time spent: 5.80 minutes\n",
      "Progress: 88.09%, loss: 5.343303442001343, time spent: 5.83 minutes\n",
      "Progress: 88.40%, loss: 5.379589557647705, time spent: 5.84 minutes\n",
      "Progress: 88.72%, loss: 5.367416739463806, time spent: 5.87 minutes\n",
      "Progress: 89.03%, loss: 5.357503771781921, time spent: 5.89 minutes\n",
      "Progress: 89.34%, loss: 5.371255397796631, time spent: 5.91 minutes\n",
      "Progress: 89.65%, loss: 5.35639888048172, time spent: 5.93 minutes\n",
      "Progress: 89.97%, loss: 5.359557271003723, time spent: 5.95 minutes\n",
      "Progress: 90.28%, loss: 5.366739273071289, time spent: 5.97 minutes\n",
      "Progress: 90.59%, loss: 5.346563279628754, time spent: 5.99 minutes\n",
      "Progress: 90.90%, loss: 5.3635624051094055, time spent: 6.01 minutes\n",
      "Progress: 91.22%, loss: 5.367003083229065, time spent: 6.03 minutes\n",
      "Progress: 91.53%, loss: 5.3592535853385925, time spent: 6.05 minutes\n",
      "Progress: 91.84%, loss: 5.340372383594513, time spent: 6.07 minutes\n",
      "Progress: 92.15%, loss: 5.3591614961624146, time spent: 6.09 minutes\n",
      "Progress: 92.47%, loss: 5.349519193172455, time spent: 6.11 minutes\n",
      "Progress: 92.78%, loss: 5.340098798274994, time spent: 6.13 minutes\n",
      "Progress: 93.09%, loss: 5.3280012011528015, time spent: 6.15 minutes\n",
      "Progress: 93.40%, loss: 5.352514386177063, time spent: 6.17 minutes\n",
      "Progress: 93.72%, loss: 5.353819906711578, time spent: 6.19 minutes\n",
      "Progress: 94.03%, loss: 5.355957984924316, time spent: 6.21 minutes\n",
      "Progress: 94.34%, loss: 5.362781763076782, time spent: 6.24 minutes\n",
      "Progress: 94.65%, loss: 5.352738678455353, time spent: 6.26 minutes\n",
      "Progress: 94.97%, loss: 5.35277783870697, time spent: 6.28 minutes\n",
      "Progress: 95.28%, loss: 5.346801400184631, time spent: 6.30 minutes\n",
      "Progress: 95.59%, loss: 5.335236549377441, time spent: 6.32 minutes\n",
      "Progress: 95.90%, loss: 5.356402397155762, time spent: 6.34 minutes\n",
      "Progress: 96.22%, loss: 5.351213812828064, time spent: 6.36 minutes\n",
      "Progress: 96.53%, loss: 5.343118071556091, time spent: 6.38 minutes\n",
      "Progress: 96.84%, loss: 5.340410470962524, time spent: 6.40 minutes\n",
      "Progress: 97.15%, loss: 5.342338383197784, time spent: 6.42 minutes\n",
      "Progress: 97.47%, loss: 5.347024142742157, time spent: 6.44 minutes\n",
      "Progress: 97.78%, loss: 5.327019989490509, time spent: 6.46 minutes\n",
      "Progress: 98.09%, loss: 5.331594169139862, time spent: 6.48 minutes\n",
      "Progress: 98.40%, loss: 5.358780682086945, time spent: 6.50 minutes\n",
      "Progress: 98.72%, loss: 5.350711107254028, time spent: 6.52 minutes\n",
      "Progress: 99.03%, loss: 5.3478604555130005, time spent: 6.54 minutes\n",
      "Progress: 99.34%, loss: 5.366286277770996, time spent: 6.56 minutes\n",
      "Progress: 99.65%, loss: 5.3347408175468445, time spent: 6.58 minutes\n",
      "Progress: 99.97%, loss: 5.357190787792206, time spent: 6.60 minutes\n",
      "Finish training, time spent: 6.60 minutes\n"
     ]
    }
   ],
   "source": [
    "encoder, predictor, loss = train(dataset, feature_enc_len, num_iter, N, device, path_enc_type, feature_enc_type)"
   ]
  },
  {
   "cell_type": "markdown",
   "metadata": {},
   "source": [
    "### Test model"
   ]
  },
  {
   "cell_type": "code",
   "execution_count": 12,
   "metadata": {
    "pycharm": {
     "name": "#%%\n"
    }
   },
   "outputs": [
    {
     "name": "stdout",
     "output_type": "stream",
     "text": [
      "Start testing\n",
      "Test accuracy: 0.6714111427409516, recall: 0.6745562130177515, precision: 0.6535626535626535, f1: 0.6638935108153077\n"
     ]
    }
   ],
   "source": [
    "config = [feature_enc_len, feature_enc_type, path_enc_type, N, num_epoch]\n",
    "test(dataset, encoder, predictor, loss, config)"
   ]
  },
  {
   "cell_type": "markdown",
   "metadata": {},
   "source": [
    "### Plot training loss VS iteration"
   ]
  },
  {
   "cell_type": "code",
   "execution_count": 13,
   "metadata": {},
   "outputs": [
    {
     "data": {
      "image/png": "[encoded data removed]",
      "text/plain": [
       "<Figure size 432x288 with 1 Axes>"
      ]
     },
     "metadata": {
      "needs_background": "light"
     },
     "output_type": "display_data"
    }
   ],
   "source": [
    "df = pd.read_csv(\"train.log\")\n",
    "df.epoch += 1\n",
    "fig, ax = plt.subplots()\n",
    "ax.plot(df['epoch'], df['loss'])\n",
    "\n",
    "ax.set(xlabel='Number of epochs', ylabel='Training Loss',\n",
    "       title='Loss VS Epochs')\n",
    "ax.grid()\n",
    "plt.show()"
   ]
  },
  {
   "cell_type": "code",
   "execution_count": null,
   "metadata": {},
   "outputs": [],
   "source": []
  }
 ],
 "metadata": {
  "kernelspec": {
   "display_name": "Python 3 (ipykernel)",
   "language": "python",
   "name": "python3"
  },
  "language_info": {
   "codemirror_mode": {
    "name": "ipython",
    "version": 3
   },
   "file_extension": ".py",
   "mimetype": "text/x-python",
   "name": "python",
   "nbconvert_exporter": "python",
   "pygments_lexer": "ipython3",
   "version": "3.9.7"
  }
 },
 "nbformat": 4,
 "nbformat_minor": 1
}