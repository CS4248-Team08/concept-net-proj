{
 "cells": [
  {
   "cell_type": "markdown",
   "metadata": {
    "pycharm": {
     "name": "#%% md\n"
    }
   },
   "source": [
    "### Import packages"
   ]
  },
  {
   "cell_type": "code",
   "execution_count": 7,
   "metadata": {
    "pycharm": {
     "name": "#%%\n"
    }
   },
   "outputs": [],
   "source": [
    "import torch\n",
    "from dataset import Dataset\n",
    "from learn import train, test\n",
    "\n",
    "import pandas as pd\n",
    "import numpy as np\n",
    "import matplotlib.pyplot as plt"
   ]
  },
  {
   "cell_type": "markdown",
   "metadata": {
    "pycharm": {
     "name": "#%% md\n"
    }
   },
   "source": [
    "### Setup running device"
   ]
  },
  {
   "cell_type": "code",
   "execution_count": 2,
   "metadata": {
    "pycharm": {
     "name": "#%%\n"
    }
   },
   "outputs": [
    {
     "name": "stdout",
     "output_type": "stream",
     "text": [
      "Using device: cuda\n"
     ]
    }
   ],
   "source": [
    "use_gpu = True\n",
    "device = \"cuda\" if use_gpu and torch.cuda.is_available() else \"cpu\"\n",
    "print(f\"Using device: {device}\")"
   ]
  },
  {
   "cell_type": "markdown",
   "metadata": {},
   "source": [
    "### Load dataset"
   ]
  },
  {
   "cell_type": "code",
   "execution_count": 9,
   "metadata": {
    "pycharm": {
     "name": "#%%\n"
    }
   },
   "outputs": [
    {
     "name": "stdout",
     "output_type": "stream",
     "text": [
      "loading v_enc_dim300\n",
      "loading v_freq_freq\n",
      "loading v_deg\n",
      "loading v_sense\n",
      "loading e_vertexsim\n",
      "loading e_dir\n",
      "loading e_rel\n",
      "loading e_weightsource\n",
      "loading e_srank_rel\n",
      "loading e_trank_rel\n",
      "loading e_sense\n",
      "loading problem plain texts\n",
      "loading labeled pairs\n",
      "Config: feature_enc_len:20, path_enc_type:Attention, feature_enc_type:proj+mean, N:1024, n_epoch:300\n"
     ]
    }
   ],
   "source": [
    "features = [\n",
    "    'v_enc_dim300',\n",
    "    'v_freq_freq',\n",
    "    'v_deg',\n",
    "    'v_sense',\n",
    "    'e_vertexsim',\n",
    "    'e_dir', 'e_rel',\n",
    "    'e_weightsource',\n",
    "    'e_srank_rel',\n",
    "    'e_trank_rel',\n",
    "    'e_sense'\n",
    "]\n",
    "\n",
    "split_frac = 0.8\n",
    "dataset = Dataset(features, split_frac, device)"
   ]
  },
  {
   "cell_type": "markdown",
   "metadata": {
    "pycharm": {
     "name": "#%% md\n"
    }
   },
   "source": [
    "### Setup training and model configurations"
   ]
  },
  {
   "cell_type": "code",
   "execution_count": 18,
   "metadata": {},
   "outputs": [
    {
     "name": "stdout",
     "output_type": "stream",
     "text": [
      "Config: feature_enc_len:20, path_enc_type:LSTM, feature_enc_type:proj+mean, N:1024, n_epoch:300\n"
     ]
    }
   ],
   "source": [
    "feature_enc_len = 20\n",
    "feature_enc_type = 'proj+mean'  # 'proj+mean' OR 'concat+proj'\n",
    "path_enc_type = \"LSTM\"  # 'RNN' OR 'LSTM' OR 'Attention'\n",
    "\n",
    "num_epoch = 300\n",
    "N = 1024  # batch size\n",
    "num_iter = num_epoch * dataset.train_size//N\n",
    "print(f\"Config: feature_enc_len:{feature_enc_len}, path_enc_type:{path_enc_type}, feature_enc_type:{feature_enc_type}, N:{N}, n_epoch:{num_epoch}\")"
   ]
  },
  {
   "cell_type": "markdown",
   "metadata": {},
   "source": [
    "### Start training"
   ]
  },
  {
   "cell_type": "code",
   "execution_count": 19,
   "metadata": {
    "pycharm": {
     "name": "#%%\n"
    }
   },
   "outputs": [
    {
     "name": "stdout",
     "output_type": "stream",
     "text": [
      "defining architecture\n",
      "Start training\n",
      "Progress: 0.00%, loss: 0.7080430388450623, time spent: 0.00 minutes\n",
      "Progress: 3.47%, loss: 0.6725267767906189, time spent: 0.18 minutes\n",
      "Progress: 6.94%, loss: 0.6419044733047485, time spent: 0.35 minutes\n",
      "Progress: 10.42%, loss: 0.6235285401344299, time spent: 0.53 minutes\n",
      "Progress: 13.89%, loss: 0.6166447401046753, time spent: 0.71 minutes\n",
      "Progress: 17.36%, loss: 0.6189284920692444, time spent: 0.88 minutes\n",
      "Progress: 20.83%, loss: 0.6000668406486511, time spent: 1.05 minutes\n",
      "Progress: 24.31%, loss: 0.6376676559448242, time spent: 1.22 minutes\n",
      "Progress: 27.78%, loss: 0.5960756540298462, time spent: 1.40 minutes\n",
      "Progress: 31.25%, loss: 0.6226040720939636, time spent: 1.58 minutes\n",
      "Progress: 34.72%, loss: 0.6037673354148865, time spent: 1.75 minutes\n",
      "Progress: 38.19%, loss: 0.6040180921554565, time spent: 1.93 minutes\n",
      "Progress: 41.67%, loss: 0.6194365620613098, time spent: 2.11 minutes\n",
      "Progress: 45.14%, loss: 0.6115686893463135, time spent: 2.28 minutes\n",
      "Progress: 48.61%, loss: 0.6098436117172241, time spent: 2.46 minutes\n",
      "Progress: 52.08%, loss: 0.6136243343353271, time spent: 2.63 minutes\n",
      "Progress: 55.56%, loss: 0.5763514637947083, time spent: 2.81 minutes\n",
      "Progress: 59.03%, loss: 0.6033524870872498, time spent: 2.98 minutes\n",
      "Progress: 62.50%, loss: 0.5914839506149292, time spent: 3.16 minutes\n",
      "Progress: 65.97%, loss: 0.6155198216438293, time spent: 3.33 minutes\n",
      "Progress: 69.44%, loss: 0.5808650255203247, time spent: 3.51 minutes\n",
      "Progress: 72.92%, loss: 0.606895387172699, time spent: 3.68 minutes\n",
      "Progress: 76.39%, loss: 0.6015934944152832, time spent: 3.85 minutes\n",
      "Progress: 79.86%, loss: 0.5873265862464905, time spent: 4.03 minutes\n",
      "Progress: 83.33%, loss: 0.615469753742218, time spent: 4.21 minutes\n",
      "Progress: 86.81%, loss: 0.6002495884895325, time spent: 4.38 minutes\n",
      "Progress: 90.28%, loss: 0.587346613407135, time spent: 4.56 minutes\n",
      "Progress: 93.75%, loss: 0.5944178700447083, time spent: 4.73 minutes\n",
      "Progress: 97.22%, loss: 0.5768145322799683, time spent: 4.91 minutes\n",
      "Finish training, time spent: 5.05 minutes\n"
     ]
    }
   ],
   "source": [
    "encoder, predictor, loss = train(dataset, feature_enc_len, num_iter, N, device, path_enc_type, feature_enc_type)"
   ]
  },
  {
   "cell_type": "markdown",
   "metadata": {},
   "source": [
    "### Test model"
   ]
  },
  {
   "cell_type": "code",
   "execution_count": 20,
   "metadata": {
    "pycharm": {
     "name": "#%%\n"
    }
   },
   "outputs": [
    {
     "name": "stdout",
     "output_type": "stream",
     "text": [
      "Start testing\n",
      "Test accuracy: 0.6762911752745018, recall: 0.676539360872954, precision: 0.6949559647718174, f1: 0.6856240126382305\n"
     ]
    }
   ],
   "source": [
    "config = [feature_enc_len, feature_enc_type, path_enc_type, N, num_epoch]\n",
    "test(dataset, encoder, predictor, loss, config)"
   ]
  },
  {
   "cell_type": "markdown",
   "metadata": {},
   "source": [
    "### Plot training loss VS iteration"
   ]
  },
  {
   "cell_type": "code",
   "execution_count": 21,
   "metadata": {},
   "outputs": [
    {
     "data": {
      "image/png": "[encoded data removed]",
      "text/plain": [
       "<Figure size 432x288 with 1 Axes>"
      ]
     },
     "metadata": {
      "needs_background": "light"
     },
     "output_type": "display_data"
    }
   ],
   "source": [
    "df = pd.read_csv(\"train.log\")\n",
    "fig, ax = plt.subplots()\n",
    "ax.plot(df['n_iter'], df['loss'])\n",
    "\n",
    "ax.set(xlabel='Number of iterations', ylabel='Training Loss',\n",
    "       title='Loss VS Iterations')\n",
    "ax.grid()\n",
    "plt.show()"
   ]
  },
  {
   "cell_type": "code",
   "execution_count": null,
   "metadata": {},
   "outputs": [],
   "source": []
  }
 ],
 "metadata": {
  "kernelspec": {
   "display_name": "Python 3 (ipykernel)",
   "language": "python",
   "name": "python3"
  },
  "language_info": {
   "codemirror_mode": {
    "name": "ipython",
    "version": 3
   },
   "file_extension": ".py",
   "mimetype": "text/x-python",
   "name": "python",
   "nbconvert_exporter": "python",
   "pygments_lexer": "ipython3",
   "version": "3.9.7"
  }
 },
 "nbformat": 4,
 "nbformat_minor": 1
}
