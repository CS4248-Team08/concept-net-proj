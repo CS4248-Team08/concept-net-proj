{
 "cells": [
  {
   "cell_type": "markdown",
   "metadata": {
    "pycharm": {
     "name": "#%% md\n"
    }
   },
   "source": [
    "### Import packages"
   ]
  },
  {
   "cell_type": "code",
   "execution_count": 1,
   "metadata": {
    "pycharm": {
     "is_executing": true,
     "name": "#%%\n"
    }
   },
   "outputs": [],
   "source": [
    "import torch\n",
    "from dataset import Dataset\n",
    "from learn import train, test\n",
    "\n",
    "import pandas as pd\n",
    "import numpy as np\n",
    "import matplotlib.pyplot as plt"
   ]
  },
  {
   "cell_type": "markdown",
   "metadata": {
    "pycharm": {
     "name": "#%% md\n"
    }
   },
   "source": [
    "### Setup running device"
   ]
  },
  {
   "cell_type": "code",
   "execution_count": 2,
   "metadata": {
    "pycharm": {
     "name": "#%%\n"
    }
   },
   "outputs": [
    {
     "name": "stdout",
     "output_type": "stream",
     "text": [
      "Using device: cuda\n"
     ]
    }
   ],
   "source": [
    "use_gpu = True\n",
    "device = \"cuda\" if use_gpu and torch.cuda.is_available() else \"cpu\"\n",
    "print(f\"Using device: {device}\")"
   ]
  },
  {
   "cell_type": "markdown",
   "metadata": {},
   "source": [
    "### Load dataset"
   ]
  },
  {
   "cell_type": "code",
   "execution_count": 3,
   "metadata": {
    "pycharm": {
     "name": "#%%\n"
    }
   },
   "outputs": [
    {
     "name": "stdout",
     "output_type": "stream",
     "text": [
      "loading v_enc_dim300\n",
      "loading v_freq_freq\n",
      "loading v_deg\n",
      "loading v_sense\n",
      "loading e_vertexsim\n",
      "loading e_dir\n",
      "loading e_rel\n",
      "loading e_weightsource\n",
      "loading e_srank_rel\n",
      "loading e_trank_rel\n",
      "loading e_sense\n",
      "loading problem plain texts\n",
      "loading labeled pairs\n"
     ]
    }
   ],
   "source": [
    "features = [\n",
    "    'v_enc_dim300',\n",
    "    'v_freq_freq',\n",
    "    'v_deg',\n",
    "    'v_sense',\n",
    "    'e_vertexsim',\n",
    "    'e_dir', 'e_rel',\n",
    "    'e_weightsource',\n",
    "    'e_srank_rel',\n",
    "    'e_trank_rel',\n",
    "    'e_sense'\n",
    "]\n",
    "\n",
    "split_frac = 0.8\n",
    "dataset = Dataset(features, split_frac, device)"
   ]
  },
  {
   "cell_type": "markdown",
   "metadata": {
    "pycharm": {
     "name": "#%% md\n"
    }
   },
   "source": [
    "### Setup training and model configurations"
   ]
  },
  {
   "cell_type": "code",
   "execution_count": 4,
   "metadata": {},
   "outputs": [
    {
     "name": "stdout",
     "output_type": "stream",
     "text": [
      "train size: 9833, n_iter: 3600\n",
      "Config: feature_enc_len:20, path_enc_type:Attention, feature_enc_type:proj+mean, N:1024, n_epoch:400, lr:0.001\n"
     ]
    }
   ],
   "source": [
    "feature_enc_len = 20\n",
    "feature_enc_type = 'proj+mean'  # 'proj+mean' OR 'concat+proj'\n",
    "path_enc_type = \"Attention\"  # 'RNN' OR 'LSTM' OR 'Attention'\n",
    "\n",
    "num_epoch = 400\n",
    "learning_rate = 0.001\n",
    "N = 1024  # batch size\n",
    "num_iter = num_epoch * (dataset.train_size//N)\n",
    "print(f\"train size: {dataset.train_size}, n_iter: {num_iter}\")\n",
    "print(f\"Config: feature_enc_len:{feature_enc_len}, path_enc_type:{path_enc_type}, feature_enc_type:{feature_enc_type}, N:{N}, n_epoch:{num_epoch}, lr:{learning_rate}\")"
   ]
  },
  {
   "cell_type": "markdown",
   "metadata": {},
   "source": [
    "### Start training"
   ]
  },
  {
   "cell_type": "code",
   "execution_count": 5,
   "metadata": {
    "pycharm": {
     "name": "#%%\n"
    }
   },
   "outputs": [
    {
     "name": "stdout",
     "output_type": "stream",
     "text": [
      "defining architecture\n",
      "Start training\n",
      "Progress: 0.22%, loss: 6.27943229675293, time spent: 0.05 minutes\n",
      "Progress: 0.47%, loss: 6.252811253070831, time spent: 0.08 minutes\n",
      "Progress: 0.72%, loss: 6.245733797550201, time spent: 0.12 minutes\n",
      "Progress: 0.97%, loss: 6.240952908992767, time spent: 0.16 minutes\n",
      "Progress: 1.22%, loss: 6.237177014350891, time spent: 0.21 minutes\n",
      "Progress: 1.47%, loss: 6.2273284792900085, time spent: 0.25 minutes\n",
      "Progress: 1.72%, loss: 6.233673810958862, time spent: 0.28 minutes\n",
      "Progress: 1.97%, loss: 6.229151606559753, time spent: 0.32 minutes\n",
      "Progress: 2.22%, loss: 6.227965354919434, time spent: 0.37 minutes\n",
      "Progress: 2.47%, loss: 6.224902451038361, time spent: 0.41 minutes\n",
      "Progress: 2.72%, loss: 6.224709510803223, time spent: 0.45 minutes\n",
      "Progress: 2.97%, loss: 6.225655913352966, time spent: 0.49 minutes\n",
      "Progress: 3.22%, loss: 6.220876753330231, time spent: 0.53 minutes\n",
      "Progress: 3.47%, loss: 6.227162301540375, time spent: 0.57 minutes\n",
      "Progress: 3.72%, loss: 6.230044305324554, time spent: 0.61 minutes\n",
      "Progress: 3.97%, loss: 6.227277159690857, time spent: 0.65 minutes\n",
      "Progress: 4.22%, loss: 6.2226486802101135, time spent: 0.69 minutes\n",
      "Progress: 4.47%, loss: 6.228426396846771, time spent: 0.73 minutes\n",
      "Progress: 4.72%, loss: 6.222197890281677, time spent: 0.77 minutes\n",
      "Progress: 4.97%, loss: 6.226439297199249, time spent: 0.82 minutes\n",
      "Progress: 5.22%, loss: 6.224218428134918, time spent: 0.86 minutes\n",
      "Progress: 5.47%, loss: 6.221704840660095, time spent: 0.90 minutes\n",
      "Progress: 5.72%, loss: 6.223806262016296, time spent: 0.95 minutes\n",
      "Progress: 5.97%, loss: 6.217550456523895, time spent: 0.99 minutes\n",
      "Progress: 6.22%, loss: 6.225808382034302, time spent: 1.04 minutes\n",
      "Progress: 6.47%, loss: 6.223824560642242, time spent: 1.09 minutes\n",
      "Progress: 6.72%, loss: 6.2246023416519165, time spent: 1.13 minutes\n",
      "Progress: 6.97%, loss: 6.221464037895203, time spent: 1.18 minutes\n",
      "Progress: 7.22%, loss: 6.222825348377228, time spent: 1.23 minutes\n",
      "Progress: 7.47%, loss: 6.223320364952087, time spent: 1.27 minutes\n",
      "Progress: 7.72%, loss: 6.227317988872528, time spent: 1.31 minutes\n",
      "Progress: 7.97%, loss: 6.21908175945282, time spent: 1.36 minutes\n",
      "Progress: 8.22%, loss: 6.220479130744934, time spent: 1.40 minutes\n",
      "Progress: 8.47%, loss: 6.223233759403229, time spent: 1.45 minutes\n",
      "Progress: 8.72%, loss: 6.216590940952301, time spent: 1.49 minutes\n",
      "Progress: 8.97%, loss: 6.216775178909302, time spent: 1.54 minutes\n",
      "Progress: 9.22%, loss: 6.2203808426856995, time spent: 1.58 minutes\n",
      "Progress: 9.47%, loss: 6.213267922401428, time spent: 1.63 minutes\n",
      "Progress: 9.72%, loss: 6.219651520252228, time spent: 1.67 minutes\n",
      "Progress: 9.97%, loss: 6.216627657413483, time spent: 1.72 minutes\n",
      "Progress: 10.22%, loss: 6.219158887863159, time spent: 1.76 minutes\n",
      "Progress: 10.47%, loss: 6.22076940536499, time spent: 1.81 minutes\n",
      "Progress: 10.72%, loss: 6.218136429786682, time spent: 1.86 minutes\n",
      "Progress: 10.97%, loss: 6.216333985328674, time spent: 1.90 minutes\n",
      "Progress: 11.22%, loss: 6.212166965007782, time spent: 1.95 minutes\n",
      "Progress: 11.47%, loss: 6.21829617023468, time spent: 1.99 minutes\n",
      "Progress: 11.72%, loss: 6.21983402967453, time spent: 2.04 minutes\n",
      "Progress: 11.97%, loss: 6.213163316249847, time spent: 2.08 minutes\n",
      "Progress: 12.22%, loss: 6.21148544549942, time spent: 2.12 minutes\n",
      "Progress: 12.47%, loss: 6.218345880508423, time spent: 2.17 minutes\n",
      "Progress: 12.72%, loss: 6.216065227985382, time spent: 2.21 minutes\n",
      "Progress: 12.97%, loss: 6.21751993894577, time spent: 2.25 minutes\n",
      "Progress: 13.22%, loss: 6.205344796180725, time spent: 2.30 minutes\n",
      "Progress: 13.47%, loss: 6.206045627593994, time spent: 2.34 minutes\n",
      "Progress: 13.72%, loss: 6.210296213626862, time spent: 2.38 minutes\n",
      "Progress: 13.97%, loss: 6.207025766372681, time spent: 2.42 minutes\n",
      "Progress: 14.22%, loss: 6.206360816955566, time spent: 2.46 minutes\n",
      "Progress: 14.47%, loss: 6.2112135887146, time spent: 2.50 minutes\n",
      "Progress: 14.72%, loss: 6.2039525508880615, time spent: 2.55 minutes\n",
      "Progress: 14.97%, loss: 6.193407773971558, time spent: 2.59 minutes\n",
      "Progress: 15.22%, loss: 6.187967300415039, time spent: 2.63 minutes\n",
      "Progress: 15.47%, loss: 6.177452921867371, time spent: 2.67 minutes\n",
      "Progress: 15.72%, loss: 6.173634886741638, time spent: 2.72 minutes\n",
      "Progress: 15.97%, loss: 6.156570851802826, time spent: 2.76 minutes\n",
      "Progress: 16.22%, loss: 6.133859813213348, time spent: 2.80 minutes\n",
      "Progress: 16.47%, loss: 6.134278655052185, time spent: 2.84 minutes\n",
      "Progress: 16.72%, loss: 6.102481186389923, time spent: 2.89 minutes\n",
      "Progress: 16.97%, loss: 6.089014828205109, time spent: 2.93 minutes\n",
      "Progress: 17.22%, loss: 6.073761761188507, time spent: 2.97 minutes\n",
      "Progress: 17.47%, loss: 6.069543242454529, time spent: 3.01 minutes\n",
      "Progress: 17.72%, loss: 6.055360972881317, time spent: 3.05 minutes\n",
      "Progress: 17.97%, loss: 6.03694361448288, time spent: 3.10 minutes\n",
      "Progress: 18.22%, loss: 6.036225080490112, time spent: 3.14 minutes\n",
      "Progress: 18.47%, loss: 6.056959688663483, time spent: 3.19 minutes\n",
      "Progress: 18.72%, loss: 6.017346382141113, time spent: 3.23 minutes\n",
      "Progress: 18.97%, loss: 6.017536103725433, time spent: 3.27 minutes\n",
      "Progress: 19.22%, loss: 6.020251154899597, time spent: 3.32 minutes\n",
      "Progress: 19.47%, loss: 6.002597987651825, time spent: 3.36 minutes\n",
      "Progress: 19.72%, loss: 5.9960214495658875, time spent: 3.41 minutes\n",
      "Progress: 19.97%, loss: 6.006295919418335, time spent: 3.45 minutes\n",
      "Progress: 20.22%, loss: 6.031263291835785, time spent: 3.50 minutes\n",
      "Progress: 20.47%, loss: 6.0299032330513, time spent: 3.54 minutes\n",
      "Progress: 20.72%, loss: 6.0167236328125, time spent: 3.58 minutes\n",
      "Progress: 20.97%, loss: 6.012795925140381, time spent: 3.62 minutes\n",
      "Progress: 21.22%, loss: 6.010807573795319, time spent: 3.67 minutes\n",
      "Progress: 21.47%, loss: 5.984678030014038, time spent: 3.71 minutes\n",
      "Progress: 21.72%, loss: 6.009097874164581, time spent: 3.75 minutes\n",
      "Progress: 21.97%, loss: 5.980774700641632, time spent: 3.79 minutes\n",
      "Progress: 22.22%, loss: 5.9721057415008545, time spent: 3.83 minutes\n",
      "Progress: 22.47%, loss: 5.968419075012207, time spent: 3.88 minutes\n",
      "Progress: 22.72%, loss: 5.962797939777374, time spent: 3.92 minutes\n",
      "Progress: 22.97%, loss: 5.9702752232551575, time spent: 3.96 minutes\n",
      "Progress: 23.22%, loss: 5.96378618478775, time spent: 4.01 minutes\n",
      "Progress: 23.47%, loss: 5.9605212807655334, time spent: 4.05 minutes\n",
      "Progress: 23.72%, loss: 5.961049497127533, time spent: 4.10 minutes\n",
      "Progress: 23.97%, loss: 5.954598486423492, time spent: 4.14 minutes\n",
      "Progress: 24.22%, loss: 5.954870522022247, time spent: 4.18 minutes\n",
      "Progress: 24.47%, loss: 5.967905759811401, time spent: 4.22 minutes\n",
      "Progress: 24.72%, loss: 5.926791965961456, time spent: 4.27 minutes\n",
      "Progress: 24.97%, loss: 5.9607216119766235, time spent: 4.31 minutes\n",
      "Progress: 25.22%, loss: 5.950138986110687, time spent: 4.35 minutes\n",
      "Progress: 25.47%, loss: 5.945756733417511, time spent: 4.39 minutes\n",
      "Progress: 25.72%, loss: 5.951820433139801, time spent: 4.44 minutes\n",
      "Progress: 25.97%, loss: 5.948465645313263, time spent: 4.48 minutes\n",
      "Progress: 26.22%, loss: 5.955604076385498, time spent: 4.51 minutes\n",
      "Progress: 26.47%, loss: 5.922001004219055, time spent: 4.55 minutes\n",
      "Progress: 26.72%, loss: 5.947969734668732, time spent: 4.59 minutes\n",
      "Progress: 26.97%, loss: 5.934183299541473, time spent: 4.64 minutes\n",
      "Progress: 27.22%, loss: 5.915934383869171, time spent: 4.68 minutes\n",
      "Progress: 27.47%, loss: 5.911450743675232, time spent: 4.73 minutes\n",
      "Progress: 27.72%, loss: 5.911332309246063, time spent: 4.77 minutes\n",
      "Progress: 27.97%, loss: 5.916403532028198, time spent: 4.81 minutes\n",
      "Progress: 28.22%, loss: 5.9219507575035095, time spent: 4.85 minutes\n",
      "Progress: 28.47%, loss: 5.909391462802887, time spent: 4.89 minutes\n",
      "Progress: 28.72%, loss: 5.89661431312561, time spent: 4.94 minutes\n",
      "Progress: 28.97%, loss: 5.926274538040161, time spent: 4.98 minutes\n",
      "Progress: 29.22%, loss: 5.915521860122681, time spent: 5.02 minutes\n",
      "Progress: 29.47%, loss: 5.896923661231995, time spent: 5.06 minutes\n",
      "Progress: 29.72%, loss: 5.8979766964912415, time spent: 5.10 minutes\n",
      "Progress: 29.97%, loss: 5.888322651386261, time spent: 5.14 minutes\n",
      "Progress: 30.22%, loss: 5.91378915309906, time spent: 5.18 minutes\n"
     ]
    },
    {
     "name": "stdout",
     "output_type": "stream",
     "text": [
      "Progress: 30.47%, loss: 5.905573725700378, time spent: 5.22 minutes\n",
      "Progress: 30.72%, loss: 5.894597291946411, time spent: 5.26 minutes\n",
      "Progress: 30.97%, loss: 5.875409245491028, time spent: 5.30 minutes\n",
      "Progress: 31.22%, loss: 5.872547268867493, time spent: 5.33 minutes\n",
      "Progress: 31.47%, loss: 5.8842549324035645, time spent: 5.38 minutes\n",
      "Progress: 31.72%, loss: 5.860243141651154, time spent: 5.42 minutes\n",
      "Progress: 31.97%, loss: 5.869718074798584, time spent: 5.46 minutes\n",
      "Progress: 32.22%, loss: 5.883571147918701, time spent: 5.50 minutes\n",
      "Progress: 32.47%, loss: 5.878073215484619, time spent: 5.54 minutes\n",
      "Progress: 32.72%, loss: 5.866590857505798, time spent: 5.59 minutes\n",
      "Progress: 32.97%, loss: 5.874562501907349, time spent: 5.63 minutes\n",
      "Progress: 33.22%, loss: 5.84259432554245, time spent: 5.68 minutes\n",
      "Progress: 33.47%, loss: 5.863792181015015, time spent: 5.72 minutes\n",
      "Progress: 33.72%, loss: 5.847663581371307, time spent: 5.76 minutes\n",
      "Progress: 33.97%, loss: 5.8715808391571045, time spent: 5.79 minutes\n",
      "Progress: 34.22%, loss: 5.8623053431510925, time spent: 5.84 minutes\n",
      "Progress: 34.47%, loss: 5.836168825626373, time spent: 5.88 minutes\n",
      "Progress: 34.72%, loss: 5.837000072002411, time spent: 5.92 minutes\n",
      "Progress: 34.97%, loss: 5.839585781097412, time spent: 5.96 minutes\n",
      "Progress: 35.22%, loss: 5.836773991584778, time spent: 6.00 minutes\n",
      "Progress: 35.47%, loss: 5.840135395526886, time spent: 6.04 minutes\n",
      "Progress: 35.72%, loss: 5.812135577201843, time spent: 6.08 minutes\n",
      "Progress: 35.97%, loss: 5.824317455291748, time spent: 6.12 minutes\n",
      "Progress: 36.22%, loss: 5.824636816978455, time spent: 6.16 minutes\n",
      "Progress: 36.47%, loss: 5.819871187210083, time spent: 6.20 minutes\n",
      "Progress: 36.72%, loss: 5.829410970211029, time spent: 6.24 minutes\n",
      "Progress: 36.97%, loss: 5.82217413187027, time spent: 6.28 minutes\n",
      "Progress: 37.22%, loss: 5.7903284430503845, time spent: 6.32 minutes\n",
      "Progress: 37.47%, loss: 5.828747630119324, time spent: 6.36 minutes\n",
      "Progress: 37.72%, loss: 5.802437484264374, time spent: 6.40 minutes\n",
      "Progress: 37.97%, loss: 5.800912261009216, time spent: 6.44 minutes\n",
      "Progress: 38.22%, loss: 5.815459847450256, time spent: 6.48 minutes\n",
      "Progress: 38.47%, loss: 5.797722220420837, time spent: 6.52 minutes\n",
      "Progress: 38.72%, loss: 5.81367814540863, time spent: 6.56 minutes\n",
      "Progress: 38.97%, loss: 5.779960334300995, time spent: 6.60 minutes\n",
      "Progress: 39.22%, loss: 5.77890807390213, time spent: 6.64 minutes\n",
      "Progress: 39.47%, loss: 5.772311866283417, time spent: 6.68 minutes\n",
      "Progress: 39.72%, loss: 5.775743782520294, time spent: 6.72 minutes\n",
      "Progress: 39.97%, loss: 5.761016309261322, time spent: 6.76 minutes\n",
      "Progress: 40.22%, loss: 5.767953813076019, time spent: 6.80 minutes\n",
      "Progress: 40.47%, loss: 5.7767192125320435, time spent: 6.85 minutes\n",
      "Progress: 40.72%, loss: 5.75531405210495, time spent: 6.89 minutes\n",
      "Progress: 40.97%, loss: 5.7566564083099365, time spent: 6.93 minutes\n",
      "Progress: 41.22%, loss: 5.754517555236816, time spent: 6.98 minutes\n",
      "Progress: 41.47%, loss: 5.768350124359131, time spent: 7.03 minutes\n",
      "Progress: 41.72%, loss: 5.753315806388855, time spent: 7.07 minutes\n",
      "Progress: 41.97%, loss: 5.763791739940643, time spent: 7.12 minutes\n",
      "Progress: 42.22%, loss: 5.786953926086426, time spent: 7.16 minutes\n",
      "Progress: 42.47%, loss: 5.781069219112396, time spent: 7.21 minutes\n",
      "Progress: 42.72%, loss: 5.77307391166687, time spent: 7.26 minutes\n",
      "Progress: 42.97%, loss: 5.759826898574829, time spent: 7.30 minutes\n",
      "Progress: 43.22%, loss: 5.75300395488739, time spent: 7.35 minutes\n",
      "Progress: 43.47%, loss: 5.75223982334137, time spent: 7.39 minutes\n",
      "Progress: 43.72%, loss: 5.74858683347702, time spent: 7.44 minutes\n",
      "Progress: 43.97%, loss: 5.748711585998535, time spent: 7.48 minutes\n",
      "Progress: 44.22%, loss: 5.74535071849823, time spent: 7.52 minutes\n",
      "Progress: 44.47%, loss: 5.761810302734375, time spent: 7.57 minutes\n",
      "Progress: 44.72%, loss: 5.725629985332489, time spent: 7.61 minutes\n",
      "Progress: 44.97%, loss: 5.722820281982422, time spent: 7.65 minutes\n",
      "Progress: 45.22%, loss: 5.716024577617645, time spent: 7.70 minutes\n",
      "Progress: 45.47%, loss: 5.743278622627258, time spent: 7.74 minutes\n",
      "Progress: 45.72%, loss: 5.717341780662537, time spent: 7.77 minutes\n",
      "Progress: 45.97%, loss: 5.735800325870514, time spent: 7.82 minutes\n",
      "Progress: 46.22%, loss: 5.745041847229004, time spent: 7.86 minutes\n",
      "Progress: 46.47%, loss: 5.734533786773682, time spent: 7.91 minutes\n",
      "Progress: 46.72%, loss: 5.719245135784149, time spent: 7.95 minutes\n",
      "Progress: 46.97%, loss: 5.725559890270233, time spent: 7.99 minutes\n",
      "Progress: 47.22%, loss: 5.707006216049194, time spent: 8.03 minutes\n",
      "Progress: 47.47%, loss: 5.718403697013855, time spent: 8.08 minutes\n",
      "Progress: 47.72%, loss: 5.7213656306266785, time spent: 8.13 minutes\n",
      "Progress: 47.97%, loss: 5.731375634670258, time spent: 8.17 minutes\n",
      "Progress: 48.22%, loss: 5.740957677364349, time spent: 8.21 minutes\n",
      "Progress: 48.47%, loss: 5.755195260047913, time spent: 8.25 minutes\n",
      "Progress: 48.72%, loss: 5.763675332069397, time spent: 8.30 minutes\n",
      "Progress: 48.97%, loss: 5.723983585834503, time spent: 8.35 minutes\n",
      "Progress: 49.22%, loss: 5.7252838015556335, time spent: 8.39 minutes\n",
      "Progress: 49.47%, loss: 5.713391184806824, time spent: 8.43 minutes\n",
      "Progress: 49.72%, loss: 5.720989882946014, time spent: 8.47 minutes\n",
      "Progress: 49.97%, loss: 5.703037679195404, time spent: 8.51 minutes\n",
      "Progress: 50.22%, loss: 5.707490921020508, time spent: 8.55 minutes\n",
      "Progress: 50.47%, loss: 5.696537435054779, time spent: 8.59 minutes\n",
      "Progress: 50.72%, loss: 5.681421101093292, time spent: 8.64 minutes\n",
      "Progress: 50.97%, loss: 5.719203889369965, time spent: 8.68 minutes\n",
      "Progress: 51.22%, loss: 5.707485139369965, time spent: 8.72 minutes\n",
      "Progress: 51.47%, loss: 5.684994637966156, time spent: 8.76 minutes\n",
      "Progress: 51.72%, loss: 5.712797462940216, time spent: 8.81 minutes\n",
      "Progress: 51.97%, loss: 5.721276104450226, time spent: 8.86 minutes\n",
      "Progress: 52.22%, loss: 5.680276036262512, time spent: 8.90 minutes\n",
      "Progress: 52.47%, loss: 5.695919871330261, time spent: 8.94 minutes\n",
      "Progress: 52.72%, loss: 5.697972476482391, time spent: 8.98 minutes\n",
      "Progress: 52.97%, loss: 5.715840280056, time spent: 9.02 minutes\n",
      "Progress: 53.22%, loss: 5.672326982021332, time spent: 9.07 minutes\n",
      "Progress: 53.47%, loss: 5.685961067676544, time spent: 9.11 minutes\n",
      "Progress: 53.72%, loss: 5.678042054176331, time spent: 9.15 minutes\n",
      "Progress: 53.97%, loss: 5.689513742923737, time spent: 9.20 minutes\n",
      "Progress: 54.22%, loss: 5.689379990100861, time spent: 9.24 minutes\n",
      "Progress: 54.47%, loss: 5.708429336547852, time spent: 9.28 minutes\n",
      "Progress: 54.72%, loss: 5.686821639537811, time spent: 9.32 minutes\n",
      "Progress: 54.97%, loss: 5.678363263607025, time spent: 9.37 minutes\n",
      "Progress: 55.22%, loss: 5.693923890590668, time spent: 9.41 minutes\n",
      "Progress: 55.47%, loss: 5.680602431297302, time spent: 9.45 minutes\n",
      "Progress: 55.72%, loss: 5.690710425376892, time spent: 9.50 minutes\n",
      "Progress: 55.97%, loss: 5.688811957836151, time spent: 9.54 minutes\n",
      "Progress: 56.22%, loss: 5.679872214794159, time spent: 9.59 minutes\n",
      "Progress: 56.47%, loss: 5.702585995197296, time spent: 9.63 minutes\n",
      "Progress: 56.72%, loss: 5.697433710098267, time spent: 9.67 minutes\n",
      "Progress: 56.97%, loss: 5.692662477493286, time spent: 9.71 minutes\n",
      "Progress: 57.22%, loss: 5.66458398103714, time spent: 9.75 minutes\n",
      "Progress: 57.47%, loss: 5.672404646873474, time spent: 9.80 minutes\n",
      "Progress: 57.72%, loss: 5.6749547123909, time spent: 9.84 minutes\n",
      "Progress: 57.97%, loss: 5.696135103702545, time spent: 9.88 minutes\n",
      "Progress: 58.22%, loss: 5.691676199436188, time spent: 9.92 minutes\n",
      "Progress: 58.47%, loss: 5.6760125160217285, time spent: 9.97 minutes\n",
      "Progress: 58.72%, loss: 5.677335560321808, time spent: 10.01 minutes\n",
      "Progress: 58.97%, loss: 5.676644504070282, time spent: 10.05 minutes\n",
      "Progress: 59.22%, loss: 5.681661605834961, time spent: 10.10 minutes\n",
      "Progress: 59.47%, loss: 5.65570729970932, time spent: 10.14 minutes\n",
      "Progress: 59.72%, loss: 5.642031788825989, time spent: 10.18 minutes\n",
      "Progress: 59.97%, loss: 5.676559925079346, time spent: 10.22 minutes\n",
      "Progress: 60.22%, loss: 5.68368935585022, time spent: 10.26 minutes\n",
      "Progress: 60.47%, loss: 5.672437846660614, time spent: 10.31 minutes\n"
     ]
    },
    {
     "name": "stdout",
     "output_type": "stream",
     "text": [
      "Progress: 60.72%, loss: 5.662871062755585, time spent: 10.34 minutes\n",
      "Progress: 60.97%, loss: 5.656366527080536, time spent: 10.38 minutes\n",
      "Progress: 61.22%, loss: 5.657518148422241, time spent: 10.42 minutes\n",
      "Progress: 61.47%, loss: 5.657589077949524, time spent: 10.47 minutes\n",
      "Progress: 61.72%, loss: 5.659057855606079, time spent: 10.51 minutes\n",
      "Progress: 61.97%, loss: 5.663378953933716, time spent: 10.55 minutes\n",
      "Progress: 62.22%, loss: 5.656758427619934, time spent: 10.60 minutes\n",
      "Progress: 62.47%, loss: 5.655405282974243, time spent: 10.64 minutes\n",
      "Progress: 62.72%, loss: 5.6474385261535645, time spent: 10.68 minutes\n",
      "Progress: 62.97%, loss: 5.644102394580841, time spent: 10.72 minutes\n",
      "Progress: 63.22%, loss: 5.6568663120269775, time spent: 10.76 minutes\n",
      "Progress: 63.47%, loss: 5.655992090702057, time spent: 10.80 minutes\n",
      "Progress: 63.72%, loss: 5.659626007080078, time spent: 10.84 minutes\n",
      "Progress: 63.97%, loss: 5.6566959619522095, time spent: 10.89 minutes\n",
      "Progress: 64.22%, loss: 5.656370222568512, time spent: 10.93 minutes\n",
      "Progress: 64.47%, loss: 5.678932547569275, time spent: 10.97 minutes\n",
      "Progress: 64.72%, loss: 5.66412216424942, time spent: 11.01 minutes\n",
      "Progress: 64.97%, loss: 5.644106149673462, time spent: 11.05 minutes\n",
      "Progress: 65.22%, loss: 5.658747017383575, time spent: 11.10 minutes\n",
      "Progress: 65.47%, loss: 5.645539224147797, time spent: 11.14 minutes\n",
      "Progress: 65.72%, loss: 5.632636249065399, time spent: 11.18 minutes\n",
      "Progress: 65.97%, loss: 5.643141567707062, time spent: 11.22 minutes\n",
      "Progress: 66.22%, loss: 5.685801327228546, time spent: 11.26 minutes\n",
      "Progress: 66.47%, loss: 5.671963214874268, time spent: 11.31 minutes\n",
      "Progress: 66.72%, loss: 5.630425930023193, time spent: 11.35 minutes\n",
      "Progress: 66.97%, loss: 5.628571808338165, time spent: 11.40 minutes\n",
      "Progress: 67.22%, loss: 5.648489058017731, time spent: 11.44 minutes\n",
      "Progress: 67.47%, loss: 5.638781666755676, time spent: 11.47 minutes\n",
      "Progress: 67.72%, loss: 5.647210359573364, time spent: 11.52 minutes\n",
      "Progress: 67.97%, loss: 5.637692093849182, time spent: 11.56 minutes\n",
      "Progress: 68.22%, loss: 5.647485375404358, time spent: 11.59 minutes\n",
      "Progress: 68.47%, loss: 5.643165469169617, time spent: 11.62 minutes\n",
      "Progress: 68.72%, loss: 5.648754954338074, time spent: 11.67 minutes\n",
      "Progress: 68.97%, loss: 5.655230820178986, time spent: 11.71 minutes\n",
      "Progress: 69.22%, loss: 5.623057126998901, time spent: 11.75 minutes\n",
      "Progress: 69.47%, loss: 5.642831861972809, time spent: 11.78 minutes\n",
      "Progress: 69.72%, loss: 5.6432536244392395, time spent: 11.83 minutes\n",
      "Progress: 69.97%, loss: 5.64427250623703, time spent: 11.87 minutes\n",
      "Progress: 70.22%, loss: 5.649980664253235, time spent: 11.91 minutes\n",
      "Progress: 70.47%, loss: 5.64172101020813, time spent: 11.95 minutes\n",
      "Progress: 70.72%, loss: 5.63166606426239, time spent: 11.99 minutes\n",
      "Progress: 70.97%, loss: 5.617053389549255, time spent: 12.03 minutes\n",
      "Progress: 71.22%, loss: 5.622446835041046, time spent: 12.08 minutes\n",
      "Progress: 71.47%, loss: 5.6463910937309265, time spent: 12.12 minutes\n",
      "Progress: 71.72%, loss: 5.653131127357483, time spent: 12.16 minutes\n",
      "Progress: 71.97%, loss: 5.646669268608093, time spent: 12.20 minutes\n",
      "Progress: 72.22%, loss: 5.648735582828522, time spent: 12.24 minutes\n",
      "Progress: 72.47%, loss: 5.62324458360672, time spent: 12.28 minutes\n",
      "Progress: 72.72%, loss: 5.641618013381958, time spent: 12.32 minutes\n",
      "Progress: 72.97%, loss: 5.655454635620117, time spent: 12.37 minutes\n",
      "Progress: 73.22%, loss: 5.637194573879242, time spent: 12.41 minutes\n",
      "Progress: 73.47%, loss: 5.630692005157471, time spent: 12.45 minutes\n",
      "Progress: 73.72%, loss: 5.622384250164032, time spent: 12.49 minutes\n",
      "Progress: 73.97%, loss: 5.624818205833435, time spent: 12.53 minutes\n",
      "Progress: 74.22%, loss: 5.632621467113495, time spent: 12.57 minutes\n",
      "Progress: 74.47%, loss: 5.668126344680786, time spent: 12.60 minutes\n",
      "Progress: 74.72%, loss: 5.623800218105316, time spent: 12.64 minutes\n",
      "Progress: 74.97%, loss: 5.61355847120285, time spent: 12.69 minutes\n",
      "Progress: 75.22%, loss: 5.607820749282837, time spent: 12.73 minutes\n",
      "Progress: 75.47%, loss: 5.605841815471649, time spent: 12.77 minutes\n",
      "Progress: 75.72%, loss: 5.601003050804138, time spent: 12.81 minutes\n",
      "Progress: 75.97%, loss: 5.641902804374695, time spent: 12.86 minutes\n",
      "Progress: 76.22%, loss: 5.626912176609039, time spent: 12.90 minutes\n",
      "Progress: 76.47%, loss: 5.624321281909943, time spent: 12.94 minutes\n",
      "Progress: 76.72%, loss: 5.63546746969223, time spent: 12.98 minutes\n",
      "Progress: 76.97%, loss: 5.6155922412872314, time spent: 13.02 minutes\n",
      "Progress: 77.22%, loss: 5.603183627128601, time spent: 13.07 minutes\n",
      "Progress: 77.47%, loss: 5.741912126541138, time spent: 13.11 minutes\n",
      "Progress: 77.72%, loss: 5.795871257781982, time spent: 13.16 minutes\n",
      "Progress: 77.97%, loss: 5.784432351589203, time spent: 13.20 minutes\n",
      "Progress: 78.22%, loss: 5.734617710113525, time spent: 13.25 minutes\n",
      "Progress: 78.47%, loss: 5.697730183601379, time spent: 13.29 minutes\n",
      "Progress: 78.72%, loss: 5.667451322078705, time spent: 13.34 minutes\n",
      "Progress: 78.97%, loss: 5.668727338314056, time spent: 13.38 minutes\n",
      "Progress: 79.22%, loss: 5.657520830631256, time spent: 13.42 minutes\n",
      "Progress: 79.47%, loss: 5.652270972728729, time spent: 13.47 minutes\n",
      "Progress: 79.72%, loss: 5.659490704536438, time spent: 13.51 minutes\n",
      "Progress: 79.97%, loss: 5.648446440696716, time spent: 13.56 minutes\n",
      "Progress: 80.22%, loss: 5.655044734477997, time spent: 13.60 minutes\n",
      "Progress: 80.47%, loss: 5.664154887199402, time spent: 13.64 minutes\n",
      "Progress: 80.72%, loss: 5.666828751564026, time spent: 13.68 minutes\n",
      "Progress: 80.97%, loss: 5.634825646877289, time spent: 13.72 minutes\n",
      "Progress: 81.22%, loss: 5.635070383548737, time spent: 13.77 minutes\n",
      "Progress: 81.47%, loss: 5.644077122211456, time spent: 13.81 minutes\n",
      "Progress: 81.72%, loss: 5.656855404376984, time spent: 13.86 minutes\n",
      "Progress: 81.97%, loss: 5.635526716709137, time spent: 13.90 minutes\n",
      "Progress: 82.22%, loss: 5.625085353851318, time spent: 13.95 minutes\n",
      "Progress: 82.47%, loss: 5.6391525864601135, time spent: 13.99 minutes\n",
      "Progress: 82.72%, loss: 5.6084359884262085, time spent: 14.04 minutes\n",
      "Progress: 82.97%, loss: 5.629868030548096, time spent: 14.08 minutes\n",
      "Progress: 83.22%, loss: 5.6289666295051575, time spent: 14.12 minutes\n",
      "Progress: 83.47%, loss: 5.617844521999359, time spent: 14.17 minutes\n",
      "Progress: 83.72%, loss: 5.63000613451004, time spent: 14.21 minutes\n",
      "Progress: 83.97%, loss: 5.632990598678589, time spent: 14.25 minutes\n",
      "Progress: 84.22%, loss: 5.644733250141144, time spent: 14.29 minutes\n",
      "Progress: 84.47%, loss: 5.615482926368713, time spent: 14.34 minutes\n",
      "Progress: 84.72%, loss: 5.6395620703697205, time spent: 14.38 minutes\n",
      "Progress: 84.97%, loss: 5.625338494777679, time spent: 14.43 minutes\n",
      "Progress: 85.22%, loss: 5.625764191150665, time spent: 14.47 minutes\n",
      "Progress: 85.47%, loss: 5.626871228218079, time spent: 14.51 minutes\n",
      "Progress: 85.72%, loss: 5.616464555263519, time spent: 14.55 minutes\n",
      "Progress: 85.97%, loss: 5.623211026191711, time spent: 14.59 minutes\n",
      "Progress: 86.22%, loss: 5.602998614311218, time spent: 14.64 minutes\n",
      "Progress: 86.47%, loss: 5.615880131721497, time spent: 14.68 minutes\n",
      "Progress: 86.72%, loss: 5.597507476806641, time spent: 14.72 minutes\n",
      "Progress: 86.97%, loss: 5.625868141651154, time spent: 14.77 minutes\n",
      "Progress: 87.22%, loss: 5.62839013338089, time spent: 14.81 minutes\n",
      "Progress: 87.47%, loss: 5.5874106884002686, time spent: 14.85 minutes\n",
      "Progress: 87.72%, loss: 5.598972141742706, time spent: 14.89 minutes\n",
      "Progress: 87.97%, loss: 5.619679570198059, time spent: 14.94 minutes\n",
      "Progress: 88.22%, loss: 5.615948736667633, time spent: 14.97 minutes\n",
      "Progress: 88.47%, loss: 5.593172073364258, time spent: 15.02 minutes\n",
      "Progress: 88.72%, loss: 5.62618213891983, time spent: 15.06 minutes\n",
      "Progress: 88.97%, loss: 5.594195187091827, time spent: 15.10 minutes\n",
      "Progress: 89.22%, loss: 5.605077147483826, time spent: 15.15 minutes\n",
      "Progress: 89.47%, loss: 5.623849511146545, time spent: 15.19 minutes\n",
      "Progress: 89.72%, loss: 5.590484023094177, time spent: 15.23 minutes\n",
      "Progress: 89.97%, loss: 5.610074698925018, time spent: 15.27 minutes\n",
      "Progress: 90.22%, loss: 5.5975711941719055, time spent: 15.32 minutes\n"
     ]
    },
    {
     "name": "stdout",
     "output_type": "stream",
     "text": [
      "Progress: 90.47%, loss: 5.609426915645599, time spent: 15.36 minutes\n",
      "Progress: 90.72%, loss: 5.593367636203766, time spent: 15.40 minutes\n",
      "Progress: 90.97%, loss: 5.606934666633606, time spent: 15.44 minutes\n",
      "Progress: 91.22%, loss: 5.579408764839172, time spent: 15.49 minutes\n",
      "Progress: 91.47%, loss: 5.6060070395469666, time spent: 15.53 minutes\n",
      "Progress: 91.72%, loss: 5.591641783714294, time spent: 15.57 minutes\n",
      "Progress: 91.97%, loss: 5.606664061546326, time spent: 15.61 minutes\n",
      "Progress: 92.22%, loss: 5.607921898365021, time spent: 15.66 minutes\n",
      "Progress: 92.47%, loss: 5.6049312353134155, time spent: 15.70 minutes\n",
      "Progress: 92.72%, loss: 5.6178149580955505, time spent: 15.74 minutes\n",
      "Progress: 92.97%, loss: 5.601138055324554, time spent: 15.79 minutes\n",
      "Progress: 93.22%, loss: 5.600656092166901, time spent: 15.83 minutes\n",
      "Progress: 93.47%, loss: 5.589727401733398, time spent: 15.87 minutes\n",
      "Progress: 93.72%, loss: 5.603063523769379, time spent: 15.91 minutes\n",
      "Progress: 93.97%, loss: 5.600646793842316, time spent: 15.95 minutes\n",
      "Progress: 94.22%, loss: 5.579643666744232, time spent: 15.99 minutes\n",
      "Progress: 94.47%, loss: 5.589905261993408, time spent: 16.03 minutes\n",
      "Progress: 94.72%, loss: 5.5857632756233215, time spent: 16.08 minutes\n",
      "Progress: 94.97%, loss: 5.607774555683136, time spent: 16.12 minutes\n",
      "Progress: 95.22%, loss: 5.590590000152588, time spent: 16.16 minutes\n",
      "Progress: 95.47%, loss: 5.590249001979828, time spent: 16.20 minutes\n",
      "Progress: 95.72%, loss: 5.598472833633423, time spent: 16.25 minutes\n",
      "Progress: 95.97%, loss: 5.589415788650513, time spent: 16.29 minutes\n",
      "Progress: 96.22%, loss: 5.602453708648682, time spent: 16.33 minutes\n",
      "Progress: 96.47%, loss: 5.581717014312744, time spent: 16.37 minutes\n",
      "Progress: 96.72%, loss: 5.60850465297699, time spent: 16.41 minutes\n",
      "Progress: 96.97%, loss: 5.589435040950775, time spent: 16.45 minutes\n",
      "Progress: 97.22%, loss: 5.593938529491425, time spent: 16.49 minutes\n",
      "Progress: 97.47%, loss: 5.565965056419373, time spent: 16.53 minutes\n",
      "Progress: 97.72%, loss: 5.592081904411316, time spent: 16.57 minutes\n",
      "Progress: 97.97%, loss: 5.596769273281097, time spent: 16.61 minutes\n",
      "Progress: 98.22%, loss: 5.600316107273102, time spent: 16.65 minutes\n",
      "Progress: 98.47%, loss: 5.605421364307404, time spent: 16.70 minutes\n",
      "Progress: 98.72%, loss: 5.593467593193054, time spent: 16.74 minutes\n",
      "Progress: 98.97%, loss: 5.605979740619659, time spent: 16.78 minutes\n",
      "Progress: 99.22%, loss: 5.59052574634552, time spent: 16.82 minutes\n",
      "Progress: 99.47%, loss: 5.581697940826416, time spent: 16.86 minutes\n",
      "Progress: 99.72%, loss: 5.593313694000244, time spent: 16.90 minutes\n",
      "Progress: 99.97%, loss: 5.580635845661163, time spent: 16.94 minutes\n",
      "Finish training, time spent: 16.94 minutes\n"
     ]
    }
   ],
   "source": [
    "encoder, predictor, loss = train(dataset, feature_enc_len, num_iter, N, learning_rate, device, path_enc_type, feature_enc_type)"
   ]
  },
  {
   "cell_type": "markdown",
   "metadata": {},
   "source": [
    "### Test model"
   ]
  },
  {
   "cell_type": "code",
   "execution_count": 6,
   "metadata": {
    "pycharm": {
     "name": "#%%\n"
    }
   },
   "outputs": [
    {
     "name": "stdout",
     "output_type": "stream",
     "text": [
      "Start testing\n",
      "Test accuracy: 0.6742578283855226, recall: 0.6597510373443983, precision: 0.6703204047217538, f1: 0.6649937264742786\n"
     ]
    }
   ],
   "source": [
    "config = [feature_enc_len, feature_enc_type, path_enc_type, N, num_epoch]\n",
    "test(dataset, encoder, predictor, loss, config)"
   ]
  },
  {
   "cell_type": "code",
   "execution_count": 7,
   "metadata": {},
   "outputs": [],
   "source": [
    "torch.save(encoder, \"saved_models/att_encoder\")\n",
    "torch.save(predictor, \"saved_models/att_predictor\")"
   ]
  },
  {
   "cell_type": "markdown",
   "metadata": {},
   "source": [
    "### Plot training loss VS iteration"
   ]
  },
  {
   "cell_type": "code",
   "execution_count": 8,
   "metadata": {},
   "outputs": [
    {
     "data": {
      "text/html": [
       "<div>\n",
       "<style scoped>\n",
       "    .dataframe tbody tr th:only-of-type {\n",
       "        vertical-align: middle;\n",
       "    }\n",
       "\n",
       "    .dataframe tbody tr th {\n",
       "        vertical-align: top;\n",
       "    }\n",
       "\n",
       "    .dataframe thead th {\n",
       "        text-align: right;\n",
       "    }\n",
       "</style>\n",
       "<table border=\"1\" class=\"dataframe\">\n",
       "  <thead>\n",
       "    <tr style=\"text-align: right;\">\n",
       "      <th></th>\n",
       "      <th>epoch</th>\n",
       "      <th>loss</th>\n",
       "    </tr>\n",
       "  </thead>\n",
       "  <tbody>\n",
       "    <tr>\n",
       "      <th>0</th>\n",
       "      <td>0</td>\n",
       "      <td>6.279432</td>\n",
       "    </tr>\n",
       "    <tr>\n",
       "      <th>1</th>\n",
       "      <td>1</td>\n",
       "      <td>6.252811</td>\n",
       "    </tr>\n",
       "    <tr>\n",
       "      <th>2</th>\n",
       "      <td>2</td>\n",
       "      <td>6.245734</td>\n",
       "    </tr>\n",
       "    <tr>\n",
       "      <th>3</th>\n",
       "      <td>3</td>\n",
       "      <td>6.240953</td>\n",
       "    </tr>\n",
       "    <tr>\n",
       "      <th>4</th>\n",
       "      <td>4</td>\n",
       "      <td>6.237177</td>\n",
       "    </tr>\n",
       "  </tbody>\n",
       "</table>\n",
       "</div>"
      ],
      "text/plain": [
       "   epoch      loss\n",
       "0      0  6.279432\n",
       "1      1  6.252811\n",
       "2      2  6.245734\n",
       "3      3  6.240953\n",
       "4      4  6.237177"
      ]
     },
     "execution_count": 8,
     "metadata": {},
     "output_type": "execute_result"
    }
   ],
   "source": [
    "df = pd.read_csv(\"train.log\")\n",
    "df.head()"
   ]
  },
  {
   "cell_type": "code",
   "execution_count": 9,
   "metadata": {},
   "outputs": [
    {
     "ename": "KeyError",
     "evalue": "'train_loss'",
     "output_type": "error",
     "traceback": [
      "\u001b[1;31m---------------------------------------------------------------------------\u001b[0m",
      "\u001b[1;31mKeyError\u001b[0m                                  Traceback (most recent call last)",
      "\u001b[1;32m~\\.conda\\envs\\pytorch\\lib\\site-packages\\pandas\\core\\indexes\\base.py\u001b[0m in \u001b[0;36mget_loc\u001b[1;34m(self, key, method, tolerance)\u001b[0m\n\u001b[0;32m   3620\u001b[0m             \u001b[1;32mtry\u001b[0m\u001b[1;33m:\u001b[0m\u001b[1;33m\u001b[0m\u001b[1;33m\u001b[0m\u001b[0m\n\u001b[1;32m-> 3621\u001b[1;33m                 \u001b[1;32mreturn\u001b[0m \u001b[0mself\u001b[0m\u001b[1;33m.\u001b[0m\u001b[0m_engine\u001b[0m\u001b[1;33m.\u001b[0m\u001b[0mget_loc\u001b[0m\u001b[1;33m(\u001b[0m\u001b[0mcasted_key\u001b[0m\u001b[1;33m)\u001b[0m\u001b[1;33m\u001b[0m\u001b[1;33m\u001b[0m\u001b[0m\n\u001b[0m\u001b[0;32m   3622\u001b[0m             \u001b[1;32mexcept\u001b[0m \u001b[0mKeyError\u001b[0m \u001b[1;32mas\u001b[0m \u001b[0merr\u001b[0m\u001b[1;33m:\u001b[0m\u001b[1;33m\u001b[0m\u001b[1;33m\u001b[0m\u001b[0m\n",
      "\u001b[1;32m~\\.conda\\envs\\pytorch\\lib\\site-packages\\pandas\\_libs\\index.pyx\u001b[0m in \u001b[0;36mpandas._libs.index.IndexEngine.get_loc\u001b[1;34m()\u001b[0m\n",
      "\u001b[1;32m~\\.conda\\envs\\pytorch\\lib\\site-packages\\pandas\\_libs\\index.pyx\u001b[0m in \u001b[0;36mpandas._libs.index.IndexEngine.get_loc\u001b[1;34m()\u001b[0m\n",
      "\u001b[1;32mpandas\\_libs\\hashtable_class_helper.pxi\u001b[0m in \u001b[0;36mpandas._libs.hashtable.PyObjectHashTable.get_item\u001b[1;34m()\u001b[0m\n",
      "\u001b[1;32mpandas\\_libs\\hashtable_class_helper.pxi\u001b[0m in \u001b[0;36mpandas._libs.hashtable.PyObjectHashTable.get_item\u001b[1;34m()\u001b[0m\n",
      "\u001b[1;31mKeyError\u001b[0m: 'train_loss'",
      "\nThe above exception was the direct cause of the following exception:\n",
      "\u001b[1;31mKeyError\u001b[0m                                  Traceback (most recent call last)",
      "\u001b[1;32m~\\AppData\\Local\\Temp/ipykernel_1776/1681427831.py\u001b[0m in \u001b[0;36m<module>\u001b[1;34m\u001b[0m\n\u001b[1;32m----> 1\u001b[1;33m \u001b[0mplt\u001b[0m\u001b[1;33m.\u001b[0m\u001b[0mplot\u001b[0m\u001b[1;33m(\u001b[0m\u001b[0mdf\u001b[0m\u001b[1;33m[\u001b[0m\u001b[1;34m'epoch'\u001b[0m\u001b[1;33m]\u001b[0m\u001b[1;33m,\u001b[0m \u001b[0mdf\u001b[0m\u001b[1;33m[\u001b[0m\u001b[1;34m'train_loss'\u001b[0m\u001b[1;33m]\u001b[0m\u001b[1;33m)\u001b[0m\u001b[1;33m\u001b[0m\u001b[1;33m\u001b[0m\u001b[0m\n\u001b[0m\u001b[0;32m      2\u001b[0m \u001b[0mplt\u001b[0m\u001b[1;33m.\u001b[0m\u001b[0mplot\u001b[0m\u001b[1;33m(\u001b[0m\u001b[0mdf\u001b[0m\u001b[1;33m[\u001b[0m\u001b[1;34m'epoch'\u001b[0m\u001b[1;33m]\u001b[0m\u001b[1;33m,\u001b[0m \u001b[0mdf\u001b[0m\u001b[1;33m[\u001b[0m\u001b[1;34m'val_loss'\u001b[0m\u001b[1;33m]\u001b[0m\u001b[1;33m)\u001b[0m\u001b[1;33m\u001b[0m\u001b[1;33m\u001b[0m\u001b[0m\n\u001b[0;32m      3\u001b[0m \u001b[0mplt\u001b[0m\u001b[1;33m.\u001b[0m\u001b[0mlegend\u001b[0m\u001b[1;33m(\u001b[0m\u001b[1;33m[\u001b[0m\u001b[1;34m'training'\u001b[0m\u001b[1;33m,\u001b[0m \u001b[1;34m'validation'\u001b[0m\u001b[1;33m]\u001b[0m\u001b[1;33m,\u001b[0m \u001b[0mloc\u001b[0m\u001b[1;33m=\u001b[0m\u001b[1;34m'upper right'\u001b[0m\u001b[1;33m)\u001b[0m\u001b[1;33m\u001b[0m\u001b[1;33m\u001b[0m\u001b[0m\n\u001b[0;32m      4\u001b[0m \u001b[0mplt\u001b[0m\u001b[1;33m.\u001b[0m\u001b[0mxlabel\u001b[0m\u001b[1;33m(\u001b[0m\u001b[1;34m'Number of epochs'\u001b[0m\u001b[1;33m)\u001b[0m\u001b[1;33m\u001b[0m\u001b[1;33m\u001b[0m\u001b[0m\n\u001b[0;32m      5\u001b[0m \u001b[0mplt\u001b[0m\u001b[1;33m.\u001b[0m\u001b[0mylabel\u001b[0m\u001b[1;33m(\u001b[0m\u001b[1;34m'Loss'\u001b[0m\u001b[1;33m)\u001b[0m\u001b[1;33m\u001b[0m\u001b[1;33m\u001b[0m\u001b[0m\n",
      "\u001b[1;32m~\\.conda\\envs\\pytorch\\lib\\site-packages\\pandas\\core\\frame.py\u001b[0m in \u001b[0;36m__getitem__\u001b[1;34m(self, key)\u001b[0m\n\u001b[0;32m   3503\u001b[0m             \u001b[1;32mif\u001b[0m \u001b[0mself\u001b[0m\u001b[1;33m.\u001b[0m\u001b[0mcolumns\u001b[0m\u001b[1;33m.\u001b[0m\u001b[0mnlevels\u001b[0m \u001b[1;33m>\u001b[0m \u001b[1;36m1\u001b[0m\u001b[1;33m:\u001b[0m\u001b[1;33m\u001b[0m\u001b[1;33m\u001b[0m\u001b[0m\n\u001b[0;32m   3504\u001b[0m                 \u001b[1;32mreturn\u001b[0m \u001b[0mself\u001b[0m\u001b[1;33m.\u001b[0m\u001b[0m_getitem_multilevel\u001b[0m\u001b[1;33m(\u001b[0m\u001b[0mkey\u001b[0m\u001b[1;33m)\u001b[0m\u001b[1;33m\u001b[0m\u001b[1;33m\u001b[0m\u001b[0m\n\u001b[1;32m-> 3505\u001b[1;33m             \u001b[0mindexer\u001b[0m \u001b[1;33m=\u001b[0m \u001b[0mself\u001b[0m\u001b[1;33m.\u001b[0m\u001b[0mcolumns\u001b[0m\u001b[1;33m.\u001b[0m\u001b[0mget_loc\u001b[0m\u001b[1;33m(\u001b[0m\u001b[0mkey\u001b[0m\u001b[1;33m)\u001b[0m\u001b[1;33m\u001b[0m\u001b[1;33m\u001b[0m\u001b[0m\n\u001b[0m\u001b[0;32m   3506\u001b[0m             \u001b[1;32mif\u001b[0m \u001b[0mis_integer\u001b[0m\u001b[1;33m(\u001b[0m\u001b[0mindexer\u001b[0m\u001b[1;33m)\u001b[0m\u001b[1;33m:\u001b[0m\u001b[1;33m\u001b[0m\u001b[1;33m\u001b[0m\u001b[0m\n\u001b[0;32m   3507\u001b[0m                 \u001b[0mindexer\u001b[0m \u001b[1;33m=\u001b[0m \u001b[1;33m[\u001b[0m\u001b[0mindexer\u001b[0m\u001b[1;33m]\u001b[0m\u001b[1;33m\u001b[0m\u001b[1;33m\u001b[0m\u001b[0m\n",
      "\u001b[1;32m~\\.conda\\envs\\pytorch\\lib\\site-packages\\pandas\\core\\indexes\\base.py\u001b[0m in \u001b[0;36mget_loc\u001b[1;34m(self, key, method, tolerance)\u001b[0m\n\u001b[0;32m   3621\u001b[0m                 \u001b[1;32mreturn\u001b[0m \u001b[0mself\u001b[0m\u001b[1;33m.\u001b[0m\u001b[0m_engine\u001b[0m\u001b[1;33m.\u001b[0m\u001b[0mget_loc\u001b[0m\u001b[1;33m(\u001b[0m\u001b[0mcasted_key\u001b[0m\u001b[1;33m)\u001b[0m\u001b[1;33m\u001b[0m\u001b[1;33m\u001b[0m\u001b[0m\n\u001b[0;32m   3622\u001b[0m             \u001b[1;32mexcept\u001b[0m \u001b[0mKeyError\u001b[0m \u001b[1;32mas\u001b[0m \u001b[0merr\u001b[0m\u001b[1;33m:\u001b[0m\u001b[1;33m\u001b[0m\u001b[1;33m\u001b[0m\u001b[0m\n\u001b[1;32m-> 3623\u001b[1;33m                 \u001b[1;32mraise\u001b[0m \u001b[0mKeyError\u001b[0m\u001b[1;33m(\u001b[0m\u001b[0mkey\u001b[0m\u001b[1;33m)\u001b[0m \u001b[1;32mfrom\u001b[0m \u001b[0merr\u001b[0m\u001b[1;33m\u001b[0m\u001b[1;33m\u001b[0m\u001b[0m\n\u001b[0m\u001b[0;32m   3624\u001b[0m             \u001b[1;32mexcept\u001b[0m \u001b[0mTypeError\u001b[0m\u001b[1;33m:\u001b[0m\u001b[1;33m\u001b[0m\u001b[1;33m\u001b[0m\u001b[0m\n\u001b[0;32m   3625\u001b[0m                 \u001b[1;31m# If we have a listlike key, _check_indexing_error will raise\u001b[0m\u001b[1;33m\u001b[0m\u001b[1;33m\u001b[0m\u001b[0m\n",
      "\u001b[1;31mKeyError\u001b[0m: 'train_loss'"
     ]
    }
   ],
   "source": [
    "plt.plot(df['epoch'], df['train_loss'])\n",
    "plt.plot(df['epoch'], df['val_loss'])\n",
    "plt.legend(['training', 'validation'], loc='upper right')\n",
    "plt.xlabel('Number of epochs')\n",
    "plt.ylabel('Loss')\n",
    "plt.title('Loss VS Epochs')\n",
    "plt.grid()\n",
    "plt.show()"
   ]
  },
  {
   "cell_type": "code",
   "execution_count": null,
   "metadata": {},
   "outputs": [],
   "source": [
    "plt.plot(df['epoch'], df['train_acc'])\n",
    "plt.plot(df['epoch'], df['val_acc'])\n",
    "plt.legend(['training', 'validation'], loc='lower right')\n",
    "plt.xlabel('Number of epochs')\n",
    "plt.ylabel('Accuracy')\n",
    "plt.title('Accuracy VS Epochs')\n",
    "plt.grid()\n",
    "plt.show()"
   ]
  },
  {
   "cell_type": "markdown",
   "metadata": {
    "pycharm": {
     "name": "#%% md\n"
    }
   },
   "source": [
    "### Error Analysis"
   ]
  },
  {
   "cell_type": "code",
   "execution_count": null,
   "metadata": {
    "pycharm": {
     "name": "#%%\n"
    }
   },
   "outputs": [],
   "source": []
  }
 ],
 "metadata": {
  "kernelspec": {
   "display_name": "Python 3 (ipykernel)",
   "language": "python",
   "name": "python3"
  },
  "language_info": {
   "codemirror_mode": {
    "name": "ipython",
    "version": 3
   },
   "file_extension": ".py",
   "mimetype": "text/x-python",
   "name": "python",
   "nbconvert_exporter": "python",
   "pygments_lexer": "ipython3",
   "version": "3.9.7"
  }
 },
 "nbformat": 4,
 "nbformat_minor": 1
}
