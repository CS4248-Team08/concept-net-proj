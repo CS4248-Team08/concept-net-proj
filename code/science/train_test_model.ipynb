{
 "cells": [
  {
   "cell_type": "markdown",
   "metadata": {
    "pycharm": {
     "name": "#%% md\n"
    }
   },
   "source": [
    "### Import packages"
   ]
  },
  {
   "cell_type": "code",
   "execution_count": 1,
   "metadata": {
    "pycharm": {
     "is_executing": true,
     "name": "#%%\n"
    }
   },
   "outputs": [],
   "source": [
    "import torch\n",
    "from dataset import Dataset\n",
    "from learn import train, test\n",
    "\n",
    "import pandas as pd\n",
    "import numpy as np\n",
    "import matplotlib.pyplot as plt"
   ]
  },
  {
   "cell_type": "markdown",
   "metadata": {
    "pycharm": {
     "name": "#%% md\n"
    }
   },
   "source": [
    "### Setup running device"
   ]
  },
  {
   "cell_type": "code",
   "execution_count": 2,
   "metadata": {
    "pycharm": {
     "name": "#%%\n"
    }
   },
   "outputs": [
    {
     "name": "stdout",
     "output_type": "stream",
     "text": [
      "Using device: cuda\n"
     ]
    }
   ],
   "source": [
    "use_gpu = True\n",
    "device = \"cuda\" if use_gpu and torch.cuda.is_available() else \"cpu\"\n",
    "print(f\"Using device: {device}\")"
   ]
  },
  {
   "cell_type": "markdown",
   "metadata": {},
   "source": [
    "### Load dataset"
   ]
  },
  {
   "cell_type": "code",
   "execution_count": 3,
   "metadata": {
    "pycharm": {
     "name": "#%%\n"
    }
   },
   "outputs": [
    {
     "name": "stdout",
     "output_type": "stream",
     "text": [
      "loading v_enc_dim300\n",
      "loading v_freq_freq\n",
      "loading v_deg\n",
      "loading v_sense\n",
      "loading e_vertexsim\n",
      "loading e_dir\n",
      "loading e_rel\n",
      "loading e_weightsource\n",
      "loading e_srank_rel\n",
      "loading e_trank_rel\n",
      "loading e_sense\n",
      "loading problem plain texts\n",
      "loading labeled pairs\n"
     ]
    }
   ],
   "source": [
    "features = [\n",
    "    'v_enc_dim300',\n",
    "    'v_freq_freq',\n",
    "    'v_deg',\n",
    "    'v_sense',\n",
    "    'e_vertexsim',\n",
    "    'e_dir', 'e_rel',\n",
    "    'e_weightsource',\n",
    "    'e_srank_rel',\n",
    "    'e_trank_rel',\n",
    "    'e_sense'\n",
    "]\n",
    "\n",
    "split_frac = 0.8\n",
    "dataset = Dataset(features, split_frac, device)"
   ]
  },
  {
   "cell_type": "markdown",
   "metadata": {
    "pycharm": {
     "name": "#%% md\n"
    }
   },
   "source": [
    "### Setup training and model configurations"
   ]
  },
  {
   "cell_type": "code",
   "execution_count": 4,
   "metadata": {},
   "outputs": [
    {
     "name": "stdout",
     "output_type": "stream",
     "text": [
      "Config: feature_enc_len:20, path_enc_type:Attention, feature_enc_type:proj+mean, N:1024, n_epoch:20, lr:0.001\n"
     ]
    }
   ],
   "source": [
    "feature_enc_len = 20\n",
    "feature_enc_type = 'proj+mean'  # 'proj+mean' OR 'concat+proj'\n",
    "path_enc_type = \"Attention\"  # 'RNN' OR 'LSTM' OR 'Attention'\n",
    "\n",
    "num_epoch = 20\n",
    "learning_rate = 0.001\n",
    "N = 1024  # batch size\n",
    "num_iter = num_epoch * (dataset.train_size//N)\n",
    "print(f\"Config: feature_enc_len:{feature_enc_len}, path_enc_type:{path_enc_type}, feature_enc_type:{feature_enc_type}, N:{N}, n_epoch:{num_epoch}, lr:{learning_rate}\")"
   ]
  },
  {
   "cell_type": "markdown",
   "metadata": {},
   "source": [
    "### Start training"
   ]
  },
  {
   "cell_type": "code",
   "execution_count": 5,
   "metadata": {
    "pycharm": {
     "name": "#%%\n"
    }
   },
   "outputs": [
    {
     "name": "stdout",
     "output_type": "stream",
     "text": [
      "defining architecture\n",
      "Start training\n",
      "Progress: 4.44%, loss: 6.621088802814484, acc: 0.49853515625, time spent: 0.08 minutes\n",
      "Progress: 9.44%, loss: 6.37667715549469, acc: 0.48828125, time spent: 0.14 minutes\n",
      "Progress: 14.44%, loss: 6.303764820098877, acc: 0.48876953125, time spent: 0.20 minutes\n",
      "Progress: 19.44%, loss: 6.263242602348328, acc: 0.501953125, time spent: 0.26 minutes\n",
      "Progress: 24.44%, loss: 6.2601364850997925, acc: 0.5078125, time spent: 0.32 minutes\n",
      "Progress: 29.44%, loss: 6.250221490859985, acc: 0.50830078125, time spent: 0.38 minutes\n",
      "Progress: 34.44%, loss: 6.253167033195496, acc: 0.50537109375, time spent: 0.44 minutes\n",
      "Progress: 39.44%, loss: 6.2475438714027405, acc: 0.50927734375, time spent: 0.50 minutes\n",
      "Progress: 44.44%, loss: 6.244607090950012, acc: 0.5048828125, time spent: 0.57 minutes\n",
      "Progress: 49.44%, loss: 6.2463653683662415, acc: 0.50634765625, time spent: 0.63 minutes\n",
      "Progress: 54.44%, loss: 6.238704860210419, acc: 0.51416015625, time spent: 0.69 minutes\n",
      "Progress: 59.44%, loss: 6.236671149730682, acc: 0.5, time spent: 0.75 minutes\n",
      "Progress: 64.44%, loss: 6.240767240524292, acc: 0.5146484375, time spent: 0.82 minutes\n",
      "Progress: 69.44%, loss: 6.232527852058411, acc: 0.51318359375, time spent: 0.88 minutes\n",
      "Progress: 74.44%, loss: 6.233760237693787, acc: 0.5078125, time spent: 0.94 minutes\n",
      "Progress: 79.44%, loss: 6.227747976779938, acc: 0.5009765625, time spent: 1.00 minutes\n",
      "Progress: 84.44%, loss: 6.227940559387207, acc: 0.53466796875, time spent: 1.06 minutes\n",
      "Progress: 89.44%, loss: 6.230890274047852, acc: 0.5087890625, time spent: 1.12 minutes\n",
      "Progress: 94.44%, loss: 6.224709928035736, acc: 0.517578125, time spent: 1.19 minutes\n",
      "Progress: 99.44%, loss: 6.225338637828827, acc: 0.52734375, time spent: 1.25 minutes\n",
      "Finish training, time spent: 1.25 minutes\n"
     ]
    }
   ],
   "source": [
    "encoder, predictor, loss = train(dataset, feature_enc_len, num_iter, N, learning_rate, device, path_enc_type, feature_enc_type)"
   ]
  },
  {
   "cell_type": "markdown",
   "metadata": {},
   "source": [
    "### Test model"
   ]
  },
  {
   "cell_type": "code",
   "execution_count": 6,
   "metadata": {
    "pycharm": {
     "name": "#%%\n"
    }
   },
   "outputs": [
    {
     "name": "stdout",
     "output_type": "stream",
     "text": [
      "Start testing\n",
      "Test accuracy: 0.535583570557137, recall: 0.4327731092436975, precision: 0.5244399185336049, f1: 0.47421731123388583\n"
     ]
    }
   ],
   "source": [
    "config = [feature_enc_len, feature_enc_type, path_enc_type, N, num_epoch]\n",
    "test(dataset, encoder, predictor, loss, config)"
   ]
  },
  {
   "cell_type": "markdown",
   "metadata": {},
   "source": [
    "### Plot training loss VS iteration"
   ]
  },
  {
   "cell_type": "code",
   "execution_count": 10,
   "metadata": {},
   "outputs": [
    {
     "data": {
      "text/html": [
       "<div>\n",
       "<style scoped>\n",
       "    .dataframe tbody tr th:only-of-type {\n",
       "        vertical-align: middle;\n",
       "    }\n",
       "\n",
       "    .dataframe tbody tr th {\n",
       "        vertical-align: top;\n",
       "    }\n",
       "\n",
       "    .dataframe thead th {\n",
       "        text-align: right;\n",
       "    }\n",
       "</style>\n",
       "<table border=\"1\" class=\"dataframe\">\n",
       "  <thead>\n",
       "    <tr style=\"text-align: right;\">\n",
       "      <th></th>\n",
       "      <th>epoch</th>\n",
       "      <th>train_loss</th>\n",
       "      <th>train_acc</th>\n",
       "      <th>val_loss</th>\n",
       "      <th>val_acc</th>\n",
       "    </tr>\n",
       "  </thead>\n",
       "  <tbody>\n",
       "    <tr>\n",
       "      <th>0</th>\n",
       "      <td>1</td>\n",
       "      <td>0.000718</td>\n",
       "      <td>0.498535</td>\n",
       "      <td>0.000291</td>\n",
       "      <td>0.495730</td>\n",
       "    </tr>\n",
       "    <tr>\n",
       "      <th>1</th>\n",
       "      <td>2</td>\n",
       "      <td>0.000692</td>\n",
       "      <td>0.488281</td>\n",
       "      <td>0.000285</td>\n",
       "      <td>0.494103</td>\n",
       "    </tr>\n",
       "    <tr>\n",
       "      <th>2</th>\n",
       "      <td>3</td>\n",
       "      <td>0.000684</td>\n",
       "      <td>0.488770</td>\n",
       "      <td>0.000286</td>\n",
       "      <td>0.476617</td>\n",
       "    </tr>\n",
       "    <tr>\n",
       "      <th>3</th>\n",
       "      <td>4</td>\n",
       "      <td>0.000680</td>\n",
       "      <td>0.501953</td>\n",
       "      <td>0.000282</td>\n",
       "      <td>0.493697</td>\n",
       "    </tr>\n",
       "    <tr>\n",
       "      <th>4</th>\n",
       "      <td>5</td>\n",
       "      <td>0.000679</td>\n",
       "      <td>0.507812</td>\n",
       "      <td>0.000282</td>\n",
       "      <td>0.504270</td>\n",
       "    </tr>\n",
       "  </tbody>\n",
       "</table>\n",
       "</div>"
      ],
      "text/plain": [
       "   epoch  train_loss  train_acc  val_loss   val_acc\n",
       "0      1    0.000718   0.498535  0.000291  0.495730\n",
       "1      2    0.000692   0.488281  0.000285  0.494103\n",
       "2      3    0.000684   0.488770  0.000286  0.476617\n",
       "3      4    0.000680   0.501953  0.000282  0.493697\n",
       "4      5    0.000679   0.507812  0.000282  0.504270"
      ]
     },
     "execution_count": 10,
     "metadata": {},
     "output_type": "execute_result"
    }
   ],
   "source": [
    "df = pd.read_csv(\"train.log\")\n",
    "df.head()"
   ]
  },
  {
   "cell_type": "code",
   "execution_count": 11,
   "metadata": {},
   "outputs": [
    {
     "data": {
      "image/png": "[encoded data removed]",
      "text/plain": [
       "<Figure size 432x288 with 1 Axes>"
      ]
     },
     "metadata": {
      "needs_background": "light"
     },
     "output_type": "display_data"
    }
   ],
   "source": [
    "plt.plot(df['epoch'], df['train_loss'])\n",
    "plt.plot(df['epoch'], df['val_loss'])\n",
    "plt.legend(['training', 'validation'], loc='upper right')\n",
    "plt.xlabel('Number of epochs')\n",
    "plt.ylabel('Loss')\n",
    "plt.title('Loss VS Epochs')\n",
    "plt.grid()\n",
    "plt.show()"
   ]
  },
  {
   "cell_type": "code",
   "execution_count": 9,
   "metadata": {},
   "outputs": [
    {
     "data": {
      "image/png": "[encoded data removed]",
      "text/plain": [
       "<Figure size 432x288 with 1 Axes>"
      ]
     },
     "metadata": {
      "needs_background": "light"
     },
     "output_type": "display_data"
    }
   ],
   "source": [
    "plt.plot(df['epoch'], df['train_acc'])\n",
    "plt.plot(df['epoch'], df['val_acc'])\n",
    "plt.legend(['training', 'validation'], loc='lower right')\n",
    "plt.xlabel('Number of epochs')\n",
    "plt.ylabel('Accuracy')\n",
    "plt.title('Accuracy VS Epochs')\n",
    "plt.grid()\n",
    "plt.show()"
   ]
  },
  {
   "cell_type": "markdown",
   "metadata": {
    "pycharm": {
     "name": "#%% md\n"
    }
   },
   "source": [
    "### Error Analysis"
   ]
  },
  {
   "cell_type": "code",
   "execution_count": null,
   "metadata": {
    "pycharm": {
     "name": "#%%\n"
    }
   },
   "outputs": [],
   "source": []
  }
 ],
 "metadata": {
  "kernelspec": {
   "display_name": "Python 3 (ipykernel)",
   "language": "python",
   "name": "python3"
  },
  "language_info": {
   "codemirror_mode": {
    "name": "ipython",
    "version": 3
   },
   "file_extension": ".py",
   "mimetype": "text/x-python",
   "name": "python",
   "nbconvert_exporter": "python",
   "pygments_lexer": "ipython3",
   "version": "3.9.7"
  }
 },
 "nbformat": 4,
 "nbformat_minor": 1
}
