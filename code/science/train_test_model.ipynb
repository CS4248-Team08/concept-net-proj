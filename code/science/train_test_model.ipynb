{
 "cells": [
  {
   "cell_type": "markdown",
   "metadata": {
    "pycharm": {
     "name": "#%% md\n"
    }
   },
   "source": [
    "### Import packages"
   ]
  },
  {
   "cell_type": "code",
   "execution_count": 1,
   "metadata": {
    "pycharm": {
     "name": "#%%\n"
    }
   },
   "outputs": [],
   "source": [
    "import torch\n",
    "from dataset import Dataset\n",
    "from learn import train, test"
   ]
  },
  {
   "cell_type": "markdown",
   "metadata": {
    "pycharm": {
     "name": "#%% md\n"
    }
   },
   "source": [
    "### Setup running device"
   ]
  },
  {
   "cell_type": "code",
   "execution_count": 2,
   "metadata": {
    "pycharm": {
     "name": "#%%\n"
    }
   },
   "outputs": [
    {
     "name": "stdout",
     "output_type": "stream",
     "text": [
      "Using device: cuda\n"
     ]
    }
   ],
   "source": [
    "use_gpu = True\n",
    "device = \"cuda\" if use_gpu and torch.cuda.is_available() else \"cpu\"\n",
    "print(f\"Using device: {device}\")"
   ]
  },
  {
   "cell_type": "markdown",
   "metadata": {
    "pycharm": {
     "name": "#%% md\n"
    }
   },
   "source": [
    "### Setup training and model configurations"
   ]
  },
  {
   "cell_type": "code",
   "execution_count": 3,
   "metadata": {
    "pycharm": {
     "name": "#%%\n"
    }
   },
   "outputs": [
    {
     "name": "stdout",
     "output_type": "stream",
     "text": [
      "loading v_enc_dim300\n",
      "loading v_freq_freq\n",
      "loading v_deg\n",
      "loading v_sense\n",
      "loading e_vertexsim\n",
      "loading e_dir\n",
      "loading e_rel\n",
      "loading e_weightsource\n",
      "loading e_srank_rel\n",
      "loading e_trank_rel\n",
      "loading e_sense\n",
      "loading problem plain texts\n",
      "loading labeled pairs\n",
      "Config: feature_enc_len:20, path_enc_type:LSTM, feature_enc_type:proj+mean, N:1024, n_epoch:1\n"
     ]
    }
   ],
   "source": [
    "features = [\n",
    "    'v_enc_dim300',\n",
    "    'v_freq_freq',\n",
    "    'v_deg',\n",
    "    'v_sense',\n",
    "    'e_vertexsim',\n",
    "    'e_dir', 'e_rel',\n",
    "    'e_weightsource',\n",
    "    'e_srank_rel',\n",
    "    'e_trank_rel',\n",
    "    'e_sense'\n",
    "]\n",
    "\n",
    "split_frac = 0.8\n",
    "dataset = Dataset(features, split_frac, device)\n",
    "\n",
    "feature_enc_len = 20\n",
    "feature_enc_type = 'proj+mean'  # 'proj+mean' OR 'concat+proj'\n",
    "path_enc_type = \"LSTM\"  # 'RNN' OR 'LSTM' OR 'Attention'\n",
    "\n",
    "num_epoch = 1\n",
    "N = 1024  # batch size\n",
    "num_iter = num_epoch * dataset.train_size//N\n",
    "print(f\"Config: feature_enc_len:{feature_enc_len}, path_enc_type:{path_enc_type}, feature_enc_type:{feature_enc_type}, N:{N}, n_epoch:{num_epoch}\")"
   ]
  },
  {
   "cell_type": "code",
   "execution_count": 4,
   "metadata": {
    "pycharm": {
     "name": "#%%\n"
    }
   },
   "outputs": [
    {
     "name": "stdout",
     "output_type": "stream",
     "text": [
      "defining architecture\n",
      "Start training\n",
      "Progress: 0.00%, loss: 0.6969843506813049, time spent: 0.01 minutes\n",
      "Finish training, time spent: 0.03 minutes\n"
     ]
    }
   ],
   "source": [
    "encoder, predictor, loss = train(dataset, feature_enc_len, num_iter, N, device, path_enc_type, feature_enc_type)"
   ]
  },
  {
   "cell_type": "code",
   "execution_count": 5,
   "metadata": {
    "pycharm": {
     "name": "#%%\n"
    }
   },
   "outputs": [
    {
     "name": "stdout",
     "output_type": "stream",
     "text": [
      "Start testing\n",
      "Test accuracy: 0.5372102480683204, recall: 0.9232558139534883, precision: 0.5340807174887893, f1: 0.6767045454545455\n"
     ]
    }
   ],
   "source": [
    "config = [feature_enc_len, feature_enc_type, path_enc_type, N, num_epoch]\n",
    "test(dataset, encoder, predictor, loss, config)"
   ]
  },
  {
   "cell_type": "code",
   "execution_count": null,
   "metadata": {},
   "outputs": [],
   "source": []
  }
 ],
 "metadata": {
  "kernelspec": {
   "display_name": "Python 3 (ipykernel)",
   "language": "python",
   "name": "python3"
  },
  "language_info": {
   "codemirror_mode": {
    "name": "ipython",
    "version": 3
   },
   "file_extension": ".py",
   "mimetype": "text/x-python",
   "name": "python",
   "nbconvert_exporter": "python",
   "pygments_lexer": "ipython3",
   "version": "3.9.7"
  }
 },
 "nbformat": 4,
 "nbformat_minor": 1
}
