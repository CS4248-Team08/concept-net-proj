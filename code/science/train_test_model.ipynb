{
 "cells": [
  {
   "cell_type": "markdown",
   "metadata": {
    "pycharm": {
     "name": "#%% md\n"
    }
   },
   "source": [
    "### Import packages"
   ]
  },
  {
   "cell_type": "code",
   "execution_count": 1,
   "metadata": {
    "pycharm": {
     "is_executing": true,
     "name": "#%%\n"
    }
   },
   "outputs": [],
   "source": [
    "import torch\n",
    "from dataset import Dataset\n",
    "from learn import train, test\n",
    "\n",
    "import pandas as pd\n",
    "import numpy as np\n",
    "import matplotlib.pyplot as plt"
   ]
  },
  {
   "cell_type": "markdown",
   "metadata": {
    "pycharm": {
     "name": "#%% md\n"
    }
   },
   "source": [
    "### Setup running device"
   ]
  },
  {
   "cell_type": "code",
   "execution_count": 2,
   "metadata": {
    "pycharm": {
     "name": "#%%\n"
    }
   },
   "outputs": [
    {
     "name": "stdout",
     "output_type": "stream",
     "text": [
      "Using device: cuda\n"
     ]
    }
   ],
   "source": [
    "use_gpu = True\n",
    "device = \"cuda\" if use_gpu and torch.cuda.is_available() else \"cpu\"\n",
    "print(f\"Using device: {device}\")"
   ]
  },
  {
   "cell_type": "markdown",
   "metadata": {},
   "source": [
    "### Load dataset"
   ]
  },
  {
   "cell_type": "code",
   "execution_count": 3,
   "metadata": {
    "pycharm": {
     "name": "#%%\n"
    }
   },
   "outputs": [
    {
     "name": "stdout",
     "output_type": "stream",
     "text": [
      "loading v_enc_dim300\n",
      "loading v_freq_freq\n",
      "loading v_deg\n",
      "loading v_sense\n",
      "loading e_vertexsim\n",
      "loading e_dir\n",
      "loading e_rel\n",
      "loading e_weightsource\n",
      "loading e_srank_rel\n",
      "loading e_trank_rel\n",
      "loading e_sense\n",
      "loading problem plain texts\n",
      "loading labeled pairs\n"
     ]
    }
   ],
   "source": [
    "features = [\n",
    "    'v_enc_dim300',\n",
    "    'v_freq_freq',\n",
    "    'v_deg',\n",
    "    'v_sense',\n",
    "    'e_vertexsim',\n",
    "    'e_dir', 'e_rel',\n",
    "    'e_weightsource',\n",
    "    'e_srank_rel',\n",
    "    'e_trank_rel',\n",
    "    'e_sense'\n",
    "]\n",
    "\n",
    "split_frac = 0.8\n",
    "dataset = Dataset(features, split_frac, device)"
   ]
  },
  {
   "cell_type": "markdown",
   "metadata": {
    "pycharm": {
     "name": "#%% md\n"
    }
   },
   "source": [
    "### Setup training and model configurations"
   ]
  },
  {
   "cell_type": "code",
   "execution_count": 10,
   "metadata": {},
   "outputs": [
    {
     "name": "stdout",
     "output_type": "stream",
     "text": [
      "Config: feature_enc_len:52, path_enc_type:Attention, feature_enc_type:proj+mean, N:1024, n_epoch:400, lr:0.002\n"
     ]
    }
   ],
   "source": [
    "feature_enc_len = 52\n",
    "feature_enc_type = 'proj+mean'  # 'proj+mean' OR 'concat+proj'\n",
    "path_enc_type = \"Attention\"  # 'RNN' OR 'LSTM' OR 'Attention'\n",
    "\n",
    "num_epoch = 400\n",
    "learning_rate = 0.002\n",
    "N = 1024  # batch size\n",
    "num_iter = num_epoch * dataset.train_size//N\n",
    "print(f\"Config: feature_enc_len:{feature_enc_len}, path_enc_type:{path_enc_type}, feature_enc_type:{feature_enc_type}, N:{N}, n_epoch:{num_epoch}, lr:{learning_rate}\")"
   ]
  },
  {
   "cell_type": "markdown",
   "metadata": {},
   "source": [
    "### Start training"
   ]
  },
  {
   "cell_type": "code",
   "execution_count": 11,
   "metadata": {
    "pycharm": {
     "name": "#%%\n"
    }
   },
   "outputs": [
    {
     "name": "stdout",
     "output_type": "stream",
     "text": [
      "defining architecture\n",
      "Start training\n",
      "Progress: 0.21%, loss: 6.704515337944031, time spent: 0.03 minutes\n",
      "Progress: 0.44%, loss: 6.380862176418304, time spent: 0.05 minutes\n",
      "Progress: 0.68%, loss: 6.269112765789032, time spent: 0.08 minutes\n",
      "Progress: 0.91%, loss: 6.230764925479889, time spent: 0.10 minutes\n",
      "Progress: 1.15%, loss: 6.225418150424957, time spent: 0.13 minutes\n",
      "Progress: 1.38%, loss: 6.216694533824921, time spent: 0.15 minutes\n",
      "Progress: 1.61%, loss: 6.225397706031799, time spent: 0.17 minutes\n",
      "Progress: 1.85%, loss: 6.231982409954071, time spent: 0.20 minutes\n",
      "Progress: 2.08%, loss: 6.213829278945923, time spent: 0.22 minutes\n",
      "Progress: 2.32%, loss: 6.225829124450684, time spent: 0.25 minutes\n",
      "Progress: 2.55%, loss: 6.212829530239105, time spent: 0.27 minutes\n",
      "Progress: 2.79%, loss: 6.219258427619934, time spent: 0.29 minutes\n",
      "Progress: 3.02%, loss: 6.214401662349701, time spent: 0.32 minutes\n",
      "Progress: 3.25%, loss: 6.215576946735382, time spent: 0.34 minutes\n",
      "Progress: 3.49%, loss: 6.214116990566254, time spent: 0.37 minutes\n",
      "Progress: 3.72%, loss: 6.201312899589539, time spent: 0.39 minutes\n",
      "Progress: 3.96%, loss: 6.217179775238037, time spent: 0.41 minutes\n",
      "Progress: 4.19%, loss: 6.218112647533417, time spent: 0.44 minutes\n",
      "Progress: 4.43%, loss: 6.203559577465057, time spent: 0.46 minutes\n",
      "Progress: 4.66%, loss: 6.192271053791046, time spent: 0.49 minutes\n",
      "Progress: 4.89%, loss: 6.1608869433403015, time spent: 0.52 minutes\n",
      "Progress: 5.13%, loss: 6.120640754699707, time spent: 0.54 minutes\n",
      "Progress: 5.36%, loss: 6.110116183757782, time spent: 0.57 minutes\n",
      "Progress: 5.60%, loss: 6.0921937227249146, time spent: 0.59 minutes\n",
      "Progress: 5.83%, loss: 6.084400117397308, time spent: 0.62 minutes\n",
      "Progress: 6.07%, loss: 6.086783945560455, time spent: 0.65 minutes\n",
      "Progress: 6.30%, loss: 6.048380613327026, time spent: 0.67 minutes\n",
      "Progress: 6.53%, loss: 6.0636069774627686, time spent: 0.70 minutes\n",
      "Progress: 6.77%, loss: 6.034968614578247, time spent: 0.72 minutes\n",
      "Progress: 7.00%, loss: 6.019739508628845, time spent: 0.75 minutes\n",
      "Progress: 7.24%, loss: 5.9972792863845825, time spent: 0.77 minutes\n",
      "Progress: 7.47%, loss: 5.996429681777954, time spent: 0.80 minutes\n",
      "Progress: 7.71%, loss: 5.979411721229553, time spent: 0.83 minutes\n",
      "Progress: 7.94%, loss: 5.942597270011902, time spent: 0.85 minutes\n",
      "Progress: 8.17%, loss: 5.908307194709778, time spent: 0.88 minutes\n",
      "Progress: 8.41%, loss: 5.910271406173706, time spent: 0.91 minutes\n",
      "Progress: 8.64%, loss: 5.906158685684204, time spent: 0.94 minutes\n",
      "Progress: 8.88%, loss: 5.870477020740509, time spent: 0.96 minutes\n",
      "Progress: 9.11%, loss: 5.883965969085693, time spent: 0.99 minutes\n",
      "Progress: 9.35%, loss: 5.8945974707603455, time spent: 1.02 minutes\n",
      "Progress: 9.58%, loss: 5.8692978620529175, time spent: 1.05 minutes\n",
      "Progress: 9.82%, loss: 5.86569207906723, time spent: 1.08 minutes\n",
      "Progress: 10.05%, loss: 5.864405930042267, time spent: 1.10 minutes\n",
      "Progress: 10.28%, loss: 5.850012362003326, time spent: 1.13 minutes\n",
      "Progress: 10.52%, loss: 5.843128800392151, time spent: 1.15 minutes\n",
      "Progress: 10.75%, loss: 5.786457121372223, time spent: 1.18 minutes\n",
      "Progress: 10.99%, loss: 5.8111735582351685, time spent: 1.21 minutes\n",
      "Progress: 11.22%, loss: 5.80464380979538, time spent: 1.23 minutes\n",
      "Progress: 11.46%, loss: 5.816228926181793, time spent: 1.26 minutes\n",
      "Progress: 11.69%, loss: 5.793898701667786, time spent: 1.29 minutes\n",
      "Progress: 11.92%, loss: 5.767438054084778, time spent: 1.32 minutes\n",
      "Progress: 12.16%, loss: 5.799261629581451, time spent: 1.34 minutes\n",
      "Progress: 12.39%, loss: 5.791720449924469, time spent: 1.37 minutes\n",
      "Progress: 12.63%, loss: 5.782322585582733, time spent: 1.40 minutes\n",
      "Progress: 12.86%, loss: 5.805834949016571, time spent: 1.43 minutes\n",
      "Progress: 13.10%, loss: 5.758033871650696, time spent: 1.45 minutes\n",
      "Progress: 13.33%, loss: 5.766802370548248, time spent: 1.48 minutes\n",
      "Progress: 13.56%, loss: 5.762322962284088, time spent: 1.50 minutes\n",
      "Progress: 13.80%, loss: 5.75725781917572, time spent: 1.53 minutes\n",
      "Progress: 14.03%, loss: 5.726835250854492, time spent: 1.55 minutes\n",
      "Progress: 14.27%, loss: 5.751829445362091, time spent: 1.58 minutes\n",
      "Progress: 14.50%, loss: 5.730491578578949, time spent: 1.60 minutes\n",
      "Progress: 14.74%, loss: 5.735135793685913, time spent: 1.63 minutes\n",
      "Progress: 14.97%, loss: 5.713700473308563, time spent: 1.65 minutes\n",
      "Progress: 15.20%, loss: 5.727066457271576, time spent: 1.68 minutes\n",
      "Progress: 15.44%, loss: 5.749020099639893, time spent: 1.71 minutes\n",
      "Progress: 15.67%, loss: 5.7134850025177, time spent: 1.73 minutes\n",
      "Progress: 15.91%, loss: 5.740222632884979, time spent: 1.76 minutes\n",
      "Progress: 16.14%, loss: 5.702268123626709, time spent: 1.78 minutes\n",
      "Progress: 16.38%, loss: 5.707724094390869, time spent: 1.81 minutes\n",
      "Progress: 16.61%, loss: 5.744652271270752, time spent: 1.83 minutes\n",
      "Progress: 16.84%, loss: 5.694595515727997, time spent: 1.85 minutes\n",
      "Progress: 17.08%, loss: 5.694538354873657, time spent: 1.88 minutes\n",
      "Progress: 17.31%, loss: 5.7162846326828, time spent: 1.90 minutes\n",
      "Progress: 17.55%, loss: 5.695402204990387, time spent: 1.93 minutes\n",
      "Progress: 17.78%, loss: 5.687928259372711, time spent: 1.95 minutes\n",
      "Progress: 18.02%, loss: 5.706790328025818, time spent: 1.98 minutes\n",
      "Progress: 18.25%, loss: 5.659992456436157, time spent: 2.00 minutes\n",
      "Progress: 18.48%, loss: 5.684972107410431, time spent: 2.03 minutes\n",
      "Progress: 18.72%, loss: 5.683759808540344, time spent: 2.05 minutes\n",
      "Progress: 18.95%, loss: 5.675465941429138, time spent: 2.08 minutes\n",
      "Progress: 19.19%, loss: 5.7105594873428345, time spent: 2.10 minutes\n",
      "Progress: 19.42%, loss: 5.709139943122864, time spent: 2.13 minutes\n",
      "Progress: 19.66%, loss: 5.687472820281982, time spent: 2.15 minutes\n",
      "Progress: 19.89%, loss: 5.672187566757202, time spent: 2.18 minutes\n",
      "Progress: 20.12%, loss: 5.694405257701874, time spent: 2.20 minutes\n",
      "Progress: 20.36%, loss: 5.690985798835754, time spent: 2.22 minutes\n",
      "Progress: 20.59%, loss: 5.689043581485748, time spent: 2.25 minutes\n",
      "Progress: 20.83%, loss: 5.676863968372345, time spent: 2.27 minutes\n",
      "Progress: 21.06%, loss: 5.6842368841171265, time spent: 2.30 minutes\n",
      "Progress: 21.30%, loss: 5.665569186210632, time spent: 2.32 minutes\n",
      "Progress: 21.53%, loss: 5.659976422786713, time spent: 2.35 minutes\n",
      "Progress: 21.77%, loss: 5.64962238073349, time spent: 2.38 minutes\n",
      "Progress: 22.00%, loss: 5.663345277309418, time spent: 2.40 minutes\n",
      "Progress: 22.23%, loss: 5.65976744890213, time spent: 2.42 minutes\n",
      "Progress: 22.47%, loss: 5.642210364341736, time spent: 2.44 minutes\n",
      "Progress: 22.70%, loss: 5.668572843074799, time spent: 2.47 minutes\n",
      "Progress: 22.94%, loss: 5.657455623149872, time spent: 2.49 minutes\n",
      "Progress: 23.17%, loss: 5.647177815437317, time spent: 2.52 minutes\n",
      "Progress: 23.41%, loss: 5.658135294914246, time spent: 2.54 minutes\n",
      "Progress: 23.64%, loss: 5.649103164672852, time spent: 2.57 minutes\n",
      "Progress: 23.87%, loss: 5.680411875247955, time spent: 2.59 minutes\n",
      "Progress: 24.11%, loss: 5.685677468776703, time spent: 2.62 minutes\n",
      "Progress: 24.34%, loss: 5.647380888462067, time spent: 2.64 minutes\n",
      "Progress: 24.58%, loss: 5.644165396690369, time spent: 2.67 minutes\n",
      "Progress: 24.81%, loss: 5.644446432590485, time spent: 2.69 minutes\n",
      "Progress: 25.05%, loss: 5.665901601314545, time spent: 2.72 minutes\n",
      "Progress: 25.28%, loss: 5.63420033454895, time spent: 2.74 minutes\n",
      "Progress: 25.51%, loss: 5.648921251296997, time spent: 2.77 minutes\n",
      "Progress: 25.75%, loss: 5.651121020317078, time spent: 2.79 minutes\n",
      "Progress: 25.98%, loss: 5.628761947154999, time spent: 2.82 minutes\n",
      "Progress: 26.22%, loss: 5.607774317264557, time spent: 2.84 minutes\n",
      "Progress: 26.45%, loss: 5.617982447147369, time spent: 2.87 minutes\n",
      "Progress: 26.69%, loss: 5.602987766265869, time spent: 2.89 minutes\n",
      "Progress: 26.92%, loss: 5.627187371253967, time spent: 2.92 minutes\n",
      "Progress: 27.15%, loss: 5.642449676990509, time spent: 2.95 minutes\n",
      "Progress: 27.39%, loss: 5.611625850200653, time spent: 2.97 minutes\n",
      "Progress: 27.62%, loss: 5.642491638660431, time spent: 2.99 minutes\n",
      "Progress: 27.86%, loss: 5.63163959980011, time spent: 3.02 minutes\n",
      "Progress: 28.09%, loss: 5.673615872859955, time spent: 3.05 minutes\n",
      "Progress: 28.33%, loss: 5.64341014623642, time spent: 3.07 minutes\n"
     ]
    },
    {
     "name": "stdout",
     "output_type": "stream",
     "text": [
      "Progress: 28.56%, loss: 5.691417872905731, time spent: 3.10 minutes\n",
      "Progress: 28.79%, loss: 5.654363632202148, time spent: 3.13 minutes\n",
      "Progress: 29.03%, loss: 5.687067270278931, time spent: 3.15 minutes\n",
      "Progress: 29.26%, loss: 5.625301778316498, time spent: 3.18 minutes\n",
      "Progress: 29.50%, loss: 5.650331497192383, time spent: 3.21 minutes\n",
      "Progress: 29.73%, loss: 5.722429692745209, time spent: 3.23 minutes\n",
      "Progress: 29.97%, loss: 5.673110842704773, time spent: 3.26 minutes\n",
      "Progress: 30.20%, loss: 5.6769691705703735, time spent: 3.29 minutes\n",
      "Progress: 30.43%, loss: 5.6386606097221375, time spent: 3.31 minutes\n",
      "Progress: 30.67%, loss: 5.673213958740234, time spent: 3.34 minutes\n",
      "Progress: 30.90%, loss: 5.660573363304138, time spent: 3.37 minutes\n",
      "Progress: 31.14%, loss: 5.621033489704132, time spent: 3.39 minutes\n",
      "Progress: 31.37%, loss: 5.6764636635780334, time spent: 3.42 minutes\n",
      "Progress: 31.61%, loss: 5.664482474327087, time spent: 3.44 minutes\n",
      "Progress: 31.84%, loss: 5.6453834772109985, time spent: 3.47 minutes\n",
      "Progress: 32.07%, loss: 5.624316394329071, time spent: 3.50 minutes\n",
      "Progress: 32.31%, loss: 5.615295052528381, time spent: 3.52 minutes\n",
      "Progress: 32.54%, loss: 5.648572623729706, time spent: 3.55 minutes\n",
      "Progress: 32.78%, loss: 5.614550828933716, time spent: 3.57 minutes\n",
      "Progress: 33.01%, loss: 5.5986557602882385, time spent: 3.59 minutes\n",
      "Progress: 33.25%, loss: 5.585937798023224, time spent: 3.62 minutes\n",
      "Progress: 33.48%, loss: 5.611010909080505, time spent: 3.65 minutes\n",
      "Progress: 33.72%, loss: 5.619111061096191, time spent: 3.67 minutes\n",
      "Progress: 33.95%, loss: 5.627543270587921, time spent: 3.70 minutes\n",
      "Progress: 34.18%, loss: 5.6268118023872375, time spent: 3.72 minutes\n",
      "Progress: 34.42%, loss: 5.649197816848755, time spent: 3.75 minutes\n",
      "Progress: 34.65%, loss: 5.629526734352112, time spent: 3.78 minutes\n",
      "Progress: 34.89%, loss: 5.615262687206268, time spent: 3.80 minutes\n",
      "Progress: 35.12%, loss: 5.625756204128265, time spent: 3.83 minutes\n",
      "Progress: 35.36%, loss: 5.605727434158325, time spent: 3.86 minutes\n",
      "Progress: 35.59%, loss: 5.622958481311798, time spent: 3.88 minutes\n",
      "Progress: 35.82%, loss: 5.655809044837952, time spent: 3.91 minutes\n",
      "Progress: 36.06%, loss: 5.617081522941589, time spent: 3.93 minutes\n",
      "Progress: 36.29%, loss: 5.608036994934082, time spent: 3.96 minutes\n",
      "Progress: 36.53%, loss: 5.603209435939789, time spent: 3.98 minutes\n",
      "Progress: 36.76%, loss: 5.6164661049842834, time spent: 4.01 minutes\n",
      "Progress: 37.00%, loss: 5.621460914611816, time spent: 4.03 minutes\n",
      "Progress: 37.23%, loss: 5.61385703086853, time spent: 4.06 minutes\n",
      "Progress: 37.46%, loss: 5.623659729957581, time spent: 4.09 minutes\n",
      "Progress: 37.70%, loss: 5.6084535121917725, time spent: 4.12 minutes\n",
      "Progress: 37.93%, loss: 5.617327868938446, time spent: 4.15 minutes\n",
      "Progress: 38.17%, loss: 5.627377033233643, time spent: 4.18 minutes\n",
      "Progress: 38.40%, loss: 5.608264625072479, time spent: 4.20 minutes\n",
      "Progress: 38.64%, loss: 5.57936418056488, time spent: 4.22 minutes\n",
      "Progress: 38.87%, loss: 5.626602649688721, time spent: 4.25 minutes\n",
      "Progress: 39.10%, loss: 5.627430617809296, time spent: 4.27 minutes\n",
      "Progress: 39.34%, loss: 5.60631936788559, time spent: 4.30 minutes\n",
      "Progress: 39.57%, loss: 5.587611496448517, time spent: 4.33 minutes\n",
      "Progress: 39.81%, loss: 5.61912989616394, time spent: 4.36 minutes\n",
      "Progress: 40.04%, loss: 5.562817096710205, time spent: 4.39 minutes\n",
      "Progress: 40.28%, loss: 5.584469735622406, time spent: 4.41 minutes\n",
      "Progress: 40.51%, loss: 5.5758925676345825, time spent: 4.43 minutes\n",
      "Progress: 40.74%, loss: 5.616669654846191, time spent: 4.45 minutes\n",
      "Progress: 40.98%, loss: 5.595686614513397, time spent: 4.48 minutes\n",
      "Progress: 41.21%, loss: 5.595696866512299, time spent: 4.50 minutes\n",
      "Progress: 41.45%, loss: 5.58205509185791, time spent: 4.53 minutes\n",
      "Progress: 41.68%, loss: 5.57607501745224, time spent: 4.55 minutes\n",
      "Progress: 41.92%, loss: 5.606457710266113, time spent: 4.58 minutes\n",
      "Progress: 42.15%, loss: 5.569080471992493, time spent: 4.60 minutes\n",
      "Progress: 42.38%, loss: 5.584185540676117, time spent: 4.63 minutes\n",
      "Progress: 42.62%, loss: 5.616727650165558, time spent: 4.65 minutes\n",
      "Progress: 42.85%, loss: 5.5976791977882385, time spent: 4.68 minutes\n",
      "Progress: 43.09%, loss: 5.598366737365723, time spent: 4.70 minutes\n",
      "Progress: 43.32%, loss: 5.5601279735565186, time spent: 4.72 minutes\n",
      "Progress: 43.56%, loss: 5.595883131027222, time spent: 4.75 minutes\n",
      "Progress: 43.79%, loss: 5.565315246582031, time spent: 4.78 minutes\n",
      "Progress: 44.02%, loss: 5.602786183357239, time spent: 4.80 minutes\n",
      "Progress: 44.26%, loss: 5.5536792278289795, time spent: 4.83 minutes\n",
      "Progress: 44.49%, loss: 5.623051643371582, time spent: 4.85 minutes\n",
      "Progress: 44.73%, loss: 5.600564002990723, time spent: 4.87 minutes\n",
      "Progress: 44.96%, loss: 5.602090537548065, time spent: 4.90 minutes\n",
      "Progress: 45.20%, loss: 5.578968822956085, time spent: 4.92 minutes\n",
      "Progress: 45.43%, loss: 5.59354841709137, time spent: 4.95 minutes\n",
      "Progress: 45.67%, loss: 5.5991581082344055, time spent: 4.98 minutes\n",
      "Progress: 45.90%, loss: 5.564211189746857, time spent: 5.00 minutes\n",
      "Progress: 46.13%, loss: 5.569777309894562, time spent: 5.02 minutes\n",
      "Progress: 46.37%, loss: 5.59662663936615, time spent: 5.05 minutes\n",
      "Progress: 46.60%, loss: 5.564753293991089, time spent: 5.07 minutes\n",
      "Progress: 46.84%, loss: 5.575150430202484, time spent: 5.10 minutes\n",
      "Progress: 47.07%, loss: 5.570768713951111, time spent: 5.12 minutes\n",
      "Progress: 47.31%, loss: 5.568537175655365, time spent: 5.15 minutes\n",
      "Progress: 47.54%, loss: 5.54912930727005, time spent: 5.17 minutes\n",
      "Progress: 47.77%, loss: 5.5445436835289, time spent: 5.20 minutes\n",
      "Progress: 48.01%, loss: 5.540026128292084, time spent: 5.22 minutes\n",
      "Progress: 48.24%, loss: 5.563577830791473, time spent: 5.24 minutes\n",
      "Progress: 48.48%, loss: 5.561034560203552, time spent: 5.27 minutes\n",
      "Progress: 48.71%, loss: 5.558242499828339, time spent: 5.30 minutes\n",
      "Progress: 48.95%, loss: 5.567968547344208, time spent: 5.32 minutes\n",
      "Progress: 49.18%, loss: 5.5701984167099, time spent: 5.34 minutes\n",
      "Progress: 49.41%, loss: 5.587798357009888, time spent: 5.37 minutes\n",
      "Progress: 49.65%, loss: 5.571361541748047, time spent: 5.39 minutes\n",
      "Progress: 49.88%, loss: 5.5611488819122314, time spent: 5.41 minutes\n",
      "Progress: 50.12%, loss: 5.566274702548981, time spent: 5.44 minutes\n",
      "Progress: 50.35%, loss: 5.554834187030792, time spent: 5.46 minutes\n",
      "Progress: 50.59%, loss: 5.583703696727753, time spent: 5.49 minutes\n",
      "Progress: 50.82%, loss: 5.5767616629600525, time spent: 5.51 minutes\n",
      "Progress: 51.05%, loss: 5.580593109130859, time spent: 5.54 minutes\n",
      "Progress: 51.29%, loss: 5.5781130194664, time spent: 5.56 minutes\n",
      "Progress: 51.52%, loss: 5.568291544914246, time spent: 5.59 minutes\n",
      "Progress: 51.76%, loss: 5.553577244281769, time spent: 5.61 minutes\n",
      "Progress: 51.99%, loss: 5.5845266580581665, time spent: 5.64 minutes\n",
      "Progress: 52.23%, loss: 5.553627252578735, time spent: 5.66 minutes\n",
      "Progress: 52.46%, loss: 5.567178189754486, time spent: 5.69 minutes\n",
      "Progress: 52.69%, loss: 5.585410952568054, time spent: 5.71 minutes\n",
      "Progress: 52.93%, loss: 5.579074382781982, time spent: 5.74 minutes\n",
      "Progress: 53.16%, loss: 5.559587895870209, time spent: 5.76 minutes\n",
      "Progress: 53.40%, loss: 5.539215385913849, time spent: 5.78 minutes\n",
      "Progress: 53.63%, loss: 5.583179414272308, time spent: 5.81 minutes\n",
      "Progress: 53.87%, loss: 5.5943145751953125, time spent: 5.84 minutes\n",
      "Progress: 54.10%, loss: 5.558576941490173, time spent: 5.86 minutes\n",
      "Progress: 54.33%, loss: 5.566473960876465, time spent: 5.88 minutes\n",
      "Progress: 54.57%, loss: 5.545639216899872, time spent: 5.91 minutes\n",
      "Progress: 54.80%, loss: 5.572099804878235, time spent: 5.94 minutes\n",
      "Progress: 55.04%, loss: 5.550464689731598, time spent: 5.96 minutes\n",
      "Progress: 55.27%, loss: 5.563287377357483, time spent: 5.98 minutes\n",
      "Progress: 55.51%, loss: 5.546027481555939, time spent: 6.01 minutes\n",
      "Progress: 55.74%, loss: 5.555806457996368, time spent: 6.03 minutes\n",
      "Progress: 55.98%, loss: 5.54102897644043, time spent: 6.06 minutes\n",
      "Progress: 56.21%, loss: 5.531642019748688, time spent: 6.08 minutes\n",
      "Progress: 56.44%, loss: 5.538014709949493, time spent: 6.11 minutes\n",
      "Progress: 56.68%, loss: 5.526496469974518, time spent: 6.13 minutes\n"
     ]
    },
    {
     "name": "stdout",
     "output_type": "stream",
     "text": [
      "Progress: 56.91%, loss: 5.555975437164307, time spent: 6.15 minutes\n",
      "Progress: 57.15%, loss: 5.521584749221802, time spent: 6.18 minutes\n",
      "Progress: 57.38%, loss: 5.5516839027404785, time spent: 6.20 minutes\n",
      "Progress: 57.62%, loss: 5.575553715229034, time spent: 6.22 minutes\n",
      "Progress: 57.85%, loss: 5.533019781112671, time spent: 6.25 minutes\n",
      "Progress: 58.08%, loss: 5.5176544189453125, time spent: 6.27 minutes\n",
      "Progress: 58.32%, loss: 5.537943720817566, time spent: 6.29 minutes\n",
      "Progress: 58.55%, loss: 5.548094153404236, time spent: 6.32 minutes\n",
      "Progress: 58.79%, loss: 5.528457343578339, time spent: 6.34 minutes\n",
      "Progress: 59.02%, loss: 5.540266156196594, time spent: 6.37 minutes\n",
      "Progress: 59.26%, loss: 5.517783045768738, time spent: 6.39 minutes\n",
      "Progress: 59.49%, loss: 5.53300416469574, time spent: 6.41 minutes\n",
      "Progress: 59.72%, loss: 5.539588034152985, time spent: 6.43 minutes\n",
      "Progress: 59.96%, loss: 5.524841487407684, time spent: 6.46 minutes\n",
      "Progress: 60.19%, loss: 5.567280292510986, time spent: 6.48 minutes\n",
      "Progress: 60.43%, loss: 5.56175023317337, time spent: 6.51 minutes\n",
      "Progress: 60.66%, loss: 5.580998122692108, time spent: 6.53 minutes\n",
      "Progress: 60.90%, loss: 5.539778649806976, time spent: 6.56 minutes\n",
      "Progress: 61.13%, loss: 5.5453415513038635, time spent: 6.59 minutes\n",
      "Progress: 61.36%, loss: 5.578121066093445, time spent: 6.61 minutes\n",
      "Progress: 61.60%, loss: 5.543750643730164, time spent: 6.64 minutes\n",
      "Progress: 61.83%, loss: 5.543321192264557, time spent: 6.66 minutes\n",
      "Progress: 62.07%, loss: 5.553513288497925, time spent: 6.69 minutes\n",
      "Progress: 62.30%, loss: 5.566574037075043, time spent: 6.71 minutes\n",
      "Progress: 62.54%, loss: 5.540870010852814, time spent: 6.74 minutes\n",
      "Progress: 62.77%, loss: 5.515748381614685, time spent: 6.76 minutes\n",
      "Progress: 63.00%, loss: 5.511256277561188, time spent: 6.78 minutes\n",
      "Progress: 63.24%, loss: 5.546181499958038, time spent: 6.81 minutes\n",
      "Progress: 63.47%, loss: 5.539404034614563, time spent: 6.84 minutes\n",
      "Progress: 63.71%, loss: 5.5478620529174805, time spent: 6.86 minutes\n",
      "Progress: 63.94%, loss: 5.521638751029968, time spent: 6.88 minutes\n",
      "Progress: 64.18%, loss: 5.553769111633301, time spent: 6.91 minutes\n",
      "Progress: 64.41%, loss: 5.553455173969269, time spent: 6.93 minutes\n",
      "Progress: 64.64%, loss: 5.500550806522369, time spent: 6.96 minutes\n",
      "Progress: 64.88%, loss: 5.550392925739288, time spent: 6.98 minutes\n",
      "Progress: 65.11%, loss: 5.539759159088135, time spent: 7.01 minutes\n",
      "Progress: 65.35%, loss: 5.538035213947296, time spent: 7.03 minutes\n",
      "Progress: 65.58%, loss: 5.524757444858551, time spent: 7.06 minutes\n",
      "Progress: 65.82%, loss: 5.52161705493927, time spent: 7.08 minutes\n",
      "Progress: 66.05%, loss: 5.53425270318985, time spent: 7.11 minutes\n",
      "Progress: 66.28%, loss: 5.5326151847839355, time spent: 7.13 minutes\n",
      "Progress: 66.52%, loss: 5.507533490657806, time spent: 7.16 minutes\n",
      "Progress: 66.75%, loss: 5.515736162662506, time spent: 7.18 minutes\n",
      "Progress: 66.99%, loss: 5.533617615699768, time spent: 7.20 minutes\n",
      "Progress: 67.22%, loss: 5.503844320774078, time spent: 7.23 minutes\n",
      "Progress: 67.46%, loss: 5.507695496082306, time spent: 7.25 minutes\n",
      "Progress: 67.69%, loss: 5.516350567340851, time spent: 7.28 minutes\n",
      "Progress: 67.93%, loss: 5.515063107013702, time spent: 7.30 minutes\n",
      "Progress: 68.16%, loss: 5.502632975578308, time spent: 7.33 minutes\n",
      "Progress: 68.39%, loss: 5.50960510969162, time spent: 7.35 minutes\n",
      "Progress: 68.63%, loss: 5.509607970714569, time spent: 7.37 minutes\n",
      "Progress: 68.86%, loss: 5.5196884870529175, time spent: 7.40 minutes\n",
      "Progress: 69.10%, loss: 5.478546857833862, time spent: 7.42 minutes\n",
      "Progress: 69.33%, loss: 5.521563947200775, time spent: 7.44 minutes\n",
      "Progress: 69.57%, loss: 5.530984878540039, time spent: 7.47 minutes\n",
      "Progress: 69.80%, loss: 5.499261796474457, time spent: 7.49 minutes\n",
      "Progress: 70.03%, loss: 5.512260258197784, time spent: 7.52 minutes\n",
      "Progress: 70.27%, loss: 5.511992037296295, time spent: 7.54 minutes\n",
      "Progress: 70.50%, loss: 5.508474230766296, time spent: 7.56 minutes\n",
      "Progress: 70.74%, loss: 5.496047735214233, time spent: 7.59 minutes\n",
      "Progress: 70.97%, loss: 5.522265017032623, time spent: 7.61 minutes\n",
      "Progress: 71.21%, loss: 5.530091643333435, time spent: 7.64 minutes\n",
      "Progress: 71.44%, loss: 5.54540890455246, time spent: 7.66 minutes\n",
      "Progress: 71.67%, loss: 5.566408574581146, time spent: 7.69 minutes\n",
      "Progress: 71.91%, loss: 5.541171312332153, time spent: 7.71 minutes\n",
      "Progress: 72.14%, loss: 5.513314664363861, time spent: 7.74 minutes\n",
      "Progress: 72.38%, loss: 5.563413143157959, time spent: 7.76 minutes\n",
      "Progress: 72.61%, loss: 5.5586525201797485, time spent: 7.79 minutes\n",
      "Progress: 72.85%, loss: 5.524692952632904, time spent: 7.81 minutes\n",
      "Progress: 73.08%, loss: 5.546549916267395, time spent: 7.83 minutes\n",
      "Progress: 73.31%, loss: 5.530053734779358, time spent: 7.86 minutes\n",
      "Progress: 73.55%, loss: 5.519158840179443, time spent: 7.89 minutes\n",
      "Progress: 73.78%, loss: 5.522901654243469, time spent: 7.91 minutes\n",
      "Progress: 74.02%, loss: 5.518480896949768, time spent: 7.93 minutes\n",
      "Progress: 74.25%, loss: 5.530028522014618, time spent: 7.96 minutes\n",
      "Progress: 74.49%, loss: 5.525002479553223, time spent: 7.98 minutes\n",
      "Progress: 74.72%, loss: 5.519255101680756, time spent: 8.00 minutes\n",
      "Progress: 74.95%, loss: 5.5306795835494995, time spent: 8.03 minutes\n",
      "Progress: 75.19%, loss: 5.543869078159332, time spent: 8.05 minutes\n",
      "Progress: 75.42%, loss: 5.530099987983704, time spent: 8.08 minutes\n",
      "Progress: 75.66%, loss: 5.521209001541138, time spent: 8.10 minutes\n",
      "Progress: 75.89%, loss: 5.500954329967499, time spent: 8.12 minutes\n",
      "Progress: 76.13%, loss: 5.527362585067749, time spent: 8.15 minutes\n",
      "Progress: 76.36%, loss: 5.507332384586334, time spent: 8.17 minutes\n",
      "Progress: 76.59%, loss: 5.521446228027344, time spent: 8.20 minutes\n",
      "Progress: 76.83%, loss: 5.486978352069855, time spent: 8.22 minutes\n",
      "Progress: 77.06%, loss: 5.51736855506897, time spent: 8.24 minutes\n",
      "Progress: 77.30%, loss: 5.492189884185791, time spent: 8.27 minutes\n",
      "Progress: 77.53%, loss: 5.501783072948456, time spent: 8.29 minutes\n",
      "Progress: 77.77%, loss: 5.4991103410720825, time spent: 8.31 minutes\n",
      "Progress: 78.00%, loss: 5.487611949443817, time spent: 8.33 minutes\n",
      "Progress: 78.23%, loss: 5.516760766506195, time spent: 8.36 minutes\n",
      "Progress: 78.47%, loss: 5.499817490577698, time spent: 8.39 minutes\n",
      "Progress: 78.70%, loss: 5.477934837341309, time spent: 8.41 minutes\n",
      "Progress: 78.94%, loss: 5.496964812278748, time spent: 8.43 minutes\n",
      "Progress: 79.17%, loss: 5.507206380367279, time spent: 8.46 minutes\n",
      "Progress: 79.41%, loss: 5.511456668376923, time spent: 8.48 minutes\n",
      "Progress: 79.64%, loss: 5.4864800572395325, time spent: 8.51 minutes\n",
      "Progress: 79.88%, loss: 5.532411694526672, time spent: 8.53 minutes\n",
      "Progress: 80.11%, loss: 5.512740671634674, time spent: 8.55 minutes\n",
      "Progress: 80.34%, loss: 5.516225874423981, time spent: 8.58 minutes\n",
      "Progress: 80.58%, loss: 5.492960810661316, time spent: 8.61 minutes\n",
      "Progress: 80.81%, loss: 5.490304589271545, time spent: 8.63 minutes\n",
      "Progress: 81.05%, loss: 5.49738085269928, time spent: 8.65 minutes\n",
      "Progress: 81.28%, loss: 5.490166127681732, time spent: 8.68 minutes\n",
      "Progress: 81.52%, loss: 5.475148677825928, time spent: 8.70 minutes\n",
      "Progress: 81.75%, loss: 5.483074724674225, time spent: 8.72 minutes\n",
      "Progress: 81.98%, loss: 5.489531874656677, time spent: 8.75 minutes\n",
      "Progress: 82.22%, loss: 5.4706093072891235, time spent: 8.77 minutes\n",
      "Progress: 82.45%, loss: 5.4902215003967285, time spent: 8.79 minutes\n",
      "Progress: 82.69%, loss: 5.492474138736725, time spent: 8.81 minutes\n",
      "Progress: 82.92%, loss: 5.4722126722335815, time spent: 8.83 minutes\n",
      "Progress: 83.16%, loss: 5.485964596271515, time spent: 8.86 minutes\n",
      "Progress: 83.39%, loss: 5.463982462882996, time spent: 8.88 minutes\n",
      "Progress: 83.62%, loss: 5.509806215763092, time spent: 8.91 minutes\n",
      "Progress: 83.86%, loss: 5.490888476371765, time spent: 8.93 minutes\n",
      "Progress: 84.09%, loss: 5.478556990623474, time spent: 8.96 minutes\n",
      "Progress: 84.33%, loss: 5.480949223041534, time spent: 8.98 minutes\n",
      "Progress: 84.56%, loss: 5.460330784320831, time spent: 9.00 minutes\n",
      "Progress: 84.80%, loss: 5.4745712876319885, time spent: 9.02 minutes\n",
      "Progress: 85.03%, loss: 5.4738709926605225, time spent: 9.05 minutes\n"
     ]
    },
    {
     "name": "stdout",
     "output_type": "stream",
     "text": [
      "Progress: 85.26%, loss: 5.468327224254608, time spent: 9.07 minutes\n",
      "Progress: 85.50%, loss: 5.4707701206207275, time spent: 9.10 minutes\n",
      "Progress: 85.73%, loss: 5.485219180583954, time spent: 9.12 minutes\n",
      "Progress: 85.97%, loss: 5.483734667301178, time spent: 9.15 minutes\n",
      "Progress: 86.20%, loss: 5.459732532501221, time spent: 9.18 minutes\n",
      "Progress: 86.44%, loss: 5.474990785121918, time spent: 9.21 minutes\n",
      "Progress: 86.67%, loss: 5.467093288898468, time spent: 9.24 minutes\n",
      "Progress: 86.90%, loss: 5.482731521129608, time spent: 9.26 minutes\n",
      "Progress: 87.14%, loss: 5.449171185493469, time spent: 9.29 minutes\n",
      "Progress: 87.37%, loss: 5.506433069705963, time spent: 9.31 minutes\n",
      "Progress: 87.61%, loss: 5.474856436252594, time spent: 9.34 minutes\n",
      "Progress: 87.84%, loss: 5.460786998271942, time spent: 9.37 minutes\n",
      "Progress: 88.08%, loss: 5.4707836508750916, time spent: 9.40 minutes\n",
      "Progress: 88.31%, loss: 5.462345600128174, time spent: 9.43 minutes\n",
      "Progress: 88.54%, loss: 5.472215950489044, time spent: 9.45 minutes\n",
      "Progress: 88.78%, loss: 5.457431972026825, time spent: 9.48 minutes\n",
      "Progress: 89.01%, loss: 5.4578118324279785, time spent: 9.51 minutes\n",
      "Progress: 89.25%, loss: 5.474577903747559, time spent: 9.53 minutes\n",
      "Progress: 89.48%, loss: 5.461014091968536, time spent: 9.56 minutes\n",
      "Progress: 89.72%, loss: 5.464801132678986, time spent: 9.59 minutes\n",
      "Progress: 89.95%, loss: 5.449973523616791, time spent: 9.61 minutes\n",
      "Progress: 90.18%, loss: 5.470056354999542, time spent: 9.64 minutes\n",
      "Progress: 90.42%, loss: 5.458402156829834, time spent: 9.67 minutes\n",
      "Progress: 90.65%, loss: 5.450604259967804, time spent: 9.69 minutes\n",
      "Progress: 90.89%, loss: 5.4538915157318115, time spent: 9.72 minutes\n",
      "Progress: 91.12%, loss: 5.488576948642731, time spent: 9.75 minutes\n",
      "Progress: 91.36%, loss: 5.45672482252121, time spent: 9.77 minutes\n",
      "Progress: 91.59%, loss: 5.455381751060486, time spent: 9.80 minutes\n",
      "Progress: 91.83%, loss: 5.471183001995087, time spent: 9.83 minutes\n",
      "Progress: 92.06%, loss: 5.4537657499313354, time spent: 9.86 minutes\n",
      "Progress: 92.29%, loss: 5.464920699596405, time spent: 9.89 minutes\n",
      "Progress: 92.53%, loss: 5.443974256515503, time spent: 9.91 minutes\n",
      "Progress: 92.76%, loss: 5.44211220741272, time spent: 9.94 minutes\n",
      "Progress: 93.00%, loss: 5.469843804836273, time spent: 9.97 minutes\n",
      "Progress: 93.23%, loss: 5.453819930553436, time spent: 10.00 minutes\n",
      "Progress: 93.47%, loss: 5.4731080532073975, time spent: 10.03 minutes\n",
      "Progress: 93.70%, loss: 5.47080135345459, time spent: 10.05 minutes\n",
      "Progress: 93.93%, loss: 5.4702258706092834, time spent: 10.08 minutes\n",
      "Progress: 94.17%, loss: 5.490548491477966, time spent: 10.11 minutes\n",
      "Progress: 94.40%, loss: 5.456464529037476, time spent: 10.13 minutes\n",
      "Progress: 94.64%, loss: 5.448730289936066, time spent: 10.16 minutes\n",
      "Progress: 94.87%, loss: 5.462458074092865, time spent: 10.19 minutes\n",
      "Progress: 95.11%, loss: 5.452068984508514, time spent: 10.22 minutes\n",
      "Progress: 95.34%, loss: 5.464138507843018, time spent: 10.24 minutes\n",
      "Progress: 95.57%, loss: 5.473035275936127, time spent: 10.27 minutes\n",
      "Progress: 95.81%, loss: 5.436502397060394, time spent: 10.30 minutes\n",
      "Progress: 96.04%, loss: 5.447492837905884, time spent: 10.32 minutes\n",
      "Progress: 96.28%, loss: 5.445873975753784, time spent: 10.35 minutes\n",
      "Progress: 96.51%, loss: 5.4682817459106445, time spent: 10.37 minutes\n",
      "Progress: 96.75%, loss: 5.471729636192322, time spent: 10.40 minutes\n",
      "Progress: 96.98%, loss: 5.430826127529144, time spent: 10.43 minutes\n",
      "Progress: 97.21%, loss: 5.442472040653229, time spent: 10.46 minutes\n",
      "Progress: 97.45%, loss: 5.457946419715881, time spent: 10.49 minutes\n",
      "Progress: 97.68%, loss: 5.444591462612152, time spent: 10.51 minutes\n",
      "Progress: 97.92%, loss: 5.46161949634552, time spent: 10.54 minutes\n",
      "Progress: 98.15%, loss: 5.437398195266724, time spent: 10.57 minutes\n",
      "Progress: 98.39%, loss: 5.465951383113861, time spent: 10.59 minutes\n",
      "Progress: 98.62%, loss: 5.46432363986969, time spent: 10.62 minutes\n",
      "Progress: 98.85%, loss: 5.470562100410461, time spent: 10.65 minutes\n",
      "Progress: 99.09%, loss: 5.431896150112152, time spent: 10.67 minutes\n",
      "Progress: 99.32%, loss: 5.431890606880188, time spent: 10.70 minutes\n",
      "Progress: 99.56%, loss: 5.431298315525055, time spent: 10.73 minutes\n",
      "Progress: 99.79%, loss: 5.4477333426475525, time spent: 10.76 minutes\n",
      "Finish training, time spent: 10.78 minutes\n"
     ]
    }
   ],
   "source": [
    "encoder, predictor, loss = train(dataset, feature_enc_len, num_iter, N, learning_rate, device, path_enc_type, feature_enc_type)"
   ]
  },
  {
   "cell_type": "markdown",
   "metadata": {},
   "source": [
    "### Test model"
   ]
  },
  {
   "cell_type": "code",
   "execution_count": 12,
   "metadata": {
    "pycharm": {
     "name": "#%%\n"
    }
   },
   "outputs": [
    {
     "name": "stdout",
     "output_type": "stream",
     "text": [
      "Start testing\n",
      "Test accuracy: 0.6693777958519723, recall: 0.7066666666666667, precision: 0.6723880597014925, f1: 0.6891013384321224\n"
     ]
    }
   ],
   "source": [
    "config = [feature_enc_len, feature_enc_type, path_enc_type, N, num_epoch]\n",
    "test(dataset, encoder, predictor, loss, config)"
   ]
  },
  {
   "cell_type": "markdown",
   "metadata": {},
   "source": [
    "### Plot training loss VS iteration"
   ]
  },
  {
   "cell_type": "code",
   "execution_count": 13,
   "metadata": {},
   "outputs": [
    {
     "data": {
      "image/png": "[encoded data removed]",
      "text/plain": [
       "<Figure size 432x288 with 1 Axes>"
      ]
     },
     "metadata": {
      "needs_background": "light"
     },
     "output_type": "display_data"
    }
   ],
   "source": [
    "df = pd.read_csv(\"train.log\")\n",
    "df.epoch += 1\n",
    "fig, ax = plt.subplots()\n",
    "ax.plot(df['epoch'], df['loss'])\n",
    "\n",
    "ax.set(xlabel='Number of epochs', ylabel='Training Loss',\n",
    "       title='Loss VS Epochs')\n",
    "ax.grid()\n",
    "plt.show()"
   ]
  },
  {
   "cell_type": "markdown",
   "metadata": {
    "pycharm": {
     "name": "#%% md\n"
    }
   },
   "source": [
    "### Error Analysis"
   ]
  },
  {
   "cell_type": "code",
   "execution_count": null,
   "metadata": {
    "pycharm": {
     "name": "#%%\n"
    }
   },
   "outputs": [],
   "source": []
  }
 ],
 "metadata": {
  "kernelspec": {
   "display_name": "Python 3 (ipykernel)",
   "language": "python",
   "name": "python3"
  },
  "language_info": {
   "codemirror_mode": {
    "name": "ipython",
    "version": 3
   },
   "file_extension": ".py",
   "mimetype": "text/x-python",
   "name": "python",
   "nbconvert_exporter": "python",
   "pygments_lexer": "ipython3",
   "version": "3.9.7"
  }
 },
 "nbformat": 4,
 "nbformat_minor": 1
}